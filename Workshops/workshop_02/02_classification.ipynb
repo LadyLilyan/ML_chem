{
  "cells": [
    {
      "cell_type": "markdown",
      "id": "d06de947",
      "metadata": {
        "id": "d06de947"
      },
      "source": [
        "# Classification of Molecular Dynamics Simulations Data\n",
        "\n",
        "<a rel=\"license\" href=\"https://creativecommons.org/licenses/by/4.0/\"><img alt=\"Creative Commons Licence\" style=\"width=50\" src=\"https://licensebuttons.net/l/by/4.0/88x31.png\" title='This work is licensed under a Creative Commons Attribution 4.0 International License.' align=\"right\"/></a>\n",
        "\n",
        "**Authors**:\n",
        "- Dr Antonia Mey (antonia.mey@ed.ac.uk)\n",
        "- Dr Matteo Degiacomi (matteo.t.degiacomi@durham.ac.uk)"
      ]
    },
    {
      "cell_type": "markdown",
      "id": "48f869de",
      "metadata": {
        "id": "48f869de"
      },
      "source": [
        "**Learning Objectives**:\n",
        "* Using MDAnalysis to extract features from molecular dynamics simulations featuring different states,\n",
        "* Using scikit-learn to classify conformations in different states according to the extracted features."
      ]
    },
    {
      "cell_type": "markdown",
      "id": "baca1068",
      "metadata": {
        "id": "baca1068"
      },
      "source": [
        "**Jupyter cheat sheet**:\n",
        "* to run the currently highlighted cell, hold <kbd>&#x21E7; Shift</kbd> and press <kbd>&#x23ce; Enter</kbd>;\n",
        "* to get help for a specific function, place the cursor within the function's brackets, hold <kbd>&#x21E7; Shift</kbd>, and press <kbd>&#x21E5; Tab</kbd>;"
      ]
    },
    {
      "cell_type": "markdown",
      "id": "e3071838",
      "metadata": {
        "id": "e3071838"
      },
      "source": [
        "## Google Colab package installs\n",
        "\n",
        "<div class=\"alert alert-warning\">\n",
        "The following cell install necessary packages and downloads data if you are running this tutorial using Google Colab.<br>\n",
        "<b><i>Run this cell only if you are using Google Colab!</i></b></div>"
      ]
    },
    {
      "cell_type": "code",
      "execution_count": 1,
      "id": "807a180f",
      "metadata": {
        "colab": {
          "base_uri": "https://localhost:8080/"
        },
        "id": "807a180f",
        "outputId": "14aadcdf-28bc-45a2-9c29-13484bb269a2"
      },
      "outputs": [
        {
          "output_type": "stream",
          "name": "stdout",
          "text": [
            "Collecting condacolab\n",
            "  Using cached condacolab-0.1.10-py3-none-any.whl.metadata (5.5 kB)\n",
            "Using cached condacolab-0.1.10-py3-none-any.whl (7.2 kB)\n",
            "Installing collected packages: condacolab\n",
            "Successfully installed condacolab-0.1.10\n",
            "✨🍰✨ Everything looks OK!\n",
            "✨🍰✨ Everything looks OK!\n",
            "\n",
            "Looking for: ['mdanalysis', 'mdanalysistests', 'mdanalysisdata', 'nglview', 'scikit-learn', 'ipywidgets=7.6.0']\n",
            "\n",
            "\u001b[?25l\u001b[2K\u001b[0G[+] 0.0s\n",
            "conda-forge/linux-64  ⣾  \u001b[2K\u001b[1A\u001b[2K\u001b[0G[+] 0.1s\n",
            "conda-forge/linux-64  ⣾  \n",
            "conda-forge/noarch    ⣾  \u001b[2K\u001b[1A\u001b[2K\u001b[1A\u001b[2K\u001b[0G[+] 0.2s\n",
            "conda-forge/linux-64   2%\n",
            "conda-forge/noarch     4%\u001b[2K\u001b[1A\u001b[2K\u001b[1A\u001b[2K\u001b[0G[+] 0.3s\n",
            "conda-forge/linux-64   5%\n",
            "conda-forge/noarch    25%\u001b[2K\u001b[1A\u001b[2K\u001b[1A\u001b[2K\u001b[0G[+] 0.4s\n",
            "conda-forge/linux-64  11%\n",
            "conda-forge/noarch    49%\u001b[2K\u001b[1A\u001b[2K\u001b[1A\u001b[2K\u001b[0G[+] 0.5s\n",
            "conda-forge/linux-64  15%\n",
            "conda-forge/noarch    58%\u001b[2K\u001b[1A\u001b[2K\u001b[1A\u001b[2K\u001b[0G[+] 0.6s\n",
            "conda-forge/linux-64  16%\n",
            "conda-forge/noarch    79%\u001b[2K\u001b[1A\u001b[2K\u001b[1A\u001b[2K\u001b[0Gconda-forge/noarch                                \n",
            "[+] 0.7s\n",
            "conda-forge/linux-64  19%\u001b[2K\u001b[1A\u001b[2K\u001b[0G[+] 0.8s\n",
            "conda-forge/linux-64  26%\u001b[2K\u001b[1A\u001b[2K\u001b[0G[+] 0.9s\n",
            "conda-forge/linux-64  35%\u001b[2K\u001b[1A\u001b[2K\u001b[0G[+] 1.0s\n",
            "conda-forge/linux-64  48%\u001b[2K\u001b[1A\u001b[2K\u001b[0G[+] 1.1s\n",
            "conda-forge/linux-64  57%\u001b[2K\u001b[1A\u001b[2K\u001b[0G[+] 1.2s\n",
            "conda-forge/linux-64  69%\u001b[2K\u001b[1A\u001b[2K\u001b[0G[+] 1.3s\n",
            "conda-forge/linux-64  82%\u001b[2K\u001b[1A\u001b[2K\u001b[0G[+] 1.4s\n",
            "conda-forge/linux-64  94%\u001b[2K\u001b[1A\u001b[2K\u001b[0Gconda-forge/linux-64                              \n",
            "\u001b[?25h\n",
            "Pinned packages:\n",
            "  - python 3.11.*\n",
            "  - python 3.11.*\n",
            "  - python_abi 3.11.* *cp311*\n",
            "  - cuda-version 12.*\n",
            "\n",
            "\n",
            "Transaction\n",
            "\n",
            "  Prefix: /usr/local\n",
            "\n",
            "  Updating specs:\n",
            "\n",
            "   - mdanalysis\n",
            "   - mdanalysistests\n",
            "   - mdanalysisdata\n",
            "   - nglview\n",
            "   - scikit-learn\n",
            "   - ipywidgets=7.6.0\n",
            "   - ca-certificates\n",
            "   - certifi\n",
            "   - openssl\n",
            "\n",
            "\n",
            "  Package                                 Version  Build                    Channel           Size\n",
            "────────────────────────────────────────────────────────────────────────────────────────────────────\n",
            "  Install:\n",
            "────────────────────────────────────────────────────────────────────────────────────────────────────\n",
            "\n",
            "  \u001b[32m+ mdanalysisdata               \u001b[0m           0.9.0  pyhd8ed1ab_1             conda-forge       28kB\n",
            "  \u001b[32m+ jupyterlab_widgets           \u001b[0m          3.0.15  pyhd8ed1ab_0             conda-forge      189kB\n",
            "  \u001b[32m+ click                        \u001b[0m           8.2.1  pyh707e725_0             conda-forge       88kB\n",
            "  \u001b[32m+ sortedcontainers             \u001b[0m           2.4.0  pyhd8ed1ab_1             conda-forge       29kB\n",
            "  \u001b[32m+ attrs                        \u001b[0m          25.3.0  pyh71513ae_0             conda-forge       57kB\n",
            "  \u001b[32m+ typing_extensions            \u001b[0m          4.13.2  pyh29332c3_0             conda-forge       52kB\n",
            "  \u001b[32m+ traitlets                    \u001b[0m          5.14.3  pyhd8ed1ab_1             conda-forge      110kB\n",
            "  \u001b[32m+ joblib                       \u001b[0m           1.5.1  pyhd8ed1ab_0             conda-forge      224kB\n",
            "  \u001b[32m+ threadpoolctl                \u001b[0m           3.6.0  pyhecae5ae_0             conda-forge       24kB\n",
            "  \u001b[32m+ filelock                     \u001b[0m          3.18.0  pyhd8ed1ab_0             conda-forge       18kB\n",
            "  \u001b[32m+ networkx                     \u001b[0m           3.4.2  pyh267e887_2             conda-forge        1MB\n",
            "  \u001b[32m+ mda-xdrlib                   \u001b[0m           0.2.0  pyhd8ed1ab_1             conda-forge       17kB\n",
            "  \u001b[32m+ cycler                       \u001b[0m          0.12.1  pyhd8ed1ab_1             conda-forge       13kB\n",
            "  \u001b[32m+ pyparsing                    \u001b[0m           3.2.3  pyhd8ed1ab_1             conda-forge       96kB\n",
            "  \u001b[32m+ munkres                      \u001b[0m           1.1.4  pyh9f0ad1d_0             conda-forge       12kB\n",
            "  \u001b[32m+ six                          \u001b[0m          1.17.0  pyhd8ed1ab_0             conda-forge       16kB\n",
            "  \u001b[32m+ iniconfig                    \u001b[0m           2.0.0  pyhd8ed1ab_1             conda-forge       11kB\n",
            "  \u001b[32m+ tomli                        \u001b[0m           2.2.1  pyhd8ed1ab_1             conda-forge       19kB\n",
            "  \u001b[32m+ python-fastjsonschema        \u001b[0m          2.21.1  pyhd8ed1ab_0             conda-forge      226kB\n",
            "  \u001b[32m+ json5                        \u001b[0m          0.12.0  pyhd8ed1ab_0             conda-forge       34kB\n",
            "  \u001b[32m+ prometheus_client            \u001b[0m          0.22.0  pyhd8ed1ab_0             conda-forge       54kB\n",
            "  \u001b[32m+ rfc3986-validator            \u001b[0m           0.1.1  pyh9f0ad1d_0             conda-forge        8kB\n",
            "  \u001b[32m+ send2trash                   \u001b[0m           1.8.3  pyh0d859eb_1             conda-forge       23kB\n",
            "  \u001b[32m+ websocket-client             \u001b[0m           1.8.0  pyhd8ed1ab_1             conda-forge       47kB\n",
            "  \u001b[32m+ python-json-logger           \u001b[0m           2.0.7  pyhd8ed1ab_0             conda-forge       13kB\n",
            "  \u001b[32m+ uri-template                 \u001b[0m           1.3.0  pyhd8ed1ab_1             conda-forge       24kB\n",
            "  \u001b[32m+ webcolors                    \u001b[0m         24.11.1  pyhd8ed1ab_0             conda-forge       18kB\n",
            "  \u001b[32m+ pkgutil-resolve-name         \u001b[0m          1.3.10  pyhd8ed1ab_2             conda-forge       11kB\n",
            "  \u001b[32m+ pygments                     \u001b[0m          2.19.1  pyhd8ed1ab_0             conda-forge      889kB\n",
            "  \u001b[32m+ decorator                    \u001b[0m           5.2.1  pyhd8ed1ab_0             conda-forge       14kB\n",
            "  \u001b[32m+ pickleshare                  \u001b[0m           0.7.5  pyhd8ed1ab_1004          conda-forge       12kB\n",
            "  \u001b[32m+ nest-asyncio                 \u001b[0m           1.6.0  pyhd8ed1ab_1             conda-forge       12kB\n",
            "  \u001b[32m+ zipp                         \u001b[0m          3.22.0  pyhd8ed1ab_0             conda-forge       23kB\n",
            "  \u001b[32m+ sniffio                      \u001b[0m           1.3.1  pyhd8ed1ab_1             conda-forge       15kB\n",
            "  \u001b[32m+ pytz                         \u001b[0m          2025.2  pyhd8ed1ab_0             conda-forge      189kB\n",
            "  \u001b[32m+ types-python-dateutil        \u001b[0m  2.9.0.20250516  pyhd8ed1ab_0             conda-forge       23kB\n",
            "  \u001b[32m+ cached_property              \u001b[0m           1.5.2  pyha770c72_1             conda-forge       11kB\n",
            "  \u001b[32m+ python-tzdata                \u001b[0m          2025.2  pyhd8ed1ab_0             conda-forge      144kB\n",
            "  \u001b[32m+ ptyprocess                   \u001b[0m           0.7.0  pyhd8ed1ab_1             conda-forge       19kB\n",
            "  \u001b[32m+ asttokens                    \u001b[0m           3.0.0  pyhd8ed1ab_1             conda-forge       28kB\n",
            "  \u001b[32m+ executing                    \u001b[0m           2.2.0  pyhd8ed1ab_0             conda-forge       30kB\n",
            "  \u001b[32m+ pure_eval                    \u001b[0m           0.2.3  pyhd8ed1ab_1             conda-forge       17kB\n",
            "  \u001b[32m+ wcwidth                      \u001b[0m          0.2.13  pyhd8ed1ab_1             conda-forge       33kB\n",
            "  \u001b[32m+ typing_utils                 \u001b[0m           0.1.0  pyhd8ed1ab_1             conda-forge       15kB\n",
            "  \u001b[32m+ defusedxml                   \u001b[0m           0.7.1  pyhd8ed1ab_0             conda-forge       24kB\n",
            "  \u001b[32m+ pandocfilters                \u001b[0m           1.5.0  pyhd8ed1ab_0             conda-forge       12kB\n",
            "  \u001b[32m+ parso                        \u001b[0m           0.8.4  pyhd8ed1ab_1             conda-forge       75kB\n",
            "  \u001b[32m+ webencodings                 \u001b[0m           0.5.1  pyhd8ed1ab_3             conda-forge       15kB\n",
            "  \u001b[32m+ soupsieve                    \u001b[0m             2.7  pyhd8ed1ab_0             conda-forge       38kB\n",
            "  \u001b[32m+ mistune                      \u001b[0m           3.1.3  pyh29332c3_0             conda-forge       73kB\n",
            "  \u001b[32m+ h11                          \u001b[0m          0.16.0  pyhd8ed1ab_0             conda-forge       38kB\n",
            "  \u001b[32m+ typing-extensions            \u001b[0m          4.13.2  h0e9735f_0               conda-forge       90kB\n",
            "  \u001b[32m+ async-lru                    \u001b[0m           2.0.5  pyh29332c3_0             conda-forge       17kB\n",
            "  \u001b[32m+ exceptiongroup               \u001b[0m           1.3.0  pyhd8ed1ab_0             conda-forge       21kB\n",
            "  \u001b[32m+ comm                         \u001b[0m           0.2.2  pyhd8ed1ab_1             conda-forge       12kB\n",
            "  \u001b[32m+ matplotlib-inline            \u001b[0m           0.1.7  pyhd8ed1ab_1             conda-forge       14kB\n",
            "  \u001b[32m+ jupyter_core                 \u001b[0m           5.8.1  pyh31011fe_0             conda-forge       60kB\n",
            "  \u001b[32m+ rfc3339-validator            \u001b[0m           0.1.4  pyhd8ed1ab_1             conda-forge       10kB\n",
            "  \u001b[32m+ python-dateutil              \u001b[0m     2.9.0.post0  pyhff2d567_1             conda-forge      223kB\n",
            "  \u001b[32m+ jupyterlab_pygments          \u001b[0m           0.3.0  pyhd8ed1ab_2             conda-forge       19kB\n",
            "  \u001b[32m+ ipython_pygments_lexers      \u001b[0m           1.1.1  pyhd8ed1ab_0             conda-forge       14kB\n",
            "  \u001b[32m+ importlib_resources          \u001b[0m           6.5.2  pyhd8ed1ab_0             conda-forge       34kB\n",
            "  \u001b[32m+ importlib-metadata           \u001b[0m           8.7.0  pyhe01879c_1             conda-forge       35kB\n",
            "  \u001b[32m+ babel                        \u001b[0m          2.17.0  pyhd8ed1ab_0             conda-forge        7MB\n",
            "  \u001b[32m+ cached-property              \u001b[0m           1.5.2  hd8ed1ab_1               conda-forge        4kB\n",
            "  \u001b[32m+ pexpect                      \u001b[0m           4.9.0  pyhd8ed1ab_1             conda-forge       54kB\n",
            "  \u001b[32m+ stack_data                   \u001b[0m           0.6.3  pyhd8ed1ab_1             conda-forge       27kB\n",
            "  \u001b[32m+ prompt-toolkit               \u001b[0m          3.0.51  pyha770c72_0             conda-forge      272kB\n",
            "  \u001b[32m+ overrides                    \u001b[0m           7.7.0  pyhd8ed1ab_1             conda-forge       30kB\n",
            "  \u001b[32m+ jedi                         \u001b[0m          0.19.2  pyhd8ed1ab_1             conda-forge      844kB\n",
            "  \u001b[32m+ tinycss2                     \u001b[0m           1.4.0  pyhd8ed1ab_0             conda-forge       28kB\n",
            "  \u001b[32m+ bleach                       \u001b[0m           6.2.0  pyh29332c3_4             conda-forge      141kB\n",
            "  \u001b[32m+ beautifulsoup4               \u001b[0m          4.13.4  pyha770c72_0             conda-forge      147kB\n",
            "  \u001b[32m+ anyio                        \u001b[0m           4.9.0  pyh29332c3_0             conda-forge      126kB\n",
            "  \u001b[32m+ pytest                       \u001b[0m           8.3.5  pyhd8ed1ab_0             conda-forge      260kB\n",
            "  \u001b[32m+ hypothesis                   \u001b[0m        6.131.31  pyha770c72_0             conda-forge      362kB\n",
            "  \u001b[32m+ arrow                        \u001b[0m           1.3.0  pyhd8ed1ab_1             conda-forge      100kB\n",
            "  \u001b[32m+ fqdn                         \u001b[0m           1.5.1  pyhd8ed1ab_1             conda-forge       17kB\n",
            "  \u001b[32m+ ipython                      \u001b[0m           9.2.0  pyhfb0248b_0             conda-forge      621kB\n",
            "  \u001b[32m+ bleach-with-css              \u001b[0m           6.2.0  h82add2a_4               conda-forge        4kB\n",
            "  \u001b[32m+ httpcore                     \u001b[0m           1.0.9  pyh29332c3_0             conda-forge       49kB\n",
            "  \u001b[32m+ isoduration                  \u001b[0m         20.11.0  pyhd8ed1ab_1             conda-forge       20kB\n",
            "  \u001b[32m+ httpx                        \u001b[0m          0.28.1  pyhd8ed1ab_0             conda-forge       63kB\n",
            "  \u001b[32m+ libpng                       \u001b[0m          1.6.47  h943b412_0               conda-forge      289kB\n",
            "  \u001b[32m+ kiwisolver                   \u001b[0m           1.4.7  py311hd18a35c_0          conda-forge       72kB\n",
            "  \u001b[32m+ libjpeg-turbo                \u001b[0m           3.1.0  hb9d3cd8_0               conda-forge      629kB\n",
            "  \u001b[32m+ libwebp-base                 \u001b[0m           1.5.0  h851e524_0               conda-forge      430kB\n",
            "  \u001b[32m+ qhull                        \u001b[0m          2020.2  h434a139_5               conda-forge      553kB\n",
            "  \u001b[32m+ pthread-stubs                \u001b[0m             0.4  hb9d3cd8_1002            conda-forge        8kB\n",
            "  \u001b[32m+ xorg-libxdmcp                \u001b[0m           1.1.5  hb9d3cd8_0               conda-forge       20kB\n",
            "  \u001b[32m+ xorg-libxau                  \u001b[0m          1.0.12  hb9d3cd8_0               conda-forge       15kB\n",
            "  \u001b[32m+ libgfortran5                 \u001b[0m          14.2.0  hf1ad2bd_2               conda-forge        1MB\n",
            "  \u001b[32m+ libaec                       \u001b[0m           1.1.3  h59595ed_0               conda-forge       35kB\n",
            "  \u001b[32m+ libbrotlicommon              \u001b[0m           1.1.0  hb9d3cd8_2               conda-forge       69kB\n",
            "  \u001b[32m+ unicodedata2                 \u001b[0m          16.0.0  py311h9ecbd09_0          conda-forge      405kB\n",
            "  \u001b[32m+ tornado                      \u001b[0m           6.5.1  py311h9ecbd09_0          conda-forge      869kB\n",
            "  \u001b[32m+ libsodium                    \u001b[0m          1.0.20  h4ab18f5_0               conda-forge      206kB\n",
            "  \u001b[32m+ rpds-py                      \u001b[0m          0.25.1  py311hdae7d1d_0          conda-forge      389kB\n",
            "  \u001b[32m+ markupsafe                   \u001b[0m           3.0.2  py311h2dc5d0c_1          conda-forge       25kB\n",
            "  \u001b[32m+ psutil                       \u001b[0m           7.0.0  py311h9ecbd09_0          conda-forge      485kB\n",
            "  \u001b[32m+ debugpy                      \u001b[0m          1.8.14  py311hfdbb021_0          conda-forge        3MB\n",
            "  \u001b[32m+ argon2-cffi-bindings         \u001b[0m          21.2.0  py311h9ecbd09_5          conda-forge       35kB\n",
            "  \u001b[32m+ msgpack-python               \u001b[0m           1.1.0  py311hd18a35c_0          conda-forge      105kB\n",
            "  \u001b[32m+ yaml                         \u001b[0m           0.2.5  h7f98852_2               conda-forge       89kB\n",
            "  \u001b[32m+ lerc                         \u001b[0m           4.0.0  h0aef613_1               conda-forge      264kB\n",
            "  \u001b[32m+ zlib                         \u001b[0m           1.3.1  hb9d3cd8_2               conda-forge       92kB\n",
            "  \u001b[32m+ snappy                       \u001b[0m           1.2.1  h8bd8927_1               conda-forge       43kB\n",
            "  \u001b[32m+ libdeflate                   \u001b[0m            1.23  h86f0d12_0               conda-forge       73kB\n",
            "  \u001b[32m+ libfreetype6                 \u001b[0m          2.13.3  h48d6fc4_1               conda-forge      380kB\n",
            "  \u001b[32m+ hdf4                         \u001b[0m          4.2.15  h2a13503_7               conda-forge      757kB\n",
            "  \u001b[32m+ libxcb                       \u001b[0m          1.17.0  h8a09558_0               conda-forge      396kB\n",
            "  \u001b[32m+ libgfortran                  \u001b[0m          14.2.0  h69a702a_2               conda-forge       54kB\n",
            "  \u001b[32m+ libbrotlienc                 \u001b[0m           1.1.0  hb9d3cd8_2               conda-forge      282kB\n",
            "  \u001b[32m+ libbrotlidec                 \u001b[0m           1.1.0  hb9d3cd8_2               conda-forge       33kB\n",
            "  \u001b[32m+ zeromq                       \u001b[0m           4.3.5  h3b0a872_7               conda-forge      335kB\n",
            "  \u001b[32m+ pyyaml                       \u001b[0m           6.0.2  py311h2dc5d0c_2          conda-forge      213kB\n",
            "  \u001b[32m+ blosc                        \u001b[0m          1.21.6  he440d0b_1               conda-forge       48kB\n",
            "  \u001b[32m+ libtiff                      \u001b[0m           4.7.0  hd9ff511_3               conda-forge      428kB\n",
            "  \u001b[32m+ libzip                       \u001b[0m          1.11.2  h6991a6a_0               conda-forge      109kB\n",
            "  \u001b[32m+ libfreetype                  \u001b[0m          2.13.3  ha770c72_1               conda-forge        8kB\n",
            "  \u001b[32m+ hdf5                         \u001b[0m          1.14.3  nompi_h2d575fe_109       conda-forge        4MB\n",
            "  \u001b[32m+ libopenblas                  \u001b[0m          0.3.29  pthreads_h94d23a6_0      conda-forge        6MB\n",
            "  \u001b[32m+ brotli-bin                   \u001b[0m           1.1.0  hb9d3cd8_2               conda-forge       19kB\n",
            "  \u001b[32m+ pyzmq                        \u001b[0m          26.4.0  py311h7deb3e3_0          conda-forge      390kB\n",
            "  \u001b[32m+ openjpeg                     \u001b[0m           2.5.3  h5fbd93e_0               conda-forge      343kB\n",
            "  \u001b[32m+ lcms2                        \u001b[0m            2.17  h717163a_0               conda-forge      248kB\n",
            "  \u001b[32m+ freetype                     \u001b[0m          2.13.3  ha770c72_1               conda-forge      172kB\n",
            "  \u001b[32m+ libnetcdf                    \u001b[0m           4.9.2  nompi_h00e09a9_116       conda-forge      835kB\n",
            "  \u001b[32m+ libblas                      \u001b[0m           3.9.0  31_h59b9bed_openblas     conda-forge       17kB\n",
            "  \u001b[32m+ brotli                       \u001b[0m           1.1.0  hb9d3cd8_2               conda-forge       19kB\n",
            "  \u001b[32m+ pillow                       \u001b[0m          11.2.1  py311h1322bbf_0          conda-forge       43MB\n",
            "  \u001b[32m+ libcblas                     \u001b[0m           3.9.0  31_he106b2a_openblas     conda-forge       17kB\n",
            "  \u001b[32m+ liblapack                    \u001b[0m           3.9.0  31_h7ac8fdf_openblas     conda-forge       17kB\n",
            "  \u001b[32m+ fonttools                    \u001b[0m          4.58.1  py311h2dc5d0c_0          conda-forge        3MB\n",
            "  \u001b[32m+ numpy                        \u001b[0m           2.2.6  py311h5d046bc_0          conda-forge        9MB\n",
            "  \u001b[32m+ cftime                       \u001b[0m           1.6.4  py311h9f3472d_1          conda-forge      250kB\n",
            "  \u001b[32m+ pandas                       \u001b[0m           2.2.3  py311h7db5c69_3          conda-forge       16MB\n",
            "  \u001b[32m+ contourpy                    \u001b[0m           1.3.2  py311hd18a35c_0          conda-forge      278kB\n",
            "  \u001b[32m+ gsd                          \u001b[0m           3.4.2  py311h9ecbd09_0          conda-forge      269kB\n",
            "  \u001b[32m+ biopython                    \u001b[0m            1.85  py311h9ecbd09_1          conda-forge        4MB\n",
            "  \u001b[32m+ pytng                        \u001b[0m           0.3.3  py311h0eb78d4_1          conda-forge      531kB\n",
            "  \u001b[32m+ h5py                         \u001b[0m          3.13.0  nompi_py311hb639ac4_100  conda-forge        1MB\n",
            "  \u001b[32m+ scipy                        \u001b[0m          1.15.2  py311h8f841c2_0          conda-forge       17MB\n",
            "  \u001b[32m+ netcdf4                      \u001b[0m           1.7.2  nompi_py311hae66bec_101  conda-forge        1MB\n",
            "  \u001b[32m+ matplotlib-base              \u001b[0m          3.10.3  py311h2b939e6_0          conda-forge        8MB\n",
            "  \u001b[32m+ scikit-learn                 \u001b[0m           1.6.1  py311h57cc02b_0          conda-forge       11MB\n",
            "  \u001b[32m+ terminado                    \u001b[0m          0.18.1  pyh0d859eb_0             conda-forge       22kB\n",
            "  \u001b[32m+ referencing                  \u001b[0m          0.36.2  pyh29332c3_0             conda-forge       52kB\n",
            "  \u001b[32m+ jinja2                       \u001b[0m           3.1.6  pyhd8ed1ab_0             conda-forge      113kB\n",
            "  \u001b[32m+ argon2-cffi                  \u001b[0m          23.1.0  pyhd8ed1ab_1             conda-forge       19kB\n",
            "  \u001b[32m+ mmtf-python                  \u001b[0m           1.1.3  pyhd8ed1ab_0             conda-forge       26kB\n",
            "  \u001b[32m+ jupyter_client               \u001b[0m           8.6.3  pyhd8ed1ab_1             conda-forge      106kB\n",
            "  \u001b[32m+ patsy                        \u001b[0m           1.0.1  pyhd8ed1ab_1             conda-forge      187kB\n",
            "  \u001b[32m+ mrcfile                      \u001b[0m           1.5.4  pyhd8ed1ab_0             conda-forge       39kB\n",
            "  \u001b[32m+ pyedr                        \u001b[0m           0.8.0  pyhd8ed1ab_1             conda-forge      345kB\n",
            "  \u001b[32m+ tidynamics                   \u001b[0m           1.1.2  pyhd8ed1ab_0             conda-forge       12kB\n",
            "  \u001b[32m+ seaborn-base                 \u001b[0m          0.13.2  pyhd8ed1ab_3             conda-forge      228kB\n",
            "  \u001b[32m+ jupyter_server_terminals     \u001b[0m           0.5.3  pyhd8ed1ab_1             conda-forge       20kB\n",
            "  \u001b[32m+ jsonschema-specifications    \u001b[0m        2025.4.1  pyh29332c3_0             conda-forge       19kB\n",
            "  \u001b[32m+ ipykernel                    \u001b[0m          6.29.5  pyh3099207_0             conda-forge      119kB\n",
            "  \u001b[32m+ griddataformats              \u001b[0m           1.0.2  pyhd8ed1ab_1             conda-forge        2MB\n",
            "  \u001b[32m+ jsonschema                   \u001b[0m          4.24.0  pyhd8ed1ab_0             conda-forge       75kB\n",
            "  \u001b[32m+ jsonschema-with-format-nongpl\u001b[0m          4.24.0  hd8ed1ab_0               conda-forge        8kB\n",
            "  \u001b[32m+ nbformat                     \u001b[0m          5.10.4  pyhd8ed1ab_1             conda-forge      101kB\n",
            "  \u001b[32m+ jupyter_events               \u001b[0m          0.12.0  pyh29332c3_0             conda-forge       24kB\n",
            "  \u001b[32m+ nbclient                     \u001b[0m          0.10.2  pyhd8ed1ab_0             conda-forge       28kB\n",
            "  \u001b[32m+ nbconvert-core               \u001b[0m          7.16.6  pyh29332c3_0             conda-forge      201kB\n",
            "  \u001b[32m+ jupyter_server               \u001b[0m          2.16.0  pyhe01879c_0             conda-forge      344kB\n",
            "  \u001b[32m+ jupyter-lsp                  \u001b[0m           2.2.5  pyhe01879c_2             conda-forge       58kB\n",
            "  \u001b[32m+ jupyterlab_server            \u001b[0m          2.27.3  pyhd8ed1ab_1             conda-forge       49kB\n",
            "  \u001b[32m+ notebook-shim                \u001b[0m           0.2.4  pyhd8ed1ab_1             conda-forge       17kB\n",
            "  \u001b[32m+ jupyterlab                   \u001b[0m           4.4.3  pyhd8ed1ab_0             conda-forge        8MB\n",
            "  \u001b[32m+ notebook                     \u001b[0m           7.4.3  pyhd8ed1ab_0             conda-forge       11MB\n",
            "  \u001b[32m+ widgetsnbextension           \u001b[0m           3.5.1  pyh9f0ad1d_3             conda-forge        2MB\n",
            "  \u001b[32m+ ipywidgets                   \u001b[0m           7.6.0  pyhd3deb0d_0             conda-forge      104kB\n",
            "  \u001b[32m+ nglview                      \u001b[0m           3.0.8  pyh1da8cd4_0             conda-forge        7MB\n",
            "  \u001b[32m+ statsmodels                  \u001b[0m          0.14.4  py311h9f3472d_0          conda-forge       12MB\n",
            "  \u001b[32m+ seaborn                      \u001b[0m          0.13.2  hd8ed1ab_3               conda-forge        7kB\n",
            "  \u001b[32m+ mdanalysis                   \u001b[0m           2.9.0  py311h7db5c69_1          conda-forge        5MB\n",
            "  \u001b[32m+ mdanalysistests              \u001b[0m           2.9.0  pyhd8ed1ab_1             conda-forge       52MB\n",
            "\n",
            "  Upgrade:\n",
            "────────────────────────────────────────────────────────────────────────────────────────────────────\n",
            "\n",
            "  \u001b[31m- ca-certificates              \u001b[0m      2024.12.14  hbcca054_0               conda-forge\u001b[32m     Cached\u001b[0m\n",
            "  \u001b[32m+ ca-certificates              \u001b[0m       2025.4.26  hbd8a1cb_0               conda-forge      152kB\n",
            "  \u001b[31m- certifi                      \u001b[0m      2024.12.14  pyhd8ed1ab_0             conda-forge\u001b[32m     Cached\u001b[0m\n",
            "  \u001b[32m+ certifi                      \u001b[0m       2025.4.26  pyhd8ed1ab_0             conda-forge      157kB\n",
            "  \u001b[31m- openssl                      \u001b[0m           3.4.0  h7b32b05_1               conda-forge\u001b[32m     Cached\u001b[0m\n",
            "  \u001b[32m+ openssl                      \u001b[0m           3.5.0  h7b32b05_1               conda-forge        3MB\n",
            "\n",
            "  Summary:\n",
            "\n",
            "  Install: 180 packages\n",
            "  Upgrade: 3 packages\n",
            "\n",
            "  Total download: 259MB\n",
            "\n",
            "────────────────────────────────────────────────────────────────────────────────────────────────────\n",
            "\n",
            "\n",
            "\u001b[?25l\u001b[2K\u001b[0G[+] 0.0s\n",
            "Downloading        0%\n",
            "Extracting         0%\u001b[2K\u001b[1A\u001b[2K\u001b[1A\u001b[2K\u001b[0G[+] 0.1s\n",
            "Downloading  (5)   1%\n",
            "Extracting         0%\u001b[2K\u001b[1A\u001b[2K\u001b[1A\u001b[2K\u001b[0Gca-certificates                                    152.3kB @   1.2MB/s  0.1s\n",
            "certifi                                            157.2kB @   1.1MB/s  0.1s\n",
            "click                                               87.7kB @ 537.1kB/s  0.2s\n",
            "jupyterlab_widgets                                 189.1kB @   1.1MB/s  0.2s\n",
            "sortedcontainers                                    28.7kB @ 144.2kB/s  0.1s\n",
            "[+] 0.2s\n",
            "Downloading  (5)   1%\n",
            "Extracting   (3)  ⣾  \u001b[2K\u001b[1A\u001b[2K\u001b[1A\u001b[2K\u001b[0Gtraitlets                                          110.1kB @ 512.3kB/s  0.1s\n",
            "mdanalysisdata                                      27.8kB @ 119.3kB/s  0.2s\n",
            "filelock                                            17.9kB @  76.3kB/s  0.1s\n",
            "cycler                                              13.4kB @  52.6kB/s  0.1s\n",
            "six                                                 16.4kB @  57.4kB/s  0.1s\n",
            "python-fastjsonschema                              226.3kB @ 788.6kB/s  0.1s\n",
            "rfc3986-validator                                    7.8kB @  26.6kB/s  0.1s\n",
            "[+] 0.3s\n",
            "Downloading  (5)   1%\n",
            "Extracting   (7)  ⣾  \u001b[2K\u001b[1A\u001b[2K\u001b[1A\u001b[2K\u001b[0Gpython-json-logger                                  13.4kB @  43.3kB/s  0.1s\n",
            "pkgutil-resolve-name                                10.7kB @  33.4kB/s  0.1s\n",
            "pickleshare                                         11.7kB @  34.5kB/s  0.1s\n",
            "nest-asyncio                                        11.5kB @  32.0kB/s  0.1s\n",
            "asttokens                                           28.2kB @  76.8kB/s  0.1s\n",
            "wcwidth                                             32.6kB @  88.2kB/s  0.0s\n",
            "cached_property                                     11.1kB @  28.7kB/s  0.1s\n",
            "[+] 0.4s\n",
            "Downloading  (5)   1%\n",
            "Extracting  (12)  ⣾  \u001b[2K\u001b[1A\u001b[2K\u001b[1A\u001b[2K\u001b[0Gpandocfilters                                       11.6kB @  28.3kB/s  0.1s\n",
            "typing-extensions                                   89.9kB @ 211.8kB/s  0.1s\n",
            "comm                                                12.1kB @  28.5kB/s  0.1s\n",
            "soupsieve                                           37.8kB @  88.6kB/s  0.1s\n",
            "rfc3339-validator                                   10.2kB @  23.2kB/s  0.1s\n",
            "ipython_pygments_lexers                             14.0kB @  29.2kB/s  0.1s\n",
            "importlib-metadata                                  34.6kB @  72.2kB/s  0.1s\n",
            "importlib_resources                                 33.8kB @  70.0kB/s  0.1s\n",
            "[+] 0.5s\n",
            "Downloading  (5)   1%\n",
            "Extracting  (16)  ⣾  \u001b[2K\u001b[1A\u001b[2K\u001b[1A\u001b[2K\u001b[0Gprompt-toolkit                                     271.8kB @ 527.6kB/s  0.1s\n",
            "arrow                                              100.0kB @ 186.0kB/s  0.1s\n",
            "isoduration                                         19.8kB @  36.9kB/s  0.1s\n",
            "beautifulsoup4                                     146.6kB @ 272.2kB/s  0.1s\n",
            "hypothesis                                         361.9kB @ 612.3kB/s  0.1s\n",
            "kiwisolver                                          72.4kB @ 121.7kB/s  0.1s\n",
            "[+] 0.6s\n",
            "Downloading  (5)   1%\n",
            "Extracting  (17)  ⣾  \u001b[2K\u001b[1A\u001b[2K\u001b[1A\u001b[2K\u001b[0Gpthread-stubs                                        8.3kB @  13.6kB/s  0.1s\n",
            "qhull                                              552.9kB @ 834.0kB/s  0.1s\n",
            "libgfortran5                                         1.5MB @   2.2MB/s  0.1s\n",
            "libsodium                                          206.0kB @ 310.5kB/s  0.1s\n",
            "rpds-py                                            389.1kB @ 585.3kB/s  0.1s\n",
            "msgpack-python                                     104.8kB @ 155.6kB/s  0.1s\n",
            "[+] 0.7s\n",
            "Downloading  (5)   2%\n",
            "Extracting  (22)  ⣾  \u001b[2K\u001b[1A\u001b[2K\u001b[1A\u001b[2K\u001b[0Gzlib                                                92.3kB @ 127.4kB/s  0.1s\n",
            "snappy                                              42.7kB @  59.0kB/s  0.1s\n",
            "libdeflate                                          72.8kB @ 100.4kB/s  0.1s\n",
            "blosc                                               48.4kB @  66.2kB/s  0.1s\n",
            "libxcb                                             395.9kB @ 535.2kB/s  0.1s\n",
            "[+] 0.8s\n",
            "Downloading  (5)   3%\n",
            "Extracting  (23)  ⣾  \u001b[2K\u001b[1A\u001b[2K\u001b[1A\u001b[2K\u001b[0Glibblas                                             16.9kB @  21.0kB/s  0.1s\n",
            "libcblas                                            16.8kB @  21.0kB/s  0.1s\n",
            "libfreetype                                          7.7kB @   9.4kB/s  0.1s\n",
            "hdf5                                                 3.9MB @   4.6MB/s  0.1s\n",
            "cftime                                             249.9kB @ 282.6kB/s  0.1s\n",
            "[+] 0.9s\n",
            "Downloading  (5)   7%\n",
            "Extracting  (26)  ⣾  \u001b[2K\u001b[1A\u001b[2K\u001b[1A\u001b[2K\u001b[0Gpytng                                              530.9kB @ 598.1kB/s  0.1s\n",
            "libopenblas                                          5.9MB @   6.5MB/s  0.2s\n",
            "terminado                                           22.5kB @  23.9kB/s  0.1s\n",
            "referencing                                         51.7kB @  52.6kB/s  0.1s\n",
            "patsy                                              186.6kB @ 189.4kB/s  0.1s\n",
            "netcdf4                                              1.2MB @   1.2MB/s  0.1s\n",
            "[+] 1.0s\n",
            "Downloading  (5)  10%\n",
            "Extracting  (28)  ⣾  \u001b[2K\u001b[1A\u001b[2K\u001b[1A\u001b[2K\u001b[0Gtidynamics                                          12.0kB @  11.6kB/s  0.1s\n",
            "numpy                                                9.1MB @   8.7MB/s  0.2s\n",
            "ipykernel                                          119.1kB @ 113.6kB/s  0.1s\n",
            "jsonschema-specifications                           19.2kB @  17.9kB/s  0.1s\n",
            "[+] 1.1s\n",
            "Downloading  (5)  11%\n",
            "Extracting  (33)  ⣾  \u001b[2K\u001b[1A\u001b[2K\u001b[1A\u001b[2K\u001b[0Gnbformat                                           100.9kB @  91.2kB/s  0.1s\n",
            "jupyter-lsp                                         57.7kB @  52.0kB/s  0.1s\n",
            "jupyter_server                                     344.4kB @ 310.5kB/s  0.1s\n",
            "widgetsnbextension                                   1.9MB @   1.6MB/s  0.1s\n",
            "threadpoolctl                                       23.9kB @  20.1kB/s  0.1s\n",
            "[+] 1.2s\n",
            "Downloading  (5)  13%\n",
            "Extracting  (36)  ⣾  \u001b[2K\u001b[1A\u001b[2K\u001b[1A\u001b[2K\u001b[0Giniconfig                                           11.5kB @   9.5kB/s  0.1s\n",
            "attrs                                               57.2kB @  47.3kB/s  0.1s\n",
            "prometheus_client                                   53.5kB @  43.1kB/s  0.1s\n",
            "uri-template                                        24.0kB @  18.9kB/s  0.1s\n",
            "decorator                                           14.1kB @  11.1kB/s  0.1s\n",
            "[+] 1.3s\n",
            "Downloading  (5)  16%\n",
            "Extracting  (38)  ⣾  \u001b[2K\u001b[1A\u001b[2K\u001b[1A\u001b[2K\u001b[0Gpytz                                               189.0kB @ 144.1kB/s  0.1s\n",
            "ptyprocess                                          19.5kB @  14.6kB/s  0.1s\n",
            "webencodings                                        15.5kB @  11.4kB/s  0.0s\n",
            "[+] 1.4s\n",
            "Downloading  (5)  18%\n",
            "Extracting  (39)  ⣾  \u001b[2K\u001b[1A\u001b[2K\u001b[1A\u001b[2K\u001b[0Gasync-lru                                           17.3kB @  12.4kB/s  0.1s\n",
            "executing                                           29.7kB @  21.1kB/s  0.1s\n",
            "jupyter_core                                        59.6kB @  42.4kB/s  0.0s\n",
            "statsmodels                                         12.3MB @   8.7MB/s  0.4s\n",
            "cached-property                                      4.1kB @   2.8kB/s  0.1s\n",
            "[+] 1.5s\n",
            "Downloading  (5)  19%\n",
            "Extracting  (42)  ⣾  \u001b[2K\u001b[1A\u001b[2K\u001b[1A\u001b[2K\u001b[0Gpytest                                             259.8kB @ 170.5kB/s  0.1s\n",
            "bleach-with-css                                      4.2kB @   2.8kB/s  0.1s\n",
            "pexpect                                             53.6kB @  35.1kB/s  0.1s\n",
            "babel                                                6.9MB @   4.4MB/s  0.2s\n",
            "xorg-libxau                                         14.8kB @   9.3kB/s  0.1s\n",
            "libjpeg-turbo                                      628.9kB @ 394.8kB/s  0.1s\n",
            "[+] 1.6s\n",
            "Downloading  (5)  23%\n",
            "Extracting  (45)  ⣾  \u001b[2K\u001b[1A\u001b[2K\u001b[1A\u001b[2K\u001b[0Glibpng                                             288.7kB @ 178.6kB/s  0.1s\n",
            "markupsafe                                          25.4kB @  15.7kB/s  0.1s\n",
            "argon2-cffi-bindings                                35.0kB @  21.3kB/s  0.1s\n",
            "libbrotlienc                                       281.8kB @ 169.4kB/s  0.0s\n",
            "[+] 1.7s\n",
            "Downloading  (6)  24%\n",
            "Extracting  (48)  ⣾  \u001b[2K\u001b[1A\u001b[2K\u001b[1A\u001b[2K\u001b[0Gopenssl                                              3.1MB @   1.8MB/s  0.1s\n",
            "libzip                                             109.0kB @  63.8kB/s  0.1s\n",
            "openjpeg                                           343.0kB @ 200.4kB/s  0.0s\n",
            "libgfortran                                         53.7kB @  31.4kB/s  0.1s\n",
            "brotli                                              19.3kB @  11.0kB/s  0.0s\n",
            "libnetcdf                                          834.9kB @ 473.6kB/s  0.1s\n",
            "[+] 1.8s\n",
            "Downloading  (5)  27%\n",
            "Extracting  (52)  ⣾  \u001b[2K\u001b[1A\u001b[2K\u001b[1A\u001b[2K\u001b[0Gh5py                                                 1.4MB @ 768.3kB/s  0.1s\n",
            "mmtf-python                                         26.0kB @  14.0kB/s  0.1s\n",
            "[+] 1.9s\n",
            "Downloading  (5)  29%\n",
            "Extracting  (53)  ⣾  \u001b[2K\u001b[1A\u001b[2K\u001b[1A\u001b[2K\u001b[0Gpyedr                                              344.9kB @ 180.8kB/s  0.1s\n",
            "[+] 2.0s\n",
            "Downloading  (5)  33%\n",
            "Extracting  (53)  ⣾  \u001b[2K\u001b[1A\u001b[2K\u001b[1A\u001b[2K\u001b[0Ggriddataformats                                      2.1MB @   1.1MB/s  0.1s\n",
            "jupyterlab_server                                   49.4kB @  24.1kB/s  0.0s\n",
            "jupyter_events                                      23.6kB @  11.4kB/s  0.2s\n",
            "[+] 2.1s\n",
            "Downloading  (5)  36%\n",
            "Extracting  (56)  ⣾  \u001b[2K\u001b[1A\u001b[2K\u001b[1A\u001b[2K\u001b[0Gseaborn                                              6.9kB @   3.2kB/s  0.1s\n",
            "scikit-learn                                        10.7MB @   5.0MB/s  0.4s\n",
            "[+] 2.2s\n",
            "Downloading  (5)  40%\n",
            "Extracting  (57)  ⣾  \u001b[2K\u001b[1A\u001b[2K\u001b[1A\u001b[2K\u001b[0Gjoblib                                             224.4kB @ 100.4kB/s  0.1s\n",
            "pandas                                              15.7MB @   7.0MB/s  0.5s\n",
            "networkx                                             1.3MB @ 554.6kB/s  0.1s\n",
            "[+] 2.3s\n",
            "Downloading  (5)  45%\n",
            "Extracting  (59)  ⣾  \u001b[2K\u001b[1A\u001b[2K\u001b[1A\u001b[2K\u001b[0Gjson5                                               34.1kB @  14.6kB/s  0.1s\n",
            "webcolors                                           18.4kB @   7.9kB/s  0.1s\n",
            "sniffio                                             15.0kB @   6.4kB/s  0.1s\n",
            "defusedxml                                          24.1kB @  10.1kB/s  0.0s\n",
            "typing_utils                                        15.2kB @   6.3kB/s  0.1s\n",
            "notebook                                            10.5MB @   4.4MB/s  0.3s\n",
            "pure_eval                                           16.7kB @   7.0kB/s  0.1s\n",
            "[+] 2.4s\n",
            "Downloading  (5)  46%\n",
            "Extracting  (63)  ⣾  \u001b[2K\u001b[1A\u001b[2K\u001b[1A\u001b[2K\u001b[0Gjupyterlab_pygments                                 18.7kB @   7.7kB/s  0.1s\n",
            "tinycss2                                            28.3kB @  11.6kB/s  0.0s\n",
            "ipython                                            620.7kB @ 251.4kB/s  0.1s\n",
            "jedi                                               843.6kB @ 340.8kB/s  0.1s\n",
            "[+] 2.5s\n",
            "Downloading  (6)  48%\n",
            "Extracting  (69)  ⣾  \u001b[2K\u001b[1A\u001b[2K\u001b[1A\u001b[2K\u001b[0Gxorg-libxdmcp                                       19.9kB @   7.9kB/s  0.1s\n",
            "libaec                                              35.4kB @  14.2kB/s  0.1s\n",
            "yaml                                                89.1kB @  35.4kB/s  0.1s\n",
            "libbrotlidec                                        32.7kB @  12.8kB/s  0.1s\n",
            "[+] 2.6s\n",
            "Downloading  (6)  49%\n",
            "Extracting  (73)  ⣾  \u001b[2K\u001b[1A\u001b[2K\u001b[1A\u001b[2K\u001b[0Gpyzmq                                              390.3kB @ 151.2kB/s  0.1s\n",
            "debugpy                                              2.6MB @ 993.7kB/s  0.1s\n",
            "zeromq                                             335.4kB @ 129.0kB/s  0.1s\n",
            "jinja2                                             112.7kB @  42.2kB/s  0.1s\n",
            "argon2-cffi                                         18.6kB @   7.0kB/s  0.1s\n",
            "fonttools                                            2.9MB @   1.1MB/s  0.1s\n",
            "[+] 2.7s\n",
            "Downloading  (5)  53%\n",
            "Extracting  (79)  ⣾  \u001b[2K\u001b[1A\u001b[2K\u001b[1A\u001b[2K\u001b[0Gjsonschema-with-format-nongpl                        7.7kB @   2.8kB/s  0.1s\n",
            "jsonschema                                          75.1kB @  27.3kB/s  0.1s\n",
            "biopython                                            3.5MB @   1.3MB/s  0.2s\n",
            "ipywidgets                                         103.9kB @  37.4kB/s  0.1s\n",
            "typing_extensions                                   52.2kB @  18.7kB/s  0.1s\n",
            "send2trash                                          22.7kB @   8.1kB/s  0.0s\n",
            "[+] 2.8s\n",
            "Downloading  (5)  55%\n",
            "Extracting  (82)  ⣾  \u001b[2K\u001b[1A\u001b[2K\u001b[1A\u001b[2K\u001b[0Gmda-xdrlib                                          16.5kB @   5.9kB/s  0.0s\n",
            "types-python-dateutil                               22.6kB @   8.0kB/s  0.0s\n",
            "matplotlib-inline                                   14.5kB @   5.1kB/s  0.1s\n",
            "overrides                                           30.1kB @  10.5kB/s  0.1s\n",
            "mistune                                             72.7kB @  25.4kB/s  0.1s\n",
            "fqdn                                                16.7kB @   5.8kB/s  0.1s\n",
            "[+] 2.9s\n",
            "Downloading  (5)  58%\n",
            "Extracting  (90)  ⣾  \u001b[2K\u001b[1A\u001b[2K\u001b[1A\u001b[2K\u001b[0Glibwebp-base                                       430.0kB @ 145.7kB/s  0.1s\n",
            "psutil                                             484.8kB @ 163.9kB/s  0.1s\n",
            "libtiff                                            428.2kB @ 144.8kB/s  0.1s\n",
            "tornado                                            869.3kB @ 293.5kB/s  0.1s\n",
            "[+] 3.0s\n",
            "Downloading  (5)  59%\n",
            "Extracting  (93)  ⣾  \u001b[2K\u001b[1A\u001b[2K\u001b[1A\u001b[2K\u001b[0Gliblapack                                           16.8kB @   5.6kB/s  0.1s\n",
            "freetype                                           172.4kB @  56.1kB/s  0.1s\n",
            "[+] 3.1s\n",
            "Downloading  (5)  62%\n",
            "Extracting  (93)  ⣾  \u001b[2K\u001b[1A\u001b[2K\u001b[1A\u001b[2K\u001b[0Gnbconvert-core                                     200.6kB @  64.4kB/s  0.1s\n",
            "munkres                                             12.5kB @   3.9kB/s  0.1s\n",
            "[+] 3.2s\n",
            "Downloading  (5)  67%\n",
            "Extracting  (95)  ⣾  \u001b[2K\u001b[1A\u001b[2K\u001b[1A\u001b[2K\u001b[0G[+] 3.3s\n",
            "Downloading  (5)  70%\n",
            "Extracting  (94)  ⣾  \u001b[2K\u001b[1A\u001b[2K\u001b[1A\u001b[2K\u001b[0Gpygments                                           888.6kB @ 264.9kB/s  0.2s\n",
            "mdanalysistests                                     51.7MB @  15.4MB/s  2.3s\n",
            "[+] 3.4s\n",
            "Downloading  (5)  73%\n",
            "Extracting  (94)  ⣾  \u001b[2K\u001b[1A\u001b[2K\u001b[1A\u001b[2K\u001b[0Gmatplotlib-base                                      8.3MB @   2.4MB/s  0.5s\n",
            "parso                                               75.3kB @  21.7kB/s  0.1s\n",
            "anyio                                              126.3kB @  36.4kB/s  0.1s\n",
            "python-dateutil                                    222.5kB @  63.9kB/s  0.1s\n",
            "nglview                                              6.7MB @   1.9MB/s  0.4s\n",
            "[+] 3.5s\n",
            "Downloading  (5)  74%\n",
            "Extracting  (97)  ⣾  \u001b[2K\u001b[1A\u001b[2K\u001b[1A\u001b[2K\u001b[0Glibbrotlicommon                                     68.9kB @  19.5kB/s  0.1s\n",
            "unicodedata2                                       405.0kB @ 113.1kB/s  0.1s\n",
            "gsd                                                269.5kB @  75.2kB/s  0.1s\n",
            "mrcfile                                             38.9kB @  10.8kB/s  0.1s\n",
            "[+] 3.6s\n",
            "Downloading  (5)   76%\n",
            "Extracting  (101)  ⣾  \u001b[2K\u001b[1A\u001b[2K\u001b[1A\u001b[2K\u001b[0Ghdf4                                               756.7kB @ 208.5kB/s  0.1s\n",
            "nbclient                                            28.0kB @   7.6kB/s  0.1s\n",
            "notebook-shim                                       16.8kB @   4.6kB/s  0.1s\n",
            "pyparsing                                           96.0kB @  26.0kB/s  0.1s\n",
            "h11                                                 37.7kB @  10.2kB/s  0.1s\n",
            "[+] 3.7s\n",
            "Downloading  (5)   77%\n",
            "Extracting  (102)  ⣾  \u001b[2K\u001b[1A\u001b[2K\u001b[1A\u001b[2K\u001b[0Gbleach                                             141.4kB @  37.4kB/s  0.1s\n",
            "httpcore                                            49.5kB @  13.1kB/s  0.1s\n",
            "httpx                                               63.1kB @  16.7kB/s  0.1s\n",
            "lerc                                               264.2kB @  69.9kB/s  0.1s\n",
            "[+] 3.8s\n",
            "Downloading  (5)   78%\n",
            "Extracting  (109)  ⣾  \u001b[2K\u001b[1A\u001b[2K\u001b[1A\u001b[2K\u001b[0Gjupyter_server_terminals                            19.7kB @   5.1kB/s  0.1s\n",
            "python-tzdata                                      144.2kB @  37.5kB/s  0.1s\n",
            "[+] 3.9s\n",
            "Downloading  (5)   81%\n",
            "Extracting  (111)  ⣾  \u001b[2K\u001b[1A\u001b[2K\u001b[1A\u001b[2K\u001b[0Glcms2                                              248.0kB @  62.5kB/s  0.1s\n",
            "contourpy                                          278.4kB @  70.1kB/s  0.1s\n",
            "[+] 4.0s\n",
            "Downloading  (5)   82%\n",
            "Extracting  (111)  ⣾  \u001b[2K\u001b[1A\u001b[2K\u001b[1A\u001b[2K\u001b[0Gwebsocket-client                                    46.7kB @  11.6kB/s  0.1s\n",
            "zipp                                                22.7kB @   5.6kB/s  0.1s\n",
            "[+] 4.1s\n",
            "Downloading  (5)   84%\n",
            "Extracting  (113)  ⣾  \u001b[2K\u001b[1A\u001b[2K\u001b[1A\u001b[2K\u001b[0Gmdanalysis                                           5.4MB @   1.3MB/s  0.4s\n",
            "brotli-bin                                          18.9kB @   4.5kB/s  0.1s\n",
            "[+] 4.2s\n",
            "Downloading  (5)   88%\n",
            "Extracting  (115)  ⣾  \u001b[2K\u001b[1A\u001b[2K\u001b[1A\u001b[2K\u001b[0Gstack_data                                          27.0kB @   6.4kB/s  0.1s\n",
            "jupyterlab                                           8.2MB @   1.9MB/s  0.5s\n",
            "jupyter_client                                     106.3kB @  24.9kB/s  0.1s\n",
            "exceptiongroup                                      21.3kB @   5.0kB/s  0.1s\n",
            "[+] 4.3s\n",
            "Downloading  (5)   91%\n",
            "Extracting  (119)  ⣾  \u001b[2K\u001b[1A\u001b[2K\u001b[1A\u001b[2K\u001b[0Gtomli                                               19.2kB @   4.4kB/s  0.1s\n",
            "seaborn-base                                       227.8kB @  52.4kB/s  0.1s\n",
            "pyyaml                                             213.1kB @  49.0kB/s  0.1s\n",
            "[+] 4.4s\n",
            "Downloading  (3)   92%\n",
            "Extracting  (121)  ⣾  \u001b[2K\u001b[1A\u001b[2K\u001b[1A\u001b[2K\u001b[0Glibfreetype6                                       380.1kB @  86.1kB/s  0.1s\n",
            "[+] 4.5s\n",
            "Downloading  (2)   94%\n",
            "Extracting  (122)  ⣾  \u001b[2K\u001b[1A\u001b[2K\u001b[1A\u001b[2K\u001b[0G[+] 4.6s\n",
            "Downloading  (2)   99%\n",
            "Extracting  (122)  ⣾  \u001b[2K\u001b[1A\u001b[2K\u001b[1A\u001b[2K\u001b[0Gpillow                                              43.5MB @   9.5MB/s  1.6s\n",
            "scipy                                               17.2MB @   3.7MB/s  0.6s\n",
            "[+] 4.7s\n",
            "Downloading       100%\n",
            "Extracting  (123)  ⣾  \u001b[2K\u001b[1A\u001b[2K\u001b[1A\u001b[2K\u001b[0G[+] 4.8s\n",
            "Downloading       100%\n",
            "Extracting  (122)  ⣾  \u001b[2K\u001b[1A\u001b[2K\u001b[1A\u001b[2K\u001b[0G[+] 4.9s\n",
            "Downloading       100%\n",
            "Extracting  (121)  ⣾  \u001b[2K\u001b[1A\u001b[2K\u001b[1A\u001b[2K\u001b[0G[+] 5.0s\n",
            "Downloading       100%\n",
            "Extracting  (121)  ⣾  \u001b[2K\u001b[1A\u001b[2K\u001b[1A\u001b[2K\u001b[0G[+] 5.1s\n",
            "Downloading       100%\n",
            "Extracting  (119)  ⣾  \u001b[2K\u001b[1A\u001b[2K\u001b[1A\u001b[2K\u001b[0G[+] 5.2s\n",
            "Downloading       100%\n",
            "Extracting  (118)  ⣾  \u001b[2K\u001b[1A\u001b[2K\u001b[1A\u001b[2K\u001b[0G[+] 5.3s\n",
            "Downloading       100%\n",
            "Extracting  (118)  ⣾  \u001b[2K\u001b[1A\u001b[2K\u001b[1A\u001b[2K\u001b[0G[+] 5.4s\n",
            "Downloading       100%\n",
            "Extracting  (117)  ⣾  \u001b[2K\u001b[1A\u001b[2K\u001b[1A\u001b[2K\u001b[0G[+] 5.5s\n",
            "Downloading       100%\n",
            "Extracting  (116)  ⣾  \u001b[2K\u001b[1A\u001b[2K\u001b[1A\u001b[2K\u001b[0G[+] 5.6s\n",
            "Downloading       100%\n",
            "Extracting  (116)  ⣾  \u001b[2K\u001b[1A\u001b[2K\u001b[1A\u001b[2K\u001b[0G[+] 5.7s\n",
            "Downloading       100%\n",
            "Extracting  (116)  ⣾  \u001b[2K\u001b[1A\u001b[2K\u001b[1A\u001b[2K\u001b[0G[+] 5.8s\n",
            "Downloading       100%\n",
            "Extracting  (116)  ⣾  \u001b[2K\u001b[1A\u001b[2K\u001b[1A\u001b[2K\u001b[0G[+] 5.9s\n",
            "Downloading       100%\n",
            "Extracting  (116)  ⣾  \u001b[2K\u001b[1A\u001b[2K\u001b[1A\u001b[2K\u001b[0G[+] 6.0s\n",
            "Downloading       100%\n",
            "Extracting  (116)  ⣾  \u001b[2K\u001b[1A\u001b[2K\u001b[1A\u001b[2K\u001b[0G[+] 6.1s\n",
            "Downloading       100%\n",
            "Extracting  (116)  ⣾  \u001b[2K\u001b[1A\u001b[2K\u001b[1A\u001b[2K\u001b[0G[+] 6.2s\n",
            "Downloading       100%\n",
            "Extracting  (116)  ⣾  \u001b[2K\u001b[1A\u001b[2K\u001b[1A\u001b[2K\u001b[0G[+] 6.3s\n",
            "Downloading       100%\n",
            "Extracting  (116)  ⣾  \u001b[2K\u001b[1A\u001b[2K\u001b[1A\u001b[2K\u001b[0G[+] 6.4s\n",
            "Downloading       100%\n",
            "Extracting  (115)  ⣾  \u001b[2K\u001b[1A\u001b[2K\u001b[1A\u001b[2K\u001b[0G[+] 6.5s\n",
            "Downloading       100%\n",
            "Extracting  (114)  ⣾  \u001b[2K\u001b[1A\u001b[2K\u001b[1A\u001b[2K\u001b[0G[+] 6.6s\n",
            "Downloading       100%\n",
            "Extracting  (113)  ⣾  \u001b[2K\u001b[1A\u001b[2K\u001b[1A\u001b[2K\u001b[0G[+] 6.7s\n",
            "Downloading       100%\n",
            "Extracting  (112)  ⣾  \u001b[2K\u001b[1A\u001b[2K\u001b[1A\u001b[2K\u001b[0G[+] 6.8s\n",
            "Downloading       100%\n",
            "Extracting  (110)  ⣾  \u001b[2K\u001b[1A\u001b[2K\u001b[1A\u001b[2K\u001b[0G[+] 6.9s\n",
            "Downloading       100%\n",
            "Extracting  (108)  ⣾  \u001b[2K\u001b[1A\u001b[2K\u001b[1A\u001b[2K\u001b[0G[+] 7.0s\n",
            "Downloading       100%\n",
            "Extracting  (107)  ⣾  \u001b[2K\u001b[1A\u001b[2K\u001b[1A\u001b[2K\u001b[0G[+] 7.1s\n",
            "Downloading       100%\n",
            "Extracting  (105)  ⣾  \u001b[2K\u001b[1A\u001b[2K\u001b[1A\u001b[2K\u001b[0G[+] 7.2s\n",
            "Downloading       100%\n",
            "Extracting  (103)  ⣾  \u001b[2K\u001b[1A\u001b[2K\u001b[1A\u001b[2K\u001b[0G[+] 7.3s\n",
            "Downloading       100%\n",
            "Extracting  (102)  ⣾  \u001b[2K\u001b[1A\u001b[2K\u001b[1A\u001b[2K\u001b[0G[+] 7.4s\n",
            "Downloading       100%\n",
            "Extracting  (100)  ⣾  \u001b[2K\u001b[1A\u001b[2K\u001b[1A\u001b[2K\u001b[0G[+] 7.5s\n",
            "Downloading      100%\n",
            "Extracting  (99)  ⣾  \u001b[2K\u001b[1A\u001b[2K\u001b[1A\u001b[2K\u001b[0G[+] 7.6s\n",
            "Downloading      100%\n",
            "Extracting  (98)  ⣾  \u001b[2K\u001b[1A\u001b[2K\u001b[1A\u001b[2K\u001b[0G[+] 7.7s\n",
            "Downloading      100%\n",
            "Extracting  (98)  ⣾  \u001b[2K\u001b[1A\u001b[2K\u001b[1A\u001b[2K\u001b[0G[+] 7.8s\n",
            "Downloading      100%\n",
            "Extracting  (98)  ⣾  \u001b[2K\u001b[1A\u001b[2K\u001b[1A\u001b[2K\u001b[0G[+] 7.9s\n",
            "Downloading      100%\n",
            "Extracting  (96)  ⣾  \u001b[2K\u001b[1A\u001b[2K\u001b[1A\u001b[2K\u001b[0G[+] 8.0s\n",
            "Downloading      100%\n",
            "Extracting  (93)  ⣾  \u001b[2K\u001b[1A\u001b[2K\u001b[1A\u001b[2K\u001b[0G[+] 8.1s\n",
            "Downloading      100%\n",
            "Extracting  (92)  ⣾  \u001b[2K\u001b[1A\u001b[2K\u001b[1A\u001b[2K\u001b[0G[+] 8.2s\n",
            "Downloading      100%\n",
            "Extracting  (92)  ⣾  \u001b[2K\u001b[1A\u001b[2K\u001b[1A\u001b[2K\u001b[0G[+] 8.3s\n",
            "Downloading      100%\n",
            "Extracting  (92)  ⣾  \u001b[2K\u001b[1A\u001b[2K\u001b[1A\u001b[2K\u001b[0G[+] 8.4s\n",
            "Downloading      100%\n",
            "Extracting  (90)  ⣾  \u001b[2K\u001b[1A\u001b[2K\u001b[1A\u001b[2K\u001b[0G[+] 8.5s\n",
            "Downloading      100%\n",
            "Extracting  (90)  ⣾  \u001b[2K\u001b[1A\u001b[2K\u001b[1A\u001b[2K\u001b[0G[+] 8.6s\n",
            "Downloading      100%\n",
            "Extracting  (89)  ⣾  \u001b[2K\u001b[1A\u001b[2K\u001b[1A\u001b[2K\u001b[0G[+] 8.7s\n",
            "Downloading      100%\n",
            "Extracting  (89)  ⣾  \u001b[2K\u001b[1A\u001b[2K\u001b[1A\u001b[2K\u001b[0G[+] 8.8s\n",
            "Downloading      100%\n",
            "Extracting  (88)  ⣾  \u001b[2K\u001b[1A\u001b[2K\u001b[1A\u001b[2K\u001b[0G[+] 8.9s\n",
            "Downloading      100%\n",
            "Extracting  (87)  ⣾  \u001b[2K\u001b[1A\u001b[2K\u001b[1A\u001b[2K\u001b[0G[+] 9.0s\n",
            "Downloading      100%\n",
            "Extracting  (87)  ⣾  \u001b[2K\u001b[1A\u001b[2K\u001b[1A\u001b[2K\u001b[0G[+] 9.1s\n",
            "Downloading      100%\n",
            "Extracting  (87)  ⣾  \u001b[2K\u001b[1A\u001b[2K\u001b[1A\u001b[2K\u001b[0G[+] 9.2s\n",
            "Downloading      100%\n",
            "Extracting  (85)  ⣾  \u001b[2K\u001b[1A\u001b[2K\u001b[1A\u001b[2K\u001b[0G[+] 9.3s\n",
            "Downloading      100%\n",
            "Extracting  (84)  ⣾  \u001b[2K\u001b[1A\u001b[2K\u001b[1A\u001b[2K\u001b[0G[+] 9.4s\n",
            "Downloading      100%\n",
            "Extracting  (83)  ⣾  \u001b[2K\u001b[1A\u001b[2K\u001b[1A\u001b[2K\u001b[0G[+] 9.5s\n",
            "Downloading      100%\n",
            "Extracting  (80)  ⣾  \u001b[2K\u001b[1A\u001b[2K\u001b[1A\u001b[2K\u001b[0G[+] 9.6s\n",
            "Downloading      100%\n",
            "Extracting  (77)  ⣾  \u001b[2K\u001b[1A\u001b[2K\u001b[1A\u001b[2K\u001b[0G[+] 9.7s\n",
            "Downloading      100%\n",
            "Extracting  (74)  ⣾  \u001b[2K\u001b[1A\u001b[2K\u001b[1A\u001b[2K\u001b[0G[+] 9.8s\n",
            "Downloading      100%\n",
            "Extracting  (71)  ⣾  \u001b[2K\u001b[1A\u001b[2K\u001b[1A\u001b[2K\u001b[0G[+] 9.9s\n",
            "Downloading      100%\n",
            "Extracting  (69)  ⣾  \u001b[2K\u001b[1A\u001b[2K\u001b[1A\u001b[2K\u001b[0G[+] 10.0s\n",
            "Downloading      100%\n",
            "Extracting  (67)  ⣾  \u001b[2K\u001b[1A\u001b[2K\u001b[1A\u001b[2K\u001b[0G[+] 10.1s\n",
            "Downloading      100%\n",
            "Extracting  (66)  ⣾  \u001b[2K\u001b[1A\u001b[2K\u001b[1A\u001b[2K\u001b[0G[+] 10.2s\n",
            "Downloading      100%\n",
            "Extracting  (66)  ⣾  \u001b[2K\u001b[1A\u001b[2K\u001b[1A\u001b[2K\u001b[0G[+] 10.3s\n",
            "Downloading      100%\n",
            "Extracting  (66)  ⣾  \u001b[2K\u001b[1A\u001b[2K\u001b[1A\u001b[2K\u001b[0G[+] 10.4s\n",
            "Downloading      100%\n",
            "Extracting  (65)  ⣾  \u001b[2K\u001b[1A\u001b[2K\u001b[1A\u001b[2K\u001b[0G[+] 10.5s\n",
            "Downloading      100%\n",
            "Extracting  (64)  ⣾  \u001b[2K\u001b[1A\u001b[2K\u001b[1A\u001b[2K\u001b[0G[+] 10.6s\n",
            "Downloading      100%\n",
            "Extracting  (62)  ⣾  \u001b[2K\u001b[1A\u001b[2K\u001b[1A\u001b[2K\u001b[0G[+] 10.7s\n",
            "Downloading      100%\n",
            "Extracting  (59)  ⣾  \u001b[2K\u001b[1A\u001b[2K\u001b[1A\u001b[2K\u001b[0G[+] 10.8s\n",
            "Downloading      100%\n",
            "Extracting  (57)  ⣾  \u001b[2K\u001b[1A\u001b[2K\u001b[1A\u001b[2K\u001b[0G[+] 10.9s\n",
            "Downloading      100%\n",
            "Extracting  (56)  ⣾  \u001b[2K\u001b[1A\u001b[2K\u001b[1A\u001b[2K\u001b[0G[+] 11.0s\n",
            "Downloading      100%\n",
            "Extracting  (56)  ⣾  \u001b[2K\u001b[1A\u001b[2K\u001b[1A\u001b[2K\u001b[0G[+] 11.1s\n",
            "Downloading      100%\n",
            "Extracting  (56)  ⣾  \u001b[2K\u001b[1A\u001b[2K\u001b[1A\u001b[2K\u001b[0G[+] 11.2s\n",
            "Downloading      100%\n",
            "Extracting  (54)  ⣾  \u001b[2K\u001b[1A\u001b[2K\u001b[1A\u001b[2K\u001b[0G[+] 11.3s\n",
            "Downloading      100%\n",
            "Extracting  (52)  ⣾  \u001b[2K\u001b[1A\u001b[2K\u001b[1A\u001b[2K\u001b[0G[+] 11.4s\n",
            "Downloading      100%\n",
            "Extracting  (51)  ⣾  \u001b[2K\u001b[1A\u001b[2K\u001b[1A\u001b[2K\u001b[0G[+] 11.5s\n",
            "Downloading      100%\n",
            "Extracting  (49)  ⣾  \u001b[2K\u001b[1A\u001b[2K\u001b[1A\u001b[2K\u001b[0G[+] 11.6s\n",
            "Downloading      100%\n",
            "Extracting  (49)  ⣾  \u001b[2K\u001b[1A\u001b[2K\u001b[1A\u001b[2K\u001b[0G[+] 11.7s\n",
            "Downloading      100%\n",
            "Extracting  (45)  ⣾  \u001b[2K\u001b[1A\u001b[2K\u001b[1A\u001b[2K\u001b[0G[+] 11.8s\n",
            "Downloading      100%\n",
            "Extracting  (41)  ⣾  \u001b[2K\u001b[1A\u001b[2K\u001b[1A\u001b[2K\u001b[0G[+] 11.9s\n",
            "Downloading      100%\n",
            "Extracting  (37)  ⣾  \u001b[2K\u001b[1A\u001b[2K\u001b[1A\u001b[2K\u001b[0G[+] 12.0s\n",
            "Downloading      100%\n",
            "Extracting  (36)  ⣾  \u001b[2K\u001b[1A\u001b[2K\u001b[1A\u001b[2K\u001b[0G[+] 12.1s\n",
            "Downloading      100%\n",
            "Extracting  (35)  ⣾  \u001b[2K\u001b[1A\u001b[2K\u001b[1A\u001b[2K\u001b[0G[+] 12.2s\n",
            "Downloading      100%\n",
            "Extracting  (33)  ⣾  \u001b[2K\u001b[1A\u001b[2K\u001b[1A\u001b[2K\u001b[0G[+] 12.3s\n",
            "Downloading      100%\n",
            "Extracting  (30)  ⣾  \u001b[2K\u001b[1A\u001b[2K\u001b[1A\u001b[2K\u001b[0G[+] 12.4s\n",
            "Downloading      100%\n",
            "Extracting  (27)  ⣾  \u001b[2K\u001b[1A\u001b[2K\u001b[1A\u001b[2K\u001b[0G[+] 12.5s\n",
            "Downloading      100%\n",
            "Extracting  (24)  ⣾  \u001b[2K\u001b[1A\u001b[2K\u001b[1A\u001b[2K\u001b[0G[+] 12.6s\n",
            "Downloading      100%\n",
            "Extracting  (20)  ⣾  \u001b[2K\u001b[1A\u001b[2K\u001b[1A\u001b[2K\u001b[0G[+] 12.7s\n",
            "Downloading      100%\n",
            "Extracting  (17)  ⣾  \u001b[2K\u001b[1A\u001b[2K\u001b[1A\u001b[2K\u001b[0G[+] 12.8s\n",
            "Downloading      100%\n",
            "Extracting  (14)  ⣾  \u001b[2K\u001b[1A\u001b[2K\u001b[1A\u001b[2K\u001b[0G[+] 12.9s\n",
            "Downloading      100%\n",
            "Extracting  (12)  ⣾  \u001b[2K\u001b[1A\u001b[2K\u001b[1A\u001b[2K\u001b[0G[+] 13.0s\n",
            "Downloading      100%\n",
            "Extracting  (11)  ⣾  \u001b[2K\u001b[1A\u001b[2K\u001b[1A\u001b[2K\u001b[0G[+] 13.1s\n",
            "Downloading      100%\n",
            "Extracting  (11)  ⣾  \u001b[2K\u001b[1A\u001b[2K\u001b[1A\u001b[2K\u001b[0G[+] 13.2s\n",
            "Downloading      100%\n",
            "Extracting  (11)  ⣾  \u001b[2K\u001b[1A\u001b[2K\u001b[1A\u001b[2K\u001b[0G[+] 13.3s\n",
            "Downloading      100%\n",
            "Extracting  (11)  ⣾  \u001b[2K\u001b[1A\u001b[2K\u001b[1A\u001b[2K\u001b[0G[+] 13.4s\n",
            "Downloading      100%\n",
            "Extracting  (10)  ⣾  \u001b[2K\u001b[1A\u001b[2K\u001b[1A\u001b[2K\u001b[0G[+] 13.5s\n",
            "Downloading      100%\n",
            "Extracting  (10)  ⣾  \u001b[2K\u001b[1A\u001b[2K\u001b[1A\u001b[2K\u001b[0G[+] 13.6s\n",
            "Downloading      100%\n",
            "Extracting   (9)  ⣾  \u001b[2K\u001b[1A\u001b[2K\u001b[1A\u001b[2K\u001b[0G[+] 13.7s\n",
            "Downloading      100%\n",
            "Extracting   (9)  ⣾  \u001b[2K\u001b[1A\u001b[2K\u001b[1A\u001b[2K\u001b[0G[+] 13.8s\n",
            "Downloading      100%\n",
            "Extracting   (8)  ⣾  \u001b[2K\u001b[1A\u001b[2K\u001b[1A\u001b[2K\u001b[0G[+] 13.9s\n",
            "Downloading      100%\n",
            "Extracting   (6)  ⣾  \u001b[2K\u001b[1A\u001b[2K\u001b[1A\u001b[2K\u001b[0G[+] 14.0s\n",
            "Downloading      100%\n",
            "Extracting   (3)  ⣾  \u001b[2K\u001b[1A\u001b[2K\u001b[1A\u001b[2K\u001b[0G[+] 14.1s\n",
            "Downloading      100%\n",
            "Extracting       100%\u001b[2K\u001b[1A\u001b[2K\u001b[1A\u001b[2K\u001b[0G\u001b[?25h\n",
            "Downloading and Extracting Packages:\n",
            "\n",
            "Preparing transaction: - \b\b\\ \b\b| \b\b/ \b\b- \b\b\\ \b\b| \b\b/ \b\b- \b\b\\ \b\bdone\n",
            "Verifying transaction: / \b\b- \b\b\\ \b\b| \b\b/ \b\b- \b\b\\ \b\b| \b\b/ \b\b- \b\b\\ \b\b| \b\b/ \b\b- \b\b\\ \b\b| \b\b/ \b\b- \b\b\\ \b\b| \b\b/ \b\b- \b\b\\ \b\b| \b\b/ \b\b- \b\b\\ \b\b| \b\b/ \b\b- \b\b\\ \b\b| \b\b/ \b\b- \b\b\\ \b\bdone\n",
            "Executing transaction: / \b\b- \b\b\\ \b\b| \b\b/ \b\b- \b\b\\ \b\b| \b\b/ \b\b- \b\b\\ \b\b| \b\b/ \b\b- \b\b\\ \b\b| \b\b/ \b\b- \b\b\\ \b\b| \b\b/ \b\b- \b\b\\ \b\b| \b\b/ \b\b- \b\b\\ \b\b| \b\b/ \b\b- \b\b\\ \b\b| \b\b/ \b\b- \b\b\\ \b\b| \b\b/ \b\b- \b\b\\ \b\b| \b\b/ \b\b- \b\b\\ \b\b| \b\b/ \b\b- \b\b\\ \b\b| \b\b/ \b\b- \b\b\\ \b\b| \b\b/ \b\b- \b\b\\ \b\b| \b\b/ \b\b- \b\b\\ \b\b| \b\b/ \b\b- \b\b\\ \b\b| \b\b/ \b\b- \b\b\\ \b\b| \b\b/ \b\b- \b\b\\ \b\b| \b\b/ \b\b- \b\b\\ \b\b| \b\b/ \b\b- \b\b\\ \b\b| \b\b/ \b\b- \b\b\\ \b\b| \b\b/ \b\b- \b\b\\ \b\b| \b\b/ \b\b- \b\b\\ \b\b| \b\b/ \b\b- \b\b\\ \b\b| \b\b/ \b\b- \b\b\\ \b\b| \b\b/ \b\b- \b\b\\ \b\b| \b\b/ \b\b- \b\b\\ \b\b| \b\b/ \b\b- \b\b\\ \b\bdone\n",
            "Cloning into 'ATCP-ML-workshop'...\n",
            "remote: Enumerating objects: 164, done.\u001b[K\n",
            "remote: Counting objects: 100% (50/50), done.\u001b[K\n",
            "remote: Compressing objects: 100% (42/42), done.\u001b[K\n",
            "remote: Total 164 (delta 24), reused 26 (delta 8), pack-reused 114 (from 1)\u001b[K\n",
            "Receiving objects: 100% (164/164), 109.19 MiB | 27.21 MiB/s, done.\n",
            "Resolving deltas: 100% (68/68), done.\n",
            "Updating files: 100% (36/36), done.\n"
          ]
        }
      ],
      "source": [
        "!if [ -n \"$COLAB_RELEASE_TAG\" ]; then pip install condacolab; fi\n",
        "import condacolab\n",
        "condacolab.install()\n",
        "\n",
        "import condacolab\n",
        "condacolab.check()\n",
        "!mamba install -c conda-forge mdanalysis mdanalysistests mdanalysisdata nglview scikit-learn ipywidgets=7.6.0\n",
        "\n",
        "# enable third party jupyter widgets\n",
        "from google.colab import output\n",
        "output.enable_custom_widget_manager()\n",
        "\n",
        "# copy over data repository\n",
        "!if [ -n \"$COLAB_RELEASE_TAG\" ]; then git clone https://github.com/Edinburgh-Chemistry-Teaching/ATCP-ML-workshop; fi\n",
        "!if [ -n \"$COLAB_RELEASE_TAG\" ]; then cp -r ATCP-ML-workshop/Workshops/workshop_02/data .; fi"
      ]
    },
    {
      "cell_type": "markdown",
      "id": "196868f4",
      "metadata": {
        "id": "196868f4"
      },
      "source": [
        "To get started with this tutorial, we will need to install an additional package [MDAnalysis](https://www.mdanalysis.org/) used for parsing and analysing molecular dynamics (MD) simulation data. <b><i>You do not need to run this cell if you are running on colab because it has been installed above."
      ]
    },
    {
      "cell_type": "code",
      "execution_count": null,
      "id": "c68d322f",
      "metadata": {
        "id": "c68d322f"
      },
      "outputs": [],
      "source": [
        "!pip install MDAnalysis"
      ]
    },
    {
      "cell_type": "markdown",
      "id": "db368f69",
      "metadata": {
        "id": "db368f69"
      },
      "source": [
        "We then import all the packages."
      ]
    },
    {
      "cell_type": "code",
      "execution_count": 2,
      "id": "5f22ed32",
      "metadata": {
        "id": "5f22ed32"
      },
      "outputs": [],
      "source": [
        "from copy import deepcopy\n",
        "\n",
        "import numpy as np\n",
        "import matplotlib.pyplot as plt\n",
        "import os\n",
        "import MDAnalysis as mda\n",
        "\n",
        "import warnings\n",
        "warnings.filterwarnings(\"ignore\")"
      ]
    },
    {
      "cell_type": "markdown",
      "id": "dc15ee17",
      "metadata": {
        "id": "dc15ee17"
      },
      "source": [
        "## 1. Introduction"
      ]
    },
    {
      "cell_type": "markdown",
      "id": "5bc18970",
      "metadata": {
        "id": "5bc18970"
      },
      "source": [
        "In this tutorial we will use the simulation of enzyme protein MurD, which is used by bateria to synthesize peptidoglycan. MurD switches between open and closed states to facilitate the catalytic cycle. The open state allows MurD to bind to its substrates and to release the product once the reaction is complete, while the closed states correctly position the catalytic residues to make the reaction to occur. Let's start by loading the downsampled trajectories of its closed (PDB: [3UAG](https://www.rcsb.org/structure/3UAG)) and open (PDB: [1E0D](https://www.rcsb.org/structure/1E0D)) states. Both simulation data are 140 ns-long with a step size of 0.2 ns, and feature only backbone atoms of residues 7-436."
      ]
    },
    {
      "cell_type": "markdown",
      "id": "b17f2175",
      "metadata": {
        "id": "b17f2175"
      },
      "source": [
        "<figure style=\"text-align: center;\">\n",
        "    <img src=\"https://github.com/Edinburgh-Chemistry-Teaching/ATCP-ML-workshop/blob/main/Workshops/workshop_02/data/closed.bmp.bmp?raw=1\"\n",
        "         alt=\"murd_closed\"\n",
        "         width=\"45%\">\n",
        "    <img src=\"https://github.com/Edinburgh-Chemistry-Teaching/ATCP-ML-workshop/blob/main/Workshops/workshop_02/data/open.bmp.bmp?raw=1\"\n",
        "         alt=\"murd_open\"\n",
        "         width=\"45%\">\n",
        "    <figcaption> Figure. The closed (blue) and open (red) conformations of MurD. </figcaption>\n",
        "</figure>"
      ]
    },
    {
      "cell_type": "code",
      "execution_count": 3,
      "id": "253a2f80",
      "metadata": {
        "id": "253a2f80"
      },
      "outputs": [],
      "source": [
        "# Here are all the data files:\n",
        "data_path = 'data'\n",
        "pdb_file_closed = os.path.join(data_path,'MurD_closed_backbone.pdb') # this is the path where the three simulations are located\n",
        "pdb_file_open = os.path.join(data_path,'MurD_open_backbone.pdb')\n",
        "pdb_file_closed_apo = os.path.join(data_path,'MurD_closed_apo_backbone.pdb')"
      ]
    },
    {
      "cell_type": "code",
      "execution_count": 4,
      "id": "590ac822",
      "metadata": {
        "id": "590ac822"
      },
      "outputs": [],
      "source": [
        "universe_closed = mda.Universe(pdb_file_closed)"
      ]
    },
    {
      "cell_type": "code",
      "execution_count": 5,
      "id": "9a6223a4",
      "metadata": {
        "id": "9a6223a4"
      },
      "outputs": [],
      "source": [
        "universe_open = mda.Universe(pdb_file_open)"
      ]
    },
    {
      "cell_type": "markdown",
      "id": "391b5493",
      "metadata": {
        "id": "391b5493"
      },
      "source": [
        "By taking the closed conformation and manually removing the ligand, the protein switches to an open conformation. This is the simulation transitioning from the closed to open state that we want to classify. We will load 100 ns sampled every 0.2 ns (same atom selection as above)."
      ]
    },
    {
      "cell_type": "code",
      "execution_count": 6,
      "id": "79be7ded",
      "metadata": {
        "id": "79be7ded"
      },
      "outputs": [],
      "source": [
        "universe_closed_apo = mda.Universe(pdb_file_closed_apo)"
      ]
    },
    {
      "cell_type": "markdown",
      "id": "33b28ab0",
      "metadata": {
        "id": "33b28ab0"
      },
      "source": [
        "Our objective in this exercise is to assign the conformations of the latter simulation to either the closed or the open state. We will achieve this goal by training a classification algorithm."
      ]
    },
    {
      "cell_type": "markdown",
      "id": "70575c8d",
      "metadata": {
        "id": "70575c8d"
      },
      "source": [
        "## 2. Setup of feature extraction tools"
      ]
    },
    {
      "cell_type": "markdown",
      "id": "0965f351",
      "metadata": {
        "id": "0965f351"
      },
      "source": [
        "Different from the previous exercises on dimensionality reduction, the features to be extracted from MD simulations are often empirical. The class `Featurizer` implements some common ways of extracting features from a simulation using MDAnalysis. Run this cell as-is."
      ]
    },
    {
      "cell_type": "code",
      "execution_count": 7,
      "id": "57e3ac17",
      "metadata": {
        "id": "57e3ac17"
      },
      "outputs": [],
      "source": [
        "from MDAnalysis.analysis.dihedrals import Ramachandran\n",
        "from MDAnalysis.analysis import distances\n",
        "\n",
        "class Featurizer(object):\n",
        "\n",
        "    def __init__(self, feature):\n",
        "        '''Featurizer class for extracting MD features with MDAnalysis\n",
        "        Parameters:\n",
        "        -----------\n",
        "        feature : String\n",
        "            name of feature\n",
        "        '''\n",
        "        if feature == \"ramachandran\":\n",
        "            self.get_features = self._get_features_ramachandran\n",
        "        elif feature == \"distance matrix\":\n",
        "            self.get_features = self._get_features_distance_matrix\n",
        "        elif feature == \"coordinates\":\n",
        "            self.get_features = self._get_features_coordinates\n",
        "        elif feature == \"custom\":\n",
        "            self.get_features = self._get_features_custom\n",
        "        else:\n",
        "            raise Exception(\"Features extraction method %s not recognised\"%feature)\n",
        "\n",
        "        self.feature = feature\n",
        "\n",
        "\n",
        "    def _get_features_coordinates(self, universe):\n",
        "        '''\n",
        "        alpha carbons coordinates\n",
        "        '''\n",
        "        crds = []\n",
        "        ca = universe.select_atoms(\"name CA\")\n",
        "        for ts in universe.trajectory:\n",
        "            crds.append(ca.positions.flatten())\n",
        "\n",
        "        return np.array(crds)\n",
        "\n",
        "\n",
        "    def _get_features_ramachandran(self, universe):\n",
        "        '''\n",
        "        dihedral angles\n",
        "        '''\n",
        "        r = Ramachandran(universe.select_atoms('protein')).run()\n",
        "        r_sin = np.sin(np.deg2rad(r.angles))\n",
        "        r_cos = np.cos(np.deg2rad(r.angles))\n",
        "\n",
        "        r_sin = r_sin.reshape((r_sin.shape[0], np.prod(r_sin.shape[1:])))\n",
        "        r_cos = r_cos.reshape((r_cos.shape[0], np.prod(r_cos.shape[1:])))\n",
        "        return np.concatenate((r_sin, r_cos), axis=1)\n",
        "\n",
        "\n",
        "    def _get_features_distance_matrix(self, universe):\n",
        "        '''\n",
        "        returns distance matrix of each conformation (lower diagonal, flattened)\n",
        "        '''\n",
        "        crds = []\n",
        "        ca = universe.select_atoms(\"name CA\")\n",
        "        for ts in universe.trajectory:\n",
        "            crds.append(distances.self_distance_array(ca.positions))\n",
        "\n",
        "        return np.array(crds)\n",
        "\n",
        "\n",
        "    def _get_features_custom(self, universe):\n",
        "        pass"
      ]
    },
    {
      "cell_type": "markdown",
      "id": "608c5fdc",
      "metadata": {
        "id": "608c5fdc"
      },
      "source": [
        "## 3. Preparation and analysis of training set"
      ]
    },
    {
      "cell_type": "markdown",
      "id": "aa807ca7",
      "metadata": {
        "id": "aa807ca7"
      },
      "source": [
        "We are now ready to collect features from two independent simulations of the closed and open state of MurD. Let's start by defining which kind of feature we are interested in extracting from the simulation. Firstly we compute the alpha-carbon coordinates of the protein."
      ]
    },
    {
      "cell_type": "code",
      "execution_count": 8,
      "id": "3c32bfda",
      "metadata": {
        "id": "3c32bfda"
      },
      "outputs": [],
      "source": [
        "feature_type = \"coordinates\"\n",
        "F = Featurizer(feature_type)"
      ]
    },
    {
      "cell_type": "markdown",
      "id": "d40d91e4",
      "metadata": {
        "id": "d40d91e4"
      },
      "source": [
        "We will now extract the features from the simulations of closed and open state. This may take some time."
      ]
    },
    {
      "cell_type": "code",
      "execution_count": 9,
      "id": "1dd3c319",
      "metadata": {
        "colab": {
          "base_uri": "https://localhost:8080/"
        },
        "id": "1dd3c319",
        "outputId": "16463114-71f8-460c-b95e-cef510caf96f"
      },
      "outputs": [
        {
          "output_type": "stream",
          "name": "stdout",
          "text": [
            "closed state: 700 conformations, 1290 features\n",
            "open state: 700 conformations, 1290 features\n"
          ]
        }
      ],
      "source": [
        "# extract features from the simulations of the closed state\n",
        "feat_closed = F.get_features(universe_closed)\n",
        "print(f'closed state: {feat_closed.shape[0]} conformations, {feat_closed.shape[1]} features')\n",
        "\n",
        "# extract features from the simulation of the open state\n",
        "feat_open = F.get_features(universe_open)\n",
        "print(f'open state: {feat_open.shape[0]} conformations, {feat_open.shape[1]} features')"
      ]
    },
    {
      "cell_type": "markdown",
      "id": "d37a36bf",
      "metadata": {
        "id": "d37a36bf"
      },
      "source": [
        "Let's now convert the features we just extracted in datasets ready for classification. The datasets are combined and randomly split into training and test sets."
      ]
    },
    {
      "cell_type": "code",
      "execution_count": 10,
      "id": "e32011a5",
      "metadata": {
        "id": "e32011a5"
      },
      "outputs": [],
      "source": [
        "from sklearn.model_selection import train_test_split\n",
        "\n",
        "all_features = np.concatenate((feat_closed, feat_open))\n",
        "all_classes = np.concatenate((np.zeros(len(feat_closed)), np.ones(len(feat_open)))) #two numbered classes, 0: closed, 1: open.\n",
        "\n",
        "train_set, test_set, train_class, test_class = train_test_split(all_features, all_classes, train_size=0.9)"
      ]
    },
    {
      "cell_type": "markdown",
      "id": "68f28e66",
      "metadata": {
        "id": "68f28e66"
      },
      "source": [
        "Before going further, it is a good idea to take look at the training data we have just produced by projecting it on a lower dimensional space using Principal Components Analysis ([PCA](https://scikit-learn.org/stable/modules/generated/sklearn.decomposition.PCA.html))."
      ]
    },
    {
      "cell_type": "code",
      "execution_count": 11,
      "id": "e7df846e",
      "metadata": {
        "id": "e7df846e"
      },
      "outputs": [],
      "source": [
        "from sklearn.decomposition import PCA\n",
        "\n",
        "pca = PCA(n_components=2)\n",
        "pca.fit(train_set)\n",
        "proj_closed = pca.transform(feat_closed)\n",
        "proj_open = pca.transform(feat_open)"
      ]
    },
    {
      "cell_type": "markdown",
      "id": "1e369a63",
      "metadata": {
        "id": "1e369a63"
      },
      "source": [
        "Now, let's plot a projection of the data in 2D space, also reporting the percentage of variance represented by each component."
      ]
    },
    {
      "cell_type": "code",
      "execution_count": 12,
      "id": "f69ff0a0",
      "metadata": {
        "colab": {
          "base_uri": "https://localhost:8080/",
          "height": 471
        },
        "id": "f69ff0a0",
        "outputId": "ce9d772f-8378-487c-c6aa-0f95e6a49ec5"
      },
      "outputs": [
        {
          "output_type": "execute_result",
          "data": {
            "text/plain": [
              "<matplotlib.legend.Legend at 0x7cfd087077d0>"
            ]
          },
          "metadata": {},
          "execution_count": 12
        },
        {
          "output_type": "display_data",
          "data": {
            "text/plain": [
              "<Figure size 640x480 with 1 Axes>"
            ],
            "image/png": "[encoded data removed]"
          },
          "metadata": {}
        }
      ],
      "source": [
        "fig = plt.figure()\n",
        "ax = fig.add_subplot(1, 1, 1)\n",
        "ax.scatter(proj_closed[:, 0], proj_closed[:, 1], alpha=0.2, color=\"dodgerblue\", label=\"closed\")\n",
        "ax.scatter(proj_open[:, 0], proj_open[:, 1], alpha=0.2, color=\"red\", label=\"open\")\n",
        "ax.set_xlabel(f'PC 1, {pca.explained_variance_ratio_[0]*100:3.2f}%')\n",
        "ax.set_ylabel(f'PC 2, {pca.explained_variance_ratio_[1]*100:3.2f}%')\n",
        "ax.legend(frameon=False)"
      ]
    },
    {
      "cell_type": "markdown",
      "source": [
        "Both give well separated clusters, so difference in conformation is obvious. More diffuse cluster for open than closed conformation, suggesting in its open conformation the enyzme's structure shifts more than in closed."
      ],
      "metadata": {
        "id": "zKM3ZnjTt7Pa"
      },
      "id": "zKM3ZnjTt7Pa"
    },
    {
      "cell_type": "markdown",
      "id": "4afda96e",
      "metadata": {
        "id": "4afda96e"
      },
      "source": [
        "<div class=\"alert alert-success\">\n",
        "<b>Task 1.</b> Discuss: Do PC1 and PC2 give you well-separated clusters? What does this tell us about the features we extracted? Do you need more dimensions to obtain a better separation?</div>"
      ]
    },
    {
      "cell_type": "markdown",
      "id": "e6b1885a",
      "metadata": {
        "id": "e6b1885a"
      },
      "source": [
        "<details>\n",
        "<summary> <mark> Answer 1</mark> </summary>\n",
        "If the open and closed state are well-separated in the 2D projection, this means that the features selected are highly correlated.\n",
        "</details>"
      ]
    },
    {
      "cell_type": "markdown",
      "id": "5aa6e42f",
      "metadata": {
        "id": "5aa6e42f"
      },
      "source": [
        "## 4. Training a Random Forests classifier on input data <a id=\"training\"></a>"
      ]
    },
    {
      "cell_type": "markdown",
      "id": "bfb4da29",
      "metadata": {
        "id": "bfb4da29"
      },
      "source": [
        "Let's start by training a [Random Forests Classifier](https://scikit-learn.org/stable/modules/generated/sklearn.ensemble.RandomForestClassifier.html) (RF) using the training set we have just assembled. The RF is constituted by a collection of decision trees, each trained on a subset of data (\"data bagging\") and subset of features (\"features bagging\"). The key philosophy behind RF is that a collection of weak classifiers (here, decision trees) makes a strong classifier. After training, classification is done by voting: each decision tree proposes a classification, and the most voted class wins. A key advantage of this approah, is that RF does not overfit."
      ]
    },
    {
      "cell_type": "code",
      "execution_count": 27,
      "id": "cdd04909",
      "metadata": {
        "colab": {
          "base_uri": "https://localhost:8080/",
          "height": 80
        },
        "id": "cdd04909",
        "outputId": "c93e4880-2b06-4afb-d9e5-fd784495b3f8"
      },
      "outputs": [
        {
          "output_type": "execute_result",
          "data": {
            "text/plain": [
              "RandomForestClassifier(n_estimators=10)"
            ],
            "text/html": [
              "<style>#sk-container-id-5 {\n",
              "  /* Definition of color scheme common for light and dark mode */\n",
              "  --sklearn-color-text: #000;\n",
              "  --sklearn-color-text-muted: #666;\n",
              "  --sklearn-color-line: gray;\n",
              "  /* Definition of color scheme for unfitted estimators */\n",
              "  --sklearn-color-unfitted-level-0: #fff5e6;\n",
              "  --sklearn-color-unfitted-level-1: #f6e4d2;\n",
              "  --sklearn-color-unfitted-level-2: #ffe0b3;\n",
              "  --sklearn-color-unfitted-level-3: chocolate;\n",
              "  /* Definition of color scheme for fitted estimators */\n",
              "  --sklearn-color-fitted-level-0: #f0f8ff;\n",
              "  --sklearn-color-fitted-level-1: #d4ebff;\n",
              "  --sklearn-color-fitted-level-2: #b3dbfd;\n",
              "  --sklearn-color-fitted-level-3: cornflowerblue;\n",
              "\n",
              "  /* Specific color for light theme */\n",
              "  --sklearn-color-text-on-default-background: var(--sg-text-color, var(--theme-code-foreground, var(--jp-content-font-color1, black)));\n",
              "  --sklearn-color-background: var(--sg-background-color, var(--theme-background, var(--jp-layout-color0, white)));\n",
              "  --sklearn-color-border-box: var(--sg-text-color, var(--theme-code-foreground, var(--jp-content-font-color1, black)));\n",
              "  --sklearn-color-icon: #696969;\n",
              "\n",
              "  @media (prefers-color-scheme: dark) {\n",
              "    /* Redefinition of color scheme for dark theme */\n",
              "    --sklearn-color-text-on-default-background: var(--sg-text-color, var(--theme-code-foreground, var(--jp-content-font-color1, white)));\n",
              "    --sklearn-color-background: var(--sg-background-color, var(--theme-background, var(--jp-layout-color0, #111)));\n",
              "    --sklearn-color-border-box: var(--sg-text-color, var(--theme-code-foreground, var(--jp-content-font-color1, white)));\n",
              "    --sklearn-color-icon: #878787;\n",
              "  }\n",
              "}\n",
              "\n",
              "#sk-container-id-5 {\n",
              "  color: var(--sklearn-color-text);\n",
              "}\n",
              "\n",
              "#sk-container-id-5 pre {\n",
              "  padding: 0;\n",
              "}\n",
              "\n",
              "#sk-container-id-5 input.sk-hidden--visually {\n",
              "  border: 0;\n",
              "  clip: rect(1px 1px 1px 1px);\n",
              "  clip: rect(1px, 1px, 1px, 1px);\n",
              "  height: 1px;\n",
              "  margin: -1px;\n",
              "  overflow: hidden;\n",
              "  padding: 0;\n",
              "  position: absolute;\n",
              "  width: 1px;\n",
              "}\n",
              "\n",
              "#sk-container-id-5 div.sk-dashed-wrapped {\n",
              "  border: 1px dashed var(--sklearn-color-line);\n",
              "  margin: 0 0.4em 0.5em 0.4em;\n",
              "  box-sizing: border-box;\n",
              "  padding-bottom: 0.4em;\n",
              "  background-color: var(--sklearn-color-background);\n",
              "}\n",
              "\n",
              "#sk-container-id-5 div.sk-container {\n",
              "  /* jupyter's `normalize.less` sets `[hidden] { display: none; }`\n",
              "     but bootstrap.min.css set `[hidden] { display: none !important; }`\n",
              "     so we also need the `!important` here to be able to override the\n",
              "     default hidden behavior on the sphinx rendered scikit-learn.org.\n",
              "     See: https://github.com/scikit-learn/scikit-learn/issues/21755 */\n",
              "  display: inline-block !important;\n",
              "  position: relative;\n",
              "}\n",
              "\n",
              "#sk-container-id-5 div.sk-text-repr-fallback {\n",
              "  display: none;\n",
              "}\n",
              "\n",
              "div.sk-parallel-item,\n",
              "div.sk-serial,\n",
              "div.sk-item {\n",
              "  /* draw centered vertical line to link estimators */\n",
              "  background-image: linear-gradient(var(--sklearn-color-text-on-default-background), var(--sklearn-color-text-on-default-background));\n",
              "  background-size: 2px 100%;\n",
              "  background-repeat: no-repeat;\n",
              "  background-position: center center;\n",
              "}\n",
              "\n",
              "/* Parallel-specific style estimator block */\n",
              "\n",
              "#sk-container-id-5 div.sk-parallel-item::after {\n",
              "  content: \"\";\n",
              "  width: 100%;\n",
              "  border-bottom: 2px solid var(--sklearn-color-text-on-default-background);\n",
              "  flex-grow: 1;\n",
              "}\n",
              "\n",
              "#sk-container-id-5 div.sk-parallel {\n",
              "  display: flex;\n",
              "  align-items: stretch;\n",
              "  justify-content: center;\n",
              "  background-color: var(--sklearn-color-background);\n",
              "  position: relative;\n",
              "}\n",
              "\n",
              "#sk-container-id-5 div.sk-parallel-item {\n",
              "  display: flex;\n",
              "  flex-direction: column;\n",
              "}\n",
              "\n",
              "#sk-container-id-5 div.sk-parallel-item:first-child::after {\n",
              "  align-self: flex-end;\n",
              "  width: 50%;\n",
              "}\n",
              "\n",
              "#sk-container-id-5 div.sk-parallel-item:last-child::after {\n",
              "  align-self: flex-start;\n",
              "  width: 50%;\n",
              "}\n",
              "\n",
              "#sk-container-id-5 div.sk-parallel-item:only-child::after {\n",
              "  width: 0;\n",
              "}\n",
              "\n",
              "/* Serial-specific style estimator block */\n",
              "\n",
              "#sk-container-id-5 div.sk-serial {\n",
              "  display: flex;\n",
              "  flex-direction: column;\n",
              "  align-items: center;\n",
              "  background-color: var(--sklearn-color-background);\n",
              "  padding-right: 1em;\n",
              "  padding-left: 1em;\n",
              "}\n",
              "\n",
              "\n",
              "/* Toggleable style: style used for estimator/Pipeline/ColumnTransformer box that is\n",
              "clickable and can be expanded/collapsed.\n",
              "- Pipeline and ColumnTransformer use this feature and define the default style\n",
              "- Estimators will overwrite some part of the style using the `sk-estimator` class\n",
              "*/\n",
              "\n",
              "/* Pipeline and ColumnTransformer style (default) */\n",
              "\n",
              "#sk-container-id-5 div.sk-toggleable {\n",
              "  /* Default theme specific background. It is overwritten whether we have a\n",
              "  specific estimator or a Pipeline/ColumnTransformer */\n",
              "  background-color: var(--sklearn-color-background);\n",
              "}\n",
              "\n",
              "/* Toggleable label */\n",
              "#sk-container-id-5 label.sk-toggleable__label {\n",
              "  cursor: pointer;\n",
              "  display: flex;\n",
              "  width: 100%;\n",
              "  margin-bottom: 0;\n",
              "  padding: 0.5em;\n",
              "  box-sizing: border-box;\n",
              "  text-align: center;\n",
              "  align-items: start;\n",
              "  justify-content: space-between;\n",
              "  gap: 0.5em;\n",
              "}\n",
              "\n",
              "#sk-container-id-5 label.sk-toggleable__label .caption {\n",
              "  font-size: 0.6rem;\n",
              "  font-weight: lighter;\n",
              "  color: var(--sklearn-color-text-muted);\n",
              "}\n",
              "\n",
              "#sk-container-id-5 label.sk-toggleable__label-arrow:before {\n",
              "  /* Arrow on the left of the label */\n",
              "  content: \"▸\";\n",
              "  float: left;\n",
              "  margin-right: 0.25em;\n",
              "  color: var(--sklearn-color-icon);\n",
              "}\n",
              "\n",
              "#sk-container-id-5 label.sk-toggleable__label-arrow:hover:before {\n",
              "  color: var(--sklearn-color-text);\n",
              "}\n",
              "\n",
              "/* Toggleable content - dropdown */\n",
              "\n",
              "#sk-container-id-5 div.sk-toggleable__content {\n",
              "  max-height: 0;\n",
              "  max-width: 0;\n",
              "  overflow: hidden;\n",
              "  text-align: left;\n",
              "  /* unfitted */\n",
              "  background-color: var(--sklearn-color-unfitted-level-0);\n",
              "}\n",
              "\n",
              "#sk-container-id-5 div.sk-toggleable__content.fitted {\n",
              "  /* fitted */\n",
              "  background-color: var(--sklearn-color-fitted-level-0);\n",
              "}\n",
              "\n",
              "#sk-container-id-5 div.sk-toggleable__content pre {\n",
              "  margin: 0.2em;\n",
              "  border-radius: 0.25em;\n",
              "  color: var(--sklearn-color-text);\n",
              "  /* unfitted */\n",
              "  background-color: var(--sklearn-color-unfitted-level-0);\n",
              "}\n",
              "\n",
              "#sk-container-id-5 div.sk-toggleable__content.fitted pre {\n",
              "  /* unfitted */\n",
              "  background-color: var(--sklearn-color-fitted-level-0);\n",
              "}\n",
              "\n",
              "#sk-container-id-5 input.sk-toggleable__control:checked~div.sk-toggleable__content {\n",
              "  /* Expand drop-down */\n",
              "  max-height: 200px;\n",
              "  max-width: 100%;\n",
              "  overflow: auto;\n",
              "}\n",
              "\n",
              "#sk-container-id-5 input.sk-toggleable__control:checked~label.sk-toggleable__label-arrow:before {\n",
              "  content: \"▾\";\n",
              "}\n",
              "\n",
              "/* Pipeline/ColumnTransformer-specific style */\n",
              "\n",
              "#sk-container-id-5 div.sk-label input.sk-toggleable__control:checked~label.sk-toggleable__label {\n",
              "  color: var(--sklearn-color-text);\n",
              "  background-color: var(--sklearn-color-unfitted-level-2);\n",
              "}\n",
              "\n",
              "#sk-container-id-5 div.sk-label.fitted input.sk-toggleable__control:checked~label.sk-toggleable__label {\n",
              "  background-color: var(--sklearn-color-fitted-level-2);\n",
              "}\n",
              "\n",
              "/* Estimator-specific style */\n",
              "\n",
              "/* Colorize estimator box */\n",
              "#sk-container-id-5 div.sk-estimator input.sk-toggleable__control:checked~label.sk-toggleable__label {\n",
              "  /* unfitted */\n",
              "  background-color: var(--sklearn-color-unfitted-level-2);\n",
              "}\n",
              "\n",
              "#sk-container-id-5 div.sk-estimator.fitted input.sk-toggleable__control:checked~label.sk-toggleable__label {\n",
              "  /* fitted */\n",
              "  background-color: var(--sklearn-color-fitted-level-2);\n",
              "}\n",
              "\n",
              "#sk-container-id-5 div.sk-label label.sk-toggleable__label,\n",
              "#sk-container-id-5 div.sk-label label {\n",
              "  /* The background is the default theme color */\n",
              "  color: var(--sklearn-color-text-on-default-background);\n",
              "}\n",
              "\n",
              "/* On hover, darken the color of the background */\n",
              "#sk-container-id-5 div.sk-label:hover label.sk-toggleable__label {\n",
              "  color: var(--sklearn-color-text);\n",
              "  background-color: var(--sklearn-color-unfitted-level-2);\n",
              "}\n",
              "\n",
              "/* Label box, darken color on hover, fitted */\n",
              "#sk-container-id-5 div.sk-label.fitted:hover label.sk-toggleable__label.fitted {\n",
              "  color: var(--sklearn-color-text);\n",
              "  background-color: var(--sklearn-color-fitted-level-2);\n",
              "}\n",
              "\n",
              "/* Estimator label */\n",
              "\n",
              "#sk-container-id-5 div.sk-label label {\n",
              "  font-family: monospace;\n",
              "  font-weight: bold;\n",
              "  display: inline-block;\n",
              "  line-height: 1.2em;\n",
              "}\n",
              "\n",
              "#sk-container-id-5 div.sk-label-container {\n",
              "  text-align: center;\n",
              "}\n",
              "\n",
              "/* Estimator-specific */\n",
              "#sk-container-id-5 div.sk-estimator {\n",
              "  font-family: monospace;\n",
              "  border: 1px dotted var(--sklearn-color-border-box);\n",
              "  border-radius: 0.25em;\n",
              "  box-sizing: border-box;\n",
              "  margin-bottom: 0.5em;\n",
              "  /* unfitted */\n",
              "  background-color: var(--sklearn-color-unfitted-level-0);\n",
              "}\n",
              "\n",
              "#sk-container-id-5 div.sk-estimator.fitted {\n",
              "  /* fitted */\n",
              "  background-color: var(--sklearn-color-fitted-level-0);\n",
              "}\n",
              "\n",
              "/* on hover */\n",
              "#sk-container-id-5 div.sk-estimator:hover {\n",
              "  /* unfitted */\n",
              "  background-color: var(--sklearn-color-unfitted-level-2);\n",
              "}\n",
              "\n",
              "#sk-container-id-5 div.sk-estimator.fitted:hover {\n",
              "  /* fitted */\n",
              "  background-color: var(--sklearn-color-fitted-level-2);\n",
              "}\n",
              "\n",
              "/* Specification for estimator info (e.g. \"i\" and \"?\") */\n",
              "\n",
              "/* Common style for \"i\" and \"?\" */\n",
              "\n",
              ".sk-estimator-doc-link,\n",
              "a:link.sk-estimator-doc-link,\n",
              "a:visited.sk-estimator-doc-link {\n",
              "  float: right;\n",
              "  font-size: smaller;\n",
              "  line-height: 1em;\n",
              "  font-family: monospace;\n",
              "  background-color: var(--sklearn-color-background);\n",
              "  border-radius: 1em;\n",
              "  height: 1em;\n",
              "  width: 1em;\n",
              "  text-decoration: none !important;\n",
              "  margin-left: 0.5em;\n",
              "  text-align: center;\n",
              "  /* unfitted */\n",
              "  border: var(--sklearn-color-unfitted-level-1) 1pt solid;\n",
              "  color: var(--sklearn-color-unfitted-level-1);\n",
              "}\n",
              "\n",
              ".sk-estimator-doc-link.fitted,\n",
              "a:link.sk-estimator-doc-link.fitted,\n",
              "a:visited.sk-estimator-doc-link.fitted {\n",
              "  /* fitted */\n",
              "  border: var(--sklearn-color-fitted-level-1) 1pt solid;\n",
              "  color: var(--sklearn-color-fitted-level-1);\n",
              "}\n",
              "\n",
              "/* On hover */\n",
              "div.sk-estimator:hover .sk-estimator-doc-link:hover,\n",
              ".sk-estimator-doc-link:hover,\n",
              "div.sk-label-container:hover .sk-estimator-doc-link:hover,\n",
              ".sk-estimator-doc-link:hover {\n",
              "  /* unfitted */\n",
              "  background-color: var(--sklearn-color-unfitted-level-3);\n",
              "  color: var(--sklearn-color-background);\n",
              "  text-decoration: none;\n",
              "}\n",
              "\n",
              "div.sk-estimator.fitted:hover .sk-estimator-doc-link.fitted:hover,\n",
              ".sk-estimator-doc-link.fitted:hover,\n",
              "div.sk-label-container:hover .sk-estimator-doc-link.fitted:hover,\n",
              ".sk-estimator-doc-link.fitted:hover {\n",
              "  /* fitted */\n",
              "  background-color: var(--sklearn-color-fitted-level-3);\n",
              "  color: var(--sklearn-color-background);\n",
              "  text-decoration: none;\n",
              "}\n",
              "\n",
              "/* Span, style for the box shown on hovering the info icon */\n",
              ".sk-estimator-doc-link span {\n",
              "  display: none;\n",
              "  z-index: 9999;\n",
              "  position: relative;\n",
              "  font-weight: normal;\n",
              "  right: .2ex;\n",
              "  padding: .5ex;\n",
              "  margin: .5ex;\n",
              "  width: min-content;\n",
              "  min-width: 20ex;\n",
              "  max-width: 50ex;\n",
              "  color: var(--sklearn-color-text);\n",
              "  box-shadow: 2pt 2pt 4pt #999;\n",
              "  /* unfitted */\n",
              "  background: var(--sklearn-color-unfitted-level-0);\n",
              "  border: .5pt solid var(--sklearn-color-unfitted-level-3);\n",
              "}\n",
              "\n",
              ".sk-estimator-doc-link.fitted span {\n",
              "  /* fitted */\n",
              "  background: var(--sklearn-color-fitted-level-0);\n",
              "  border: var(--sklearn-color-fitted-level-3);\n",
              "}\n",
              "\n",
              ".sk-estimator-doc-link:hover span {\n",
              "  display: block;\n",
              "}\n",
              "\n",
              "/* \"?\"-specific style due to the `<a>` HTML tag */\n",
              "\n",
              "#sk-container-id-5 a.estimator_doc_link {\n",
              "  float: right;\n",
              "  font-size: 1rem;\n",
              "  line-height: 1em;\n",
              "  font-family: monospace;\n",
              "  background-color: var(--sklearn-color-background);\n",
              "  border-radius: 1rem;\n",
              "  height: 1rem;\n",
              "  width: 1rem;\n",
              "  text-decoration: none;\n",
              "  /* unfitted */\n",
              "  color: var(--sklearn-color-unfitted-level-1);\n",
              "  border: var(--sklearn-color-unfitted-level-1) 1pt solid;\n",
              "}\n",
              "\n",
              "#sk-container-id-5 a.estimator_doc_link.fitted {\n",
              "  /* fitted */\n",
              "  border: var(--sklearn-color-fitted-level-1) 1pt solid;\n",
              "  color: var(--sklearn-color-fitted-level-1);\n",
              "}\n",
              "\n",
              "/* On hover */\n",
              "#sk-container-id-5 a.estimator_doc_link:hover {\n",
              "  /* unfitted */\n",
              "  background-color: var(--sklearn-color-unfitted-level-3);\n",
              "  color: var(--sklearn-color-background);\n",
              "  text-decoration: none;\n",
              "}\n",
              "\n",
              "#sk-container-id-5 a.estimator_doc_link.fitted:hover {\n",
              "  /* fitted */\n",
              "  background-color: var(--sklearn-color-fitted-level-3);\n",
              "}\n",
              "</style><div id=\"sk-container-id-5\" class=\"sk-top-container\"><div class=\"sk-text-repr-fallback\"><pre>RandomForestClassifier(n_estimators=10)</pre><b>In a Jupyter environment, please rerun this cell to show the HTML representation or trust the notebook. <br />On GitHub, the HTML representation is unable to render, please try loading this page with nbviewer.org.</b></div><div class=\"sk-container\" hidden><div class=\"sk-item\"><div class=\"sk-estimator fitted sk-toggleable\"><input class=\"sk-toggleable__control sk-hidden--visually\" id=\"sk-estimator-id-5\" type=\"checkbox\" checked><label for=\"sk-estimator-id-5\" class=\"sk-toggleable__label fitted sk-toggleable__label-arrow\"><div><div>RandomForestClassifier</div></div><div><a class=\"sk-estimator-doc-link fitted\" rel=\"noreferrer\" target=\"_blank\" href=\"https://scikit-learn.org/1.6/modules/generated/sklearn.ensemble.RandomForestClassifier.html\">?<span>Documentation for RandomForestClassifier</span></a><span class=\"sk-estimator-doc-link fitted\">i<span>Fitted</span></span></div></label><div class=\"sk-toggleable__content fitted\"><pre>RandomForestClassifier(n_estimators=10)</pre></div> </div></div></div></div>"
            ]
          },
          "metadata": {},
          "execution_count": 27
        }
      ],
      "source": [
        "from sklearn.ensemble import RandomForestClassifier\n",
        "\n",
        "RF = RandomForestClassifier(n_estimators=10)\n",
        "RF.fit(train_set, train_class)"
      ]
    },
    {
      "cell_type": "markdown",
      "id": "13646708",
      "metadata": {
        "id": "13646708"
      },
      "source": [
        "Let's now assess its performance against the test set."
      ]
    },
    {
      "cell_type": "code",
      "execution_count": 28,
      "id": "fccb1642",
      "metadata": {
        "colab": {
          "base_uri": "https://localhost:8080/"
        },
        "id": "fccb1642",
        "outputId": "76d83c7c-4f5a-4c5a-dd06-b115bdf338f3"
      },
      "outputs": [
        {
          "output_type": "stream",
          "name": "stdout",
          "text": [
            "Success of test set: 100.0%\n"
          ]
        }
      ],
      "source": [
        "r = RF.predict(test_set)\n",
        "success = np.sum((r-test_class)==0)\n",
        "percent = float(success)/len(test_class)*100\n",
        "print(f'Success of test set: {percent}%')"
      ]
    },
    {
      "cell_type": "markdown",
      "id": "18ddcbcb",
      "metadata": {
        "id": "18ddcbcb"
      },
      "source": [
        "To see which features are deemed the most useful for a successful classification, we can observe their importance."
      ]
    },
    {
      "cell_type": "code",
      "execution_count": 29,
      "id": "44dee97b",
      "metadata": {
        "colab": {
          "base_uri": "https://localhost:8080/"
        },
        "id": "44dee97b",
        "outputId": "3d50f38a-8a58-4ee0-9ca9-9daa62c6613a"
      },
      "outputs": [
        {
          "output_type": "stream",
          "name": "stdout",
          "text": [
            "Most relevant amino acid: MET184\n"
          ]
        }
      ],
      "source": [
        "importances = RF.feature_importances_\n",
        "importances_std = np.std([tree.feature_importances_ for tree in RF.estimators_], axis=0)\n",
        "\n",
        "if F.feature == \"coordinates\":\n",
        "\n",
        "    ca = universe_closed.select_atoms('name CA')[int(np.argmax(importances)/3)]\n",
        "    print(f'Most relevant amino acid: {ca.resname}{ca.resid}')\n",
        "\n",
        "\n",
        "elif F.feature == \"distance matrix\":\n",
        "\n",
        "    # get indices of most important CA atoms pair\n",
        "    na = len(universe_closed.select_atoms('name CA'))\n",
        "    pos = np.array(np.triu_indices(na))[:, np.argmax(importances)].T\n",
        "\n",
        "    # retrieve their identity\n",
        "    ca1 = universe_closed.select_atoms('name CA')[pos[0]]\n",
        "    ca2 = universe_closed.select_atoms('name CA')[pos[1]]\n",
        "    print(f'Most relevant distance: {ca1.resname}{ca1.resid} - {ca2.resname}{ca2.resid}')\n",
        ""
      ]
    },
    {
      "cell_type": "markdown",
      "id": "04054770",
      "metadata": {
        "id": "04054770"
      },
      "source": [
        "<div class=\"alert alert-success\">\n",
        "<b>Task 2.</b> Run Section 4 again from the beginning. Is the most relevant feature always the same? Why?</div>"
      ]
    },
    {
      "cell_type": "markdown",
      "source": [
        "No, run 1: HIE309, run 2: VAL305, run 3: GLU308, run 4: GLN392, run 5: MET184. Based on how the training set is subdivided, some features may be stronger on one occasion than others. Also, the active site consists of several aa essential for the binding of the substrate as opposed to just 1."
      ],
      "metadata": {
        "id": "NkdGY8oiu28Q"
      },
      "id": "NkdGY8oiu28Q"
    },
    {
      "cell_type": "markdown",
      "id": "7b6db5d8",
      "metadata": {
        "id": "7b6db5d8"
      },
      "source": [
        "<details>\n",
        "<summary> <mark> Answer 2</mark> </summary>\n",
        "Training the Random Forests classifier again will give different results because the training process is stochastic, and thus it will converge to different models. Their performance will be likely comparable, because there normally exist multiple models  performing equally comparatively well in a classification task.</details>"
      ]
    },
    {
      "cell_type": "markdown",
      "id": "4164cfa0",
      "metadata": {
        "id": "4164cfa0"
      },
      "source": [
        "## 5. Classification of conformations from new simulation"
      ]
    },
    {
      "cell_type": "markdown",
      "id": "045e6bc6",
      "metadata": {
        "id": "045e6bc6"
      },
      "source": [
        "It is now time to characterize the simulation of the trajectory showing a switch from the closed to the open state."
      ]
    },
    {
      "cell_type": "code",
      "execution_count": 30,
      "id": "d3fe7464",
      "metadata": {
        "id": "d3fe7464"
      },
      "outputs": [],
      "source": [
        "feat_closed_apo = F.get_features(universe_closed_apo)\n",
        "r = RF.predict(feat_closed_apo)"
      ]
    },
    {
      "cell_type": "markdown",
      "id": "236e85a3",
      "metadata": {
        "id": "236e85a3"
      },
      "source": [
        "Let's have a look at the classification. This can be done with a simple colorbar, where different colours represent different classes."
      ]
    },
    {
      "cell_type": "code",
      "execution_count": 31,
      "id": "ed20e9f3",
      "metadata": {
        "colab": {
          "base_uri": "https://localhost:8080/",
          "height": 174
        },
        "id": "ed20e9f3",
        "outputId": "c3203533-a737-4545-e455-f6d75b7f7a3b"
      },
      "outputs": [
        {
          "output_type": "execute_result",
          "data": {
            "text/plain": [
              "Text(0.5, 0, 'conformation / #')"
            ]
          },
          "metadata": {},
          "execution_count": 31
        },
        {
          "output_type": "display_data",
          "data": {
            "text/plain": [
              "<Figure size 1000x100 with 1 Axes>"
            ],
            "image/png": "[encoded data removed]"
          },
          "metadata": {}
        }
      ],
      "source": [
        "fig = plt.figure(1, figsize=(10, 1))\n",
        "ax = fig.add_subplot(1, 1, 1)\n",
        "ax.pcolormesh([r]) #purple = closed, yellow = open\n",
        "ax.set_yticks([])\n",
        "ax.set_xlabel(\"conformation / #\")"
      ]
    },
    {
      "cell_type": "markdown",
      "id": "9bec6c9a",
      "metadata": {
        "id": "9bec6c9a"
      },
      "source": [
        "Let's compare the three datasets (closed, open, and open apo) according to the value most important feature according to the classifier."
      ]
    },
    {
      "cell_type": "code",
      "execution_count": 32,
      "id": "7dc80a95",
      "metadata": {
        "colab": {
          "base_uri": "https://localhost:8080/",
          "height": 466
        },
        "id": "7dc80a95",
        "outputId": "7f8e6de4-a5be-4d76-ea40-be2620df06e3"
      },
      "outputs": [
        {
          "output_type": "execute_result",
          "data": {
            "text/plain": [
              "<matplotlib.legend.Legend at 0x7cfd064d3d90>"
            ]
          },
          "metadata": {},
          "execution_count": 32
        },
        {
          "output_type": "display_data",
          "data": {
            "text/plain": [
              "<Figure size 640x480 with 1 Axes>"
            ],
            "image/png": "[encoded data removed]"
          },
          "metadata": {}
        }
      ],
      "source": [
        "fig = plt.figure()\n",
        "ax = fig.add_subplot(1,1,1)\n",
        "\n",
        "ax.plot(np.arange(len(feat_closed))/10., feat_closed[:, np.argmax(importances)], label=\"closed\", color=\"dodgerblue\")\n",
        "ax.plot(np.arange(len(feat_open))/10., feat_open[:, np.argmax(importances)], label=\"open\", color=\"orangered\")\n",
        "ax.plot(np.arange(len(feat_closed_apo))/10., feat_closed_apo[:, np.argmax(importances)], label=\"closed apo\", color=\"#682860\")\n",
        "\n",
        "ax.set_xlabel(\"time / ns\")\n",
        "ax.set_ylabel(\"distance / $\\AA$\")\n",
        "ax.legend(frameon=False)"
      ]
    },
    {
      "cell_type": "markdown",
      "id": "9ad9ea76",
      "metadata": {
        "id": "9ad9ea76"
      },
      "source": [
        "The closed apo simulation appears to take values in its most important feature different from anything seen in the training set. Here we will carry out an outlied detection using an Isolation Forest. More information about outlier detection is available [here](https://scikit-learn.org/stable/modules/outlier_detection.html). The following cell may take some time to run (a few minutes)."
      ]
    },
    {
      "cell_type": "code",
      "execution_count": 33,
      "id": "3fb2d6b6",
      "metadata": {
        "id": "3fb2d6b6"
      },
      "outputs": [],
      "source": [
        "from sklearn.ensemble import IsolationForest\n",
        "\n",
        "clf = IsolationForest(n_estimators=10, warm_start=True)\n",
        "clf.fit(train_set)\n",
        "\n",
        "y_closed_apo = clf.predict(feat_closed_apo) # 1 = inliers, -1 = outliers"
      ]
    },
    {
      "cell_type": "code",
      "execution_count": 34,
      "id": "da3b6aa5",
      "metadata": {
        "colab": {
          "base_uri": "https://localhost:8080/",
          "height": 174
        },
        "id": "da3b6aa5",
        "outputId": "c9b78466-4092-466d-b317-2fc191619bf0"
      },
      "outputs": [
        {
          "output_type": "execute_result",
          "data": {
            "text/plain": [
              "Text(0.5, 0, 'conformation / #')"
            ]
          },
          "metadata": {},
          "execution_count": 34
        },
        {
          "output_type": "display_data",
          "data": {
            "text/plain": [
              "<Figure size 1000x100 with 1 Axes>"
            ],
            "image/png": "[encoded data removed]"
          },
          "metadata": {}
        }
      ],
      "source": [
        "fig = plt.figure(1, figsize=(10, 1))\n",
        "ax = fig.add_subplot(1, 1, 1)\n",
        "ax.pcolormesh([y_closed_apo])\n",
        "ax.set_yticks([])\n",
        "ax.set_xlabel(\"conformation / #\")"
      ]
    },
    {
      "cell_type": "markdown",
      "id": "343c88a4",
      "metadata": {
        "id": "343c88a4"
      },
      "source": [
        "<div class=\"alert alert-success\">\n",
        "<b>Task 3.</b> There seem to be quite a few outliers, what does this tell us about the closed apo simulation?</div>"
      ]
    },
    {
      "cell_type": "markdown",
      "source": [
        "It isn't very accurate or consistent since its most important feature is different from anything seen in its training set, so the resulting model is presumably also different from most things seen in its training set. ##Don't rly get the 'second part of the simulation' being more similar to the open than closed state??"
      ],
      "metadata": {
        "id": "V6LVazKAyoL2"
      },
      "id": "V6LVazKAyoL2"
    },
    {
      "cell_type": "markdown",
      "id": "103c5f8d",
      "metadata": {
        "id": "103c5f8d"
      },
      "source": [
        "<details>\n",
        "<summary> <mark> Answer 3</mark> </summary>\n",
        "The classification we obtained tells us that the second part of the simulation is more similar to the open than the closed state, however its conformations are not consistent with those sampled by the open simulations.</details>"
      ]
    },
    {
      "cell_type": "markdown",
      "id": "99bba31f",
      "metadata": {
        "id": "99bba31f"
      },
      "source": [
        "Let's observe how the most relevant feature measured in the closed apo simulation relates to that of closed and open simulations in the eigenspace of the PCA projection. We will show the closed and open simulation in light gray, and the closed apo conformation with a colour gradient showing, from dark to light, the time evolution."
      ]
    },
    {
      "cell_type": "code",
      "execution_count": null,
      "id": "c2e21383",
      "metadata": {
        "id": "c2e21383"
      },
      "outputs": [],
      "source": [
        "proj_closed_apo = pca.transform(feat_closed_apo)\n",
        "\n",
        "fig = plt.figure()\n",
        "ax = fig.add_subplot(1, 1, 1)\n",
        "ax.scatter(proj_closed[:, 0], proj_closed[:, 1], alpha=0.4, c=\"lightgrey\")\n",
        "ax.scatter(proj_open[:, 0], proj_open[:, 1], alpha=0.4, c=\"lightgrey\")\n",
        "ax.scatter(proj_closed_apo[:, 0], proj_closed_apo[:, 1], alpha=0.5, c=np.arange(len(proj_closed_apo)))\n",
        "ax.set_xlabel(f'PC 1, {pca.explained_variance_ratio_[0]*100:3.2f}%')\n",
        "ax.set_ylabel(f'PC 2, {pca.explained_variance_ratio_[1]*100:3.2f}%')"
      ]
    },
    {
      "cell_type": "markdown",
      "id": "a2f0360c",
      "metadata": {
        "id": "a2f0360c"
      },
      "source": [
        "A problem of using directly coordinates as a feature, is that results will depend on how the simulations are aligned: different alignments would lead to different results. If the trajectories were not aligned at all, using coordinates would not work because the signal would be dominated by the rototranslation of the whole protein as it randomly diffuses through the simulation box. For this reason, selecting features that are rototranslation invariant is advantageous. An example of such feature, is backbone dihedral angles."
      ]
    },
    {
      "cell_type": "markdown",
      "id": "98688b93",
      "metadata": {
        "id": "98688b93"
      },
      "source": [
        "<div class=\"alert alert-success\">\n",
        "<b>Task 4.</b> In Section 2 we have defined the class <code>Featurizer</code>, defining different methods to extract features from an MDAnalysis Universe. The class was used in the first cell of Section 3. Run again this notebook from Section 3, setting  <code>feature_type = \"ramachandran\"</code> and <code>feature_type = \"distance matrix\"</code>. What do you notice?</div>"
      ]
    },
    {
      "cell_type": "markdown",
      "id": "569f4364",
      "metadata": {
        "id": "569f4364"
      },
      "source": [
        "<details>\n",
        "<summary> <mark> Answer 4</mark> </summary>\n",
        "Using the backbone dihedral angles seems to work according to the PCA, but classification fails to identify two states.\n",
        "</details>"
      ]
    },
    {
      "cell_type": "markdown",
      "id": "f8cac1d2",
      "metadata": {
        "id": "f8cac1d2"
      },
      "source": [
        "## 6. Extra material: hyperparameter tuning"
      ]
    },
    {
      "cell_type": "markdown",
      "id": "57747ceb",
      "metadata": {
        "id": "57747ceb"
      },
      "source": [
        "In this tutorial, it was relatively easy to train a classifier able to separate the two classes: in all cases, the classification of the test set yielded high success rates. This may not always be the case though. In more difficult cases there are two things one could try to improve the success rate. The first, as explored in this tutorial, is identifying better features. The second, is **hyparameter tuning**.\n",
        "\n",
        "Any classifier is controlled by a series of parameters. In this tutorial we have defined one, the number of trees (`n_estimators`). This said, several other values could have been chosen for this parameter as well as others for which we used defaults (e.g. the maximal depth of each tree `max_depth`, or minimum number of samples a leaf can contain `min_samples_leaf`).\n",
        "\n",
        "Scikit-learn provides tools to train a classifier multiple times, with different sets of parameters, identifying the combination leading to best performances."
      ]
    },
    {
      "cell_type": "code",
      "execution_count": null,
      "id": "72a64974",
      "metadata": {
        "id": "72a64974"
      },
      "outputs": [],
      "source": [
        "from sklearn.model_selection import GridSearchCV\n",
        "\n",
        "#define classifier\n",
        "rf = RandomForestClassifier()\n",
        "\n",
        "# define parameters and values to test\n",
        "params = {\n",
        "    'max_depth': [2, 3, 5, 10, 20],\n",
        "    'min_samples_leaf': [5, 10, 20, 50, 100, 200],\n",
        "    'n_estimators': [10, 25, 30, 50, 100, 200]\n",
        "}\n",
        "\n",
        "# grid search over parameters space\n",
        "grid_search = GridSearchCV(estimator=rf,\n",
        "                           param_grid=params,\n",
        "                           cv = 4,\n",
        "                           n_jobs=-1, verbose=1, scoring=\"accuracy\")\n",
        "\n",
        "grid_search.fit(train_set, train_class)\n",
        "\n",
        "# best estimator found with grid search\n",
        "RF_best = grid_search.best_estimator_"
      ]
    },
    {
      "cell_type": "markdown",
      "id": "4ae8db0d",
      "metadata": {
        "id": "4ae8db0d"
      },
      "source": [
        "## 7. Conclusion"
      ]
    },
    {
      "cell_type": "markdown",
      "id": "1834f372",
      "metadata": {
        "id": "1834f372"
      },
      "source": [
        "<div class=\"alert alert-info\">\n",
        "    <b>Key points:</b>   \n",
        "\n",
        "- Classification is an example of supervised learning\n",
        "- the choice of features extracted from raw data can affect the classification results\n",
        "- Random Forests is a popular classification algorithm. Its key advantages are that it does not overfit, and can handle a very large number of features\n",
        "- Be mindful of outliers\n",
        "</div>"
      ]
    },
    {
      "cell_type": "markdown",
      "id": "87e8523b",
      "metadata": {
        "id": "87e8523b"
      },
      "source": [
        "---"
      ]
    }
  ],
  "metadata": {
    "kernelspec": {
      "display_name": "Python 3 (ipykernel)",
      "language": "python",
      "name": "python3"
    },
    "language_info": {
      "codemirror_mode": {
        "name": "ipython",
        "version": 3
      },
      "file_extension": ".py",
      "mimetype": "text/x-python",
      "name": "python",
      "nbconvert_exporter": "python",
      "pygments_lexer": "ipython3",
      "version": "3.12.5"
    },
    "colab": {
      "provenance": []
    }
  },
  "nbformat": 4,
  "nbformat_minor": 5
}