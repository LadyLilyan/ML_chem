{
  "cells": [
    {
      "cell_type": "markdown",
      "metadata": {
        "id": "d06de947"
      },
      "source": [
        "# Deep Learning for Aqueous Solubility Prediction\n",
        "\n",
        "<a rel=\"license\" href=\"https://creativecommons.org/licenses/by/4.0/\"><img alt=\"Creative Commons Licence\" style=\"width=50\" src=\"https://licensebuttons.net/l/by/4.0/88x31.png\" title='This work is licensed under a Creative Commons Attribution 4.0 International License.' align=\"right\"/></a>\n",
        "\n",
        "**Authors**:\n",
        "- Dr Antonia Mey (antonia.mey@ed.ac.uk)\n",
        "- Rohan Gorantla (rohan.gorantla@ed.ac.uk)"
      ]
    },
    {
      "cell_type": "markdown",
      "metadata": {
        "id": "48f869de"
      },
      "source": [
        "**About aqueous solubility prediction task**:\n",
        "\n",
        "Water is a ubiquitous solvent in both chemistry and life, so it's not surprising that the solubility of compounds in water is crucial in various fields, such as drug discovery, paint and coatings, the environment, and energy storage. However, measuring and predicting the aqueous solubility of compounds is a challenging and ongoing problem in chemistry. To tackle this, various data-driven prediction models have been created to supplement traditional physics-based methods. Despite the many efforts made over the years, there are still difficulties in developing a solubility prediction model that is accurate enough for many practical applications."
      ]
    },
    {
      "cell_type": "markdown",
      "metadata": {
        "id": "hDeyesyTOMuG"
      },
      "source": [
        "**Task:** Train a Deep learning model to predict if a given molecule is soluble in water or not. The input data consists of solubility values and 1-D SMILES strings for the molecules.\n",
        "\n",
        "---\n",
        "\n"
      ]
    },
    {
      "cell_type": "markdown",
      "metadata": {
        "id": "7j3pliMnCS3C"
      },
      "source": [
        "**Learning Objectives**:\n",
        "\n",
        "* Using RDKit to extract features from molecular data in SMILES format.\n",
        "* Preparing the data for training and testing of a given deep learning model.\n",
        "* To build and train deep neural networks for solubility prediction from SMILES data using Pytorch.\n",
        "* Tuning the neural network parameters to improve the learning of the model for the given solubilitity prediction task.\n"
      ]
    },
    {
      "cell_type": "markdown",
      "metadata": {
        "id": "L4ffMdn96_pV"
      },
      "source": [
        "## Google Colab installs\n",
        "\n",
        "<div class=\"alert alert-warning\">\n",
        "The following cell installs necessary packages and downloads data if you are running this tutorial using Google Colab.<br>\n",
        "<b><i>Run this cell only if you are using Google Colab!</i></b></div>"
      ]
    },
    {
      "cell_type": "code",
      "execution_count": 3,
      "metadata": {
        "colab": {
          "base_uri": "https://localhost:8080/"
        },
        "id": "pOvWI8bO6_pW",
        "outputId": "a4faf05c-ec9d-49e0-954f-7dcca52b9e45"
      },
      "outputs": [
        {
          "output_type": "stream",
          "name": "stdout",
          "text": [
            "Requirement already satisfied: condacolab in /usr/local/lib/python3.11/site-packages (0.1.10)\n",
            "✨🍰✨ Everything looks OK!\n",
            "✨🍰✨ Everything looks OK!\n"
          ]
        }
      ],
      "source": [
        "!if [ -n \"$COLAB_RELEASE_TAG\" ]; then pip install condacolab; fi\n",
        "import condacolab\n",
        "condacolab.install()\n",
        "\n",
        "import condacolab\n",
        "condacolab.check()"
      ]
    },
    {
      "cell_type": "code",
      "execution_count": 4,
      "metadata": {
        "colab": {
          "base_uri": "https://localhost:8080/"
        },
        "id": "DLpu_Pqk6_pe",
        "outputId": "2eca6a53-2694-47e2-c5cc-51726b12f6c1"
      },
      "outputs": [
        {
          "output_type": "stream",
          "name": "stdout",
          "text": [
            "\n",
            "Looking for: ['pytorch', 'torchvision', 'torchinfo']\n",
            "\n",
            "pytorch/linux-64                                            Using cache\n",
            "pytorch/noarch                                              Using cache\n",
            "conda-forge/linux-64                                        Using cache\n",
            "conda-forge/noarch                                          Using cache\n",
            "\n",
            "Pinned packages:\n",
            "  - python 3.11.*\n",
            "  - python 3.11.*\n",
            "  - python_abi 3.11.* *cp311*\n",
            "  - cuda-version 12.*\n",
            "\n",
            "\n",
            "Transaction\n",
            "\n",
            "  Prefix: /usr/local\n",
            "\n",
            "  All requested packages already installed\n",
            "\n",
            "\u001b[?25l\u001b[2K\u001b[0G\u001b[?25h\n",
            "Looking for: ['rdkit']\n",
            "\n",
            "conda-forge/linux-64                                        Using cache\n",
            "conda-forge/noarch                                          Using cache\n",
            "\n",
            "Pinned packages:\n",
            "  - python 3.11.*\n",
            "  - python 3.11.*\n",
            "  - python_abi 3.11.* *cp311*\n",
            "  - cuda-version 12.*\n",
            "\n",
            "\n",
            "Transaction\n",
            "\n",
            "  Prefix: /usr/local\n",
            "\n",
            "  All requested packages already installed\n",
            "\n",
            "\u001b[?25l\u001b[2K\u001b[0G\u001b[?25h"
          ]
        }
      ],
      "source": [
        "!mamba install pytorch torchvision torchinfo -c pytorch\n",
        "!mamba install -c conda-forge rdkit"
      ]
    },
    {
      "cell_type": "code",
      "execution_count": 5,
      "metadata": {
        "colab": {
          "base_uri": "https://localhost:8080/"
        },
        "id": "ym8acabn6_pg",
        "outputId": "a0598da1-9faa-47a3-f544-a488af1b9b57"
      },
      "outputs": [
        {
          "output_type": "stream",
          "name": "stdout",
          "text": [
            "Cloning into 'ATCP-ML-workshop'...\n",
            "remote: Enumerating objects: 164, done.\u001b[K\n",
            "remote: Counting objects: 100% (50/50), done.\u001b[K\n",
            "remote: Compressing objects: 100% (42/42), done.\u001b[K\n",
            "remote: Total 164 (delta 24), reused 26 (delta 8), pack-reused 114 (from 1)\u001b[K\n",
            "Receiving objects: 100% (164/164), 109.19 MiB | 14.24 MiB/s, done.\n",
            "Resolving deltas: 100% (68/68), done.\n",
            "Updating files: 100% (36/36), done.\n"
          ]
        }
      ],
      "source": [
        "# copy over data repository\n",
        "!if [ -n \"$COLAB_RELEASE_TAG\" ]; then git clone https://github.com/Edinburgh-Chemistry-Teaching/ATCP-ML-workshop; fi\n",
        "import os\n",
        "os.chdir(f\"ATCP-ML-workshop{os.sep}Workshops{os.sep}workshop_03\")"
      ]
    },
    {
      "cell_type": "markdown",
      "metadata": {
        "id": "196868f4"
      },
      "source": [
        "To get started with this tutorial, let's install and importing some packages."
      ]
    },
    {
      "cell_type": "code",
      "execution_count": 6,
      "metadata": {
        "colab": {
          "base_uri": "https://localhost:8080/"
        },
        "id": "AxVQxAWO6_pi",
        "outputId": "c587bb54-a712-4722-9b5b-c0a3e4d79a46"
      },
      "outputs": [
        {
          "output_type": "stream",
          "name": "stdout",
          "text": [
            "Requirement already satisfied: rdkit in /usr/local/lib/python3.11/site-packages (2025.3.2)\n",
            "Requirement already satisfied: torchinfo in /usr/local/lib/python3.11/site-packages (1.8.0)\n"
          ]
        }
      ],
      "source": [
        "!pip install rdkit torchinfo"
      ]
    },
    {
      "cell_type": "code",
      "execution_count": 7,
      "metadata": {
        "id": "pBy2P5AVFMiF"
      },
      "outputs": [],
      "source": [
        "# Imports\n",
        "import os, math\n",
        "import pandas as pd\n",
        "import numpy as np\n",
        "from sklearn.metrics import confusion_matrix, roc_curve,auc\n",
        "\n",
        "\n",
        "# Needed for fingerprints\n",
        "import rdkit\n",
        "from rdkit import Chem\n",
        "from rdkit.Chem import Draw\n",
        "from rdkit.Chem import PandasTools\n",
        "from rdkit.Chem import rdMolDescriptors\n",
        "from rdkit.Chem.Draw import SimilarityMaps\n",
        "from rdkit.Chem import DataStructs,AllChem\n",
        "from rdkit.Chem import rdmolfiles\n",
        "\n",
        "# plotting\n",
        "import seaborn as sns\n",
        "import matplotlib.pyplot as plt\n",
        "\n",
        "#Torch\n",
        "import torch\n",
        "import torch.nn as nn\n",
        "import torch.optim as optim\n",
        "from   torchinfo import summary\n",
        "from   torch.utils.data import DataLoader, TensorDataset\n",
        "import torch.nn.functional as F"
      ]
    },
    {
      "cell_type": "markdown",
      "metadata": {
        "id": "UT_NLRlMCHEG"
      },
      "source": [
        "## 1. Introduction- Data Prepartion and Exploratory Data Anlaysis\n",
        "\n",
        "In this tutorial we will use the solubility prediciton data from AqSolDB dataset to train the DL models.\n",
        "\n",
        "**Data Source**: Sorkun, M.C., Khetan, A. & Er, S. AqSolDB, a curated reference set of aqueous solubility and 2D descriptors for a diverse set of compounds. Sci Data 6, 143 (2019). https://doi.org/10.1038/s41597-019-0151-1"
      ]
    },
    {
      "cell_type": "markdown",
      "metadata": {
        "id": "OPPcf8Z7LXgx"
      },
      "source": [
        "Let's begin by loading the AqSolDB dataset from the csv file in the data folder."
      ]
    },
    {
      "cell_type": "code",
      "execution_count": 8,
      "metadata": {
        "id": "jIyZPXLeGaVP"
      },
      "outputs": [],
      "source": [
        "# Load the dataset into a dataframe\n",
        "data_path='data'\n",
        "if os.environ.get('COLAB_RELEASE_TAG') is None:\n",
        "    data_path = os.path.join('data')\n",
        "\n",
        "solubility = os.path.join(data_path,'solubility-dataset.csv')\n",
        "df = pd.read_csv(solubility)"
      ]
    },
    {
      "cell_type": "code",
      "execution_count": 9,
      "metadata": {
        "colab": {
          "base_uri": "https://localhost:8080/",
          "height": 609
        },
        "id": "l6Hl-DfmPUZ5",
        "outputId": "0be15f32-46c8-42d5-aa38-8421f87d5158"
      },
      "outputs": [
        {
          "output_type": "execute_result",
          "data": {
            "text/plain": [
              "        ID                                               Name  \\\n",
              "0      A-3         N,N,N-trimethyloctadecan-1-aminium bromide   \n",
              "1      A-4                           Benzo[cd]indol-2(1H)-one   \n",
              "2      A-5                               4-chlorobenzaldehyde   \n",
              "3      A-8  zinc bis[2-hydroxy-3,5-bis(1-phenylethyl)benzo...   \n",
              "4      A-9  4-({4-[bis(oxiran-2-ylmethyl)amino]phenyl}meth...   \n",
              "...    ...                                                ...   \n",
              "9977  I-84                                         tetracaine   \n",
              "9978  I-85                                       tetracycline   \n",
              "9979  I-86                                             thymol   \n",
              "9980  I-93                                          verapamil   \n",
              "9981  I-94                                           warfarin   \n",
              "\n",
              "                                                  InChI  \\\n",
              "0     InChI=1S/C21H46N.BrH/c1-5-6-7-8-9-10-11-12-13-...   \n",
              "1     InChI=1S/C11H7NO/c13-11-8-5-1-3-7-4-2-6-9(12-1...   \n",
              "2           InChI=1S/C7H5ClO/c8-7-3-1-6(5-9)2-4-7/h1-5H   \n",
              "3     InChI=1S/2C23H22O3.Zn/c2*1-15(17-9-5-3-6-10-17...   \n",
              "4     InChI=1S/C25H30N2O4/c1-5-20(26(10-22-14-28-22)...   \n",
              "...                                                 ...   \n",
              "9977  InChI=1S/C15H24N2O2/c1-4-5-10-16-14-8-6-13(7-9...   \n",
              "9978  InChI=1S/C22H24N2O8/c1-21(31)8-5-4-6-11(25)12(...   \n",
              "9979  InChI=1S/C10H14O/c1-7(2)9-5-4-8(3)6-10(9)11/h4...   \n",
              "9980  InChI=1S/C27H38N2O4/c1-20(2)27(19-28,22-10-12-...   \n",
              "9981  InChI=1S/C19H16O4/c1-12(20)11-15(13-7-3-2-4-8-...   \n",
              "\n",
              "                         InChIKey  \\\n",
              "0     SZEMGTQCPRNXEG-UHFFFAOYSA-M   \n",
              "1     GPYLCFQEKPUWLD-UHFFFAOYSA-N   \n",
              "2     AVPYQKSLYISFPO-UHFFFAOYSA-N   \n",
              "3     XTUPUYCJWKHGSW-UHFFFAOYSA-L   \n",
              "4     FAUAZXVRLVIARB-UHFFFAOYSA-N   \n",
              "...                           ...   \n",
              "9977  GKCBAIGFKIBETG-UHFFFAOYSA-N   \n",
              "9978  OFVLGDICTFRJMM-WESIUVDSSA-N   \n",
              "9979  MGSRCZKZVOBKFT-UHFFFAOYSA-N   \n",
              "9980  SGTNSNPWRIOYBX-UHFFFAOYSA-N   \n",
              "9981  PJVWKTKQMONHTI-UHFFFAOYSA-N   \n",
              "\n",
              "                                                 SMILES  Solubility        SD  \\\n",
              "0                   [Br-].CCCCCCCCCCCCCCCCCC[N+](C)(C)C   -3.616127  0.000000   \n",
              "1                                  O=C1Nc2cccc3cccc1c23   -3.254767  0.000000   \n",
              "2                                       Clc1ccc(C=O)cc1   -2.177078  0.000000   \n",
              "3     [Zn++].CC(c1ccccc1)c2cc(C(C)c3ccccc3)c(O)c(c2)...   -3.924409  0.000000   \n",
              "4     C1OC1CN(CC2CO2)c3ccc(Cc4ccc(cc4)N(CC5CO5)CC6CO...   -4.662065  0.000000   \n",
              "...                                                 ...         ...       ...   \n",
              "9977                     C(c1ccc(cc1)NCCCC)(=O)OCCN(C)C   -3.010000  0.000000   \n",
              "9978  OC1=C(C(C2=C(O)[C@@](C(C(C(N)=O)=C(O)[C@H]3N(C...   -2.930000  0.000000   \n",
              "9979                                c1(cc(ccc1C(C)C)C)O   -2.190000  0.019222   \n",
              "9980  COc1ccc(CCN(C)CCCC(C#N)(C(C)C)c2ccc(OC)c(OC)c2...   -3.980000  0.000000   \n",
              "9981              CC(=O)CC(c1ccccc1)c1c(O)c2ccccc2oc1=O   -4.780000  0.450506   \n",
              "\n",
              "      Ocurrences Group    MolWt  ...  NumRotatableBonds  NumValenceElectrons  \\\n",
              "0              1    G1  392.510  ...               17.0                142.0   \n",
              "1              1    G1  169.183  ...                0.0                 62.0   \n",
              "2              1    G1  140.569  ...                1.0                 46.0   \n",
              "3              1    G1  756.226  ...               10.0                264.0   \n",
              "4              1    G1  422.525  ...               12.0                164.0   \n",
              "...          ...   ...      ...  ...                ...                  ...   \n",
              "9977           1    G1  264.369  ...                8.0                106.0   \n",
              "9978           1    G1  444.440  ...                2.0                170.0   \n",
              "9979           3    G5  150.221  ...                1.0                 60.0   \n",
              "9980           1    G1  454.611  ...               13.0                180.0   \n",
              "9981           3    G5  308.333  ...                4.0                116.0   \n",
              "\n",
              "      NumAromaticRings  NumSaturatedRings  NumAliphaticRings  RingCount  \\\n",
              "0                  0.0                0.0                0.0        0.0   \n",
              "1                  2.0                0.0                1.0        3.0   \n",
              "2                  1.0                0.0                0.0        1.0   \n",
              "3                  6.0                0.0                0.0        6.0   \n",
              "4                  2.0                4.0                4.0        6.0   \n",
              "...                ...                ...                ...        ...   \n",
              "9977               1.0                0.0                0.0        1.0   \n",
              "9978               1.0                0.0                3.0        4.0   \n",
              "9979               1.0                0.0                0.0        1.0   \n",
              "9980               2.0                0.0                0.0        2.0   \n",
              "9981               3.0                0.0                0.0        3.0   \n",
              "\n",
              "        TPSA   LabuteASA      BalabanJ      BertzCT  \n",
              "0       0.00  158.520601  0.000000e+00   210.377334  \n",
              "1      29.10   75.183563  2.582996e+00   511.229248  \n",
              "2      17.07   58.261134  3.009782e+00   202.661065  \n",
              "3     120.72  323.755434  2.322963e-07  1964.648666  \n",
              "4      56.60  183.183268  1.084427e+00   769.899934  \n",
              "...      ...         ...           ...          ...  \n",
              "9977   41.57  115.300645  2.394548e+00   374.236893  \n",
              "9978  181.62  182.429237  2.047922e+00  1148.584975  \n",
              "9979   20.23   67.685405  3.092720e+00   251.049732  \n",
              "9980   63.95  198.569223  2.023333e+00   938.203977  \n",
              "9981   67.51  132.552025  2.258072e+00   909.550973  \n",
              "\n",
              "[9982 rows x 26 columns]"
            ],
            "text/html": [
              "\n",
              "  <div id=\"df-c6f613b9-c83e-48f2-9839-05375979f90e\" class=\"colab-df-container\">\n",
              "    <div>\n",
              "<style scoped>\n",
              "    .dataframe tbody tr th:only-of-type {\n",
              "        vertical-align: middle;\n",
              "    }\n",
              "\n",
              "    .dataframe tbody tr th {\n",
              "        vertical-align: top;\n",
              "    }\n",
              "\n",
              "    .dataframe thead th {\n",
              "        text-align: right;\n",
              "    }\n",
              "</style>\n",
              "<table border=\"1\" class=\"dataframe\">\n",
              "  <thead>\n",
              "    <tr style=\"text-align: right;\">\n",
              "      <th></th>\n",
              "      <th>ID</th>\n",
              "      <th>Name</th>\n",
              "      <th>InChI</th>\n",
              "      <th>InChIKey</th>\n",
              "      <th>SMILES</th>\n",
              "      <th>Solubility</th>\n",
              "      <th>SD</th>\n",
              "      <th>Ocurrences</th>\n",
              "      <th>Group</th>\n",
              "      <th>MolWt</th>\n",
              "      <th>...</th>\n",
              "      <th>NumRotatableBonds</th>\n",
              "      <th>NumValenceElectrons</th>\n",
              "      <th>NumAromaticRings</th>\n",
              "      <th>NumSaturatedRings</th>\n",
              "      <th>NumAliphaticRings</th>\n",
              "      <th>RingCount</th>\n",
              "      <th>TPSA</th>\n",
              "      <th>LabuteASA</th>\n",
              "      <th>BalabanJ</th>\n",
              "      <th>BertzCT</th>\n",
              "    </tr>\n",
              "  </thead>\n",
              "  <tbody>\n",
              "    <tr>\n",
              "      <th>0</th>\n",
              "      <td>A-3</td>\n",
              "      <td>N,N,N-trimethyloctadecan-1-aminium bromide</td>\n",
              "      <td>InChI=1S/C21H46N.BrH/c1-5-6-7-8-9-10-11-12-13-...</td>\n",
              "      <td>SZEMGTQCPRNXEG-UHFFFAOYSA-M</td>\n",
              "      <td>[Br-].CCCCCCCCCCCCCCCCCC[N+](C)(C)C</td>\n",
              "      <td>-3.616127</td>\n",
              "      <td>0.000000</td>\n",
              "      <td>1</td>\n",
              "      <td>G1</td>\n",
              "      <td>392.510</td>\n",
              "      <td>...</td>\n",
              "      <td>17.0</td>\n",
              "      <td>142.0</td>\n",
              "      <td>0.0</td>\n",
              "      <td>0.0</td>\n",
              "      <td>0.0</td>\n",
              "      <td>0.0</td>\n",
              "      <td>0.00</td>\n",
              "      <td>158.520601</td>\n",
              "      <td>0.000000e+00</td>\n",
              "      <td>210.377334</td>\n",
              "    </tr>\n",
              "    <tr>\n",
              "      <th>1</th>\n",
              "      <td>A-4</td>\n",
              "      <td>Benzo[cd]indol-2(1H)-one</td>\n",
              "      <td>InChI=1S/C11H7NO/c13-11-8-5-1-3-7-4-2-6-9(12-1...</td>\n",
              "      <td>GPYLCFQEKPUWLD-UHFFFAOYSA-N</td>\n",
              "      <td>O=C1Nc2cccc3cccc1c23</td>\n",
              "      <td>-3.254767</td>\n",
              "      <td>0.000000</td>\n",
              "      <td>1</td>\n",
              "      <td>G1</td>\n",
              "      <td>169.183</td>\n",
              "      <td>...</td>\n",
              "      <td>0.0</td>\n",
              "      <td>62.0</td>\n",
              "      <td>2.0</td>\n",
              "      <td>0.0</td>\n",
              "      <td>1.0</td>\n",
              "      <td>3.0</td>\n",
              "      <td>29.10</td>\n",
              "      <td>75.183563</td>\n",
              "      <td>2.582996e+00</td>\n",
              "      <td>511.229248</td>\n",
              "    </tr>\n",
              "    <tr>\n",
              "      <th>2</th>\n",
              "      <td>A-5</td>\n",
              "      <td>4-chlorobenzaldehyde</td>\n",
              "      <td>InChI=1S/C7H5ClO/c8-7-3-1-6(5-9)2-4-7/h1-5H</td>\n",
              "      <td>AVPYQKSLYISFPO-UHFFFAOYSA-N</td>\n",
              "      <td>Clc1ccc(C=O)cc1</td>\n",
              "      <td>-2.177078</td>\n",
              "      <td>0.000000</td>\n",
              "      <td>1</td>\n",
              "      <td>G1</td>\n",
              "      <td>140.569</td>\n",
              "      <td>...</td>\n",
              "      <td>1.0</td>\n",
              "      <td>46.0</td>\n",
              "      <td>1.0</td>\n",
              "      <td>0.0</td>\n",
              "      <td>0.0</td>\n",
              "      <td>1.0</td>\n",
              "      <td>17.07</td>\n",
              "      <td>58.261134</td>\n",
              "      <td>3.009782e+00</td>\n",
              "      <td>202.661065</td>\n",
              "    </tr>\n",
              "    <tr>\n",
              "      <th>3</th>\n",
              "      <td>A-8</td>\n",
              "      <td>zinc bis[2-hydroxy-3,5-bis(1-phenylethyl)benzo...</td>\n",
              "      <td>InChI=1S/2C23H22O3.Zn/c2*1-15(17-9-5-3-6-10-17...</td>\n",
              "      <td>XTUPUYCJWKHGSW-UHFFFAOYSA-L</td>\n",
              "      <td>[Zn++].CC(c1ccccc1)c2cc(C(C)c3ccccc3)c(O)c(c2)...</td>\n",
              "      <td>-3.924409</td>\n",
              "      <td>0.000000</td>\n",
              "      <td>1</td>\n",
              "      <td>G1</td>\n",
              "      <td>756.226</td>\n",
              "      <td>...</td>\n",
              "      <td>10.0</td>\n",
              "      <td>264.0</td>\n",
              "      <td>6.0</td>\n",
              "      <td>0.0</td>\n",
              "      <td>0.0</td>\n",
              "      <td>6.0</td>\n",
              "      <td>120.72</td>\n",
              "      <td>323.755434</td>\n",
              "      <td>2.322963e-07</td>\n",
              "      <td>1964.648666</td>\n",
              "    </tr>\n",
              "    <tr>\n",
              "      <th>4</th>\n",
              "      <td>A-9</td>\n",
              "      <td>4-({4-[bis(oxiran-2-ylmethyl)amino]phenyl}meth...</td>\n",
              "      <td>InChI=1S/C25H30N2O4/c1-5-20(26(10-22-14-28-22)...</td>\n",
              "      <td>FAUAZXVRLVIARB-UHFFFAOYSA-N</td>\n",
              "      <td>C1OC1CN(CC2CO2)c3ccc(Cc4ccc(cc4)N(CC5CO5)CC6CO...</td>\n",
              "      <td>-4.662065</td>\n",
              "      <td>0.000000</td>\n",
              "      <td>1</td>\n",
              "      <td>G1</td>\n",
              "      <td>422.525</td>\n",
              "      <td>...</td>\n",
              "      <td>12.0</td>\n",
              "      <td>164.0</td>\n",
              "      <td>2.0</td>\n",
              "      <td>4.0</td>\n",
              "      <td>4.0</td>\n",
              "      <td>6.0</td>\n",
              "      <td>56.60</td>\n",
              "      <td>183.183268</td>\n",
              "      <td>1.084427e+00</td>\n",
              "      <td>769.899934</td>\n",
              "    </tr>\n",
              "    <tr>\n",
              "      <th>...</th>\n",
              "      <td>...</td>\n",
              "      <td>...</td>\n",
              "      <td>...</td>\n",
              "      <td>...</td>\n",
              "      <td>...</td>\n",
              "      <td>...</td>\n",
              "      <td>...</td>\n",
              "      <td>...</td>\n",
              "      <td>...</td>\n",
              "      <td>...</td>\n",
              "      <td>...</td>\n",
              "      <td>...</td>\n",
              "      <td>...</td>\n",
              "      <td>...</td>\n",
              "      <td>...</td>\n",
              "      <td>...</td>\n",
              "      <td>...</td>\n",
              "      <td>...</td>\n",
              "      <td>...</td>\n",
              "      <td>...</td>\n",
              "      <td>...</td>\n",
              "    </tr>\n",
              "    <tr>\n",
              "      <th>9977</th>\n",
              "      <td>I-84</td>\n",
              "      <td>tetracaine</td>\n",
              "      <td>InChI=1S/C15H24N2O2/c1-4-5-10-16-14-8-6-13(7-9...</td>\n",
              "      <td>GKCBAIGFKIBETG-UHFFFAOYSA-N</td>\n",
              "      <td>C(c1ccc(cc1)NCCCC)(=O)OCCN(C)C</td>\n",
              "      <td>-3.010000</td>\n",
              "      <td>0.000000</td>\n",
              "      <td>1</td>\n",
              "      <td>G1</td>\n",
              "      <td>264.369</td>\n",
              "      <td>...</td>\n",
              "      <td>8.0</td>\n",
              "      <td>106.0</td>\n",
              "      <td>1.0</td>\n",
              "      <td>0.0</td>\n",
              "      <td>0.0</td>\n",
              "      <td>1.0</td>\n",
              "      <td>41.57</td>\n",
              "      <td>115.300645</td>\n",
              "      <td>2.394548e+00</td>\n",
              "      <td>374.236893</td>\n",
              "    </tr>\n",
              "    <tr>\n",
              "      <th>9978</th>\n",
              "      <td>I-85</td>\n",
              "      <td>tetracycline</td>\n",
              "      <td>InChI=1S/C22H24N2O8/c1-21(31)8-5-4-6-11(25)12(...</td>\n",
              "      <td>OFVLGDICTFRJMM-WESIUVDSSA-N</td>\n",
              "      <td>OC1=C(C(C2=C(O)[C@@](C(C(C(N)=O)=C(O)[C@H]3N(C...</td>\n",
              "      <td>-2.930000</td>\n",
              "      <td>0.000000</td>\n",
              "      <td>1</td>\n",
              "      <td>G1</td>\n",
              "      <td>444.440</td>\n",
              "      <td>...</td>\n",
              "      <td>2.0</td>\n",
              "      <td>170.0</td>\n",
              "      <td>1.0</td>\n",
              "      <td>0.0</td>\n",
              "      <td>3.0</td>\n",
              "      <td>4.0</td>\n",
              "      <td>181.62</td>\n",
              "      <td>182.429237</td>\n",
              "      <td>2.047922e+00</td>\n",
              "      <td>1148.584975</td>\n",
              "    </tr>\n",
              "    <tr>\n",
              "      <th>9979</th>\n",
              "      <td>I-86</td>\n",
              "      <td>thymol</td>\n",
              "      <td>InChI=1S/C10H14O/c1-7(2)9-5-4-8(3)6-10(9)11/h4...</td>\n",
              "      <td>MGSRCZKZVOBKFT-UHFFFAOYSA-N</td>\n",
              "      <td>c1(cc(ccc1C(C)C)C)O</td>\n",
              "      <td>-2.190000</td>\n",
              "      <td>0.019222</td>\n",
              "      <td>3</td>\n",
              "      <td>G5</td>\n",
              "      <td>150.221</td>\n",
              "      <td>...</td>\n",
              "      <td>1.0</td>\n",
              "      <td>60.0</td>\n",
              "      <td>1.0</td>\n",
              "      <td>0.0</td>\n",
              "      <td>0.0</td>\n",
              "      <td>1.0</td>\n",
              "      <td>20.23</td>\n",
              "      <td>67.685405</td>\n",
              "      <td>3.092720e+00</td>\n",
              "      <td>251.049732</td>\n",
              "    </tr>\n",
              "    <tr>\n",
              "      <th>9980</th>\n",
              "      <td>I-93</td>\n",
              "      <td>verapamil</td>\n",
              "      <td>InChI=1S/C27H38N2O4/c1-20(2)27(19-28,22-10-12-...</td>\n",
              "      <td>SGTNSNPWRIOYBX-UHFFFAOYSA-N</td>\n",
              "      <td>COc1ccc(CCN(C)CCCC(C#N)(C(C)C)c2ccc(OC)c(OC)c2...</td>\n",
              "      <td>-3.980000</td>\n",
              "      <td>0.000000</td>\n",
              "      <td>1</td>\n",
              "      <td>G1</td>\n",
              "      <td>454.611</td>\n",
              "      <td>...</td>\n",
              "      <td>13.0</td>\n",
              "      <td>180.0</td>\n",
              "      <td>2.0</td>\n",
              "      <td>0.0</td>\n",
              "      <td>0.0</td>\n",
              "      <td>2.0</td>\n",
              "      <td>63.95</td>\n",
              "      <td>198.569223</td>\n",
              "      <td>2.023333e+00</td>\n",
              "      <td>938.203977</td>\n",
              "    </tr>\n",
              "    <tr>\n",
              "      <th>9981</th>\n",
              "      <td>I-94</td>\n",
              "      <td>warfarin</td>\n",
              "      <td>InChI=1S/C19H16O4/c1-12(20)11-15(13-7-3-2-4-8-...</td>\n",
              "      <td>PJVWKTKQMONHTI-UHFFFAOYSA-N</td>\n",
              "      <td>CC(=O)CC(c1ccccc1)c1c(O)c2ccccc2oc1=O</td>\n",
              "      <td>-4.780000</td>\n",
              "      <td>0.450506</td>\n",
              "      <td>3</td>\n",
              "      <td>G5</td>\n",
              "      <td>308.333</td>\n",
              "      <td>...</td>\n",
              "      <td>4.0</td>\n",
              "      <td>116.0</td>\n",
              "      <td>3.0</td>\n",
              "      <td>0.0</td>\n",
              "      <td>0.0</td>\n",
              "      <td>3.0</td>\n",
              "      <td>67.51</td>\n",
              "      <td>132.552025</td>\n",
              "      <td>2.258072e+00</td>\n",
              "      <td>909.550973</td>\n",
              "    </tr>\n",
              "  </tbody>\n",
              "</table>\n",
              "<p>9982 rows × 26 columns</p>\n",
              "</div>\n",
              "    <div class=\"colab-df-buttons\">\n",
              "\n",
              "  <div class=\"colab-df-container\">\n",
              "    <button class=\"colab-df-convert\" onclick=\"convertToInteractive('df-c6f613b9-c83e-48f2-9839-05375979f90e')\"\n",
              "            title=\"Convert this dataframe to an interactive table.\"\n",
              "            style=\"display:none;\">\n",
              "\n",
              "  <svg xmlns=\"http://www.w3.org/2000/svg\" height=\"24px\" viewBox=\"0 -960 960 960\">\n",
              "    <path d=\"M120-120v-720h720v720H120Zm60-500h600v-160H180v160Zm220 220h160v-160H400v160Zm0 220h160v-160H400v160ZM180-400h160v-160H180v160Zm440 0h160v-160H620v160ZM180-180h160v-160H180v160Zm440 0h160v-160H620v160Z\"/>\n",
              "  </svg>\n",
              "    </button>\n",
              "\n",
              "  <style>\n",
              "    .colab-df-container {\n",
              "      display:flex;\n",
              "      gap: 12px;\n",
              "    }\n",
              "\n",
              "    .colab-df-convert {\n",
              "      background-color: #E8F0FE;\n",
              "      border: none;\n",
              "      border-radius: 50%;\n",
              "      cursor: pointer;\n",
              "      display: none;\n",
              "      fill: #1967D2;\n",
              "      height: 32px;\n",
              "      padding: 0 0 0 0;\n",
              "      width: 32px;\n",
              "    }\n",
              "\n",
              "    .colab-df-convert:hover {\n",
              "      background-color: #E2EBFA;\n",
              "      box-shadow: 0px 1px 2px rgba(60, 64, 67, 0.3), 0px 1px 3px 1px rgba(60, 64, 67, 0.15);\n",
              "      fill: #174EA6;\n",
              "    }\n",
              "\n",
              "    .colab-df-buttons div {\n",
              "      margin-bottom: 4px;\n",
              "    }\n",
              "\n",
              "    [theme=dark] .colab-df-convert {\n",
              "      background-color: #3B4455;\n",
              "      fill: #D2E3FC;\n",
              "    }\n",
              "\n",
              "    [theme=dark] .colab-df-convert:hover {\n",
              "      background-color: #434B5C;\n",
              "      box-shadow: 0px 1px 3px 1px rgba(0, 0, 0, 0.15);\n",
              "      filter: drop-shadow(0px 1px 2px rgba(0, 0, 0, 0.3));\n",
              "      fill: #FFFFFF;\n",
              "    }\n",
              "  </style>\n",
              "\n",
              "    <script>\n",
              "      const buttonEl =\n",
              "        document.querySelector('#df-c6f613b9-c83e-48f2-9839-05375979f90e button.colab-df-convert');\n",
              "      buttonEl.style.display =\n",
              "        google.colab.kernel.accessAllowed ? 'block' : 'none';\n",
              "\n",
              "      async function convertToInteractive(key) {\n",
              "        const element = document.querySelector('#df-c6f613b9-c83e-48f2-9839-05375979f90e');\n",
              "        const dataTable =\n",
              "          await google.colab.kernel.invokeFunction('convertToInteractive',\n",
              "                                                    [key], {});\n",
              "        if (!dataTable) return;\n",
              "\n",
              "        const docLinkHtml = 'Like what you see? Visit the ' +\n",
              "          '<a target=\"_blank\" href=https://colab.research.google.com/notebooks/data_table.ipynb>data table notebook</a>'\n",
              "          + ' to learn more about interactive tables.';\n",
              "        element.innerHTML = '';\n",
              "        dataTable['output_type'] = 'display_data';\n",
              "        await google.colab.output.renderOutput(dataTable, element);\n",
              "        const docLink = document.createElement('div');\n",
              "        docLink.innerHTML = docLinkHtml;\n",
              "        element.appendChild(docLink);\n",
              "      }\n",
              "    </script>\n",
              "  </div>\n",
              "\n",
              "\n",
              "    <div id=\"df-77f90c14-9505-47ad-9075-85d317683554\">\n",
              "      <button class=\"colab-df-quickchart\" onclick=\"quickchart('df-77f90c14-9505-47ad-9075-85d317683554')\"\n",
              "                title=\"Suggest charts\"\n",
              "                style=\"display:none;\">\n",
              "\n",
              "<svg xmlns=\"http://www.w3.org/2000/svg\" height=\"24px\"viewBox=\"0 0 24 24\"\n",
              "     width=\"24px\">\n",
              "    <g>\n",
              "        <path d=\"M19 3H5c-1.1 0-2 .9-2 2v14c0 1.1.9 2 2 2h14c1.1 0 2-.9 2-2V5c0-1.1-.9-2-2-2zM9 17H7v-7h2v7zm4 0h-2V7h2v10zm4 0h-2v-4h2v4z\"/>\n",
              "    </g>\n",
              "</svg>\n",
              "      </button>\n",
              "\n",
              "<style>\n",
              "  .colab-df-quickchart {\n",
              "      --bg-color: #E8F0FE;\n",
              "      --fill-color: #1967D2;\n",
              "      --hover-bg-color: #E2EBFA;\n",
              "      --hover-fill-color: #174EA6;\n",
              "      --disabled-fill-color: #AAA;\n",
              "      --disabled-bg-color: #DDD;\n",
              "  }\n",
              "\n",
              "  [theme=dark] .colab-df-quickchart {\n",
              "      --bg-color: #3B4455;\n",
              "      --fill-color: #D2E3FC;\n",
              "      --hover-bg-color: #434B5C;\n",
              "      --hover-fill-color: #FFFFFF;\n",
              "      --disabled-bg-color: #3B4455;\n",
              "      --disabled-fill-color: #666;\n",
              "  }\n",
              "\n",
              "  .colab-df-quickchart {\n",
              "    background-color: var(--bg-color);\n",
              "    border: none;\n",
              "    border-radius: 50%;\n",
              "    cursor: pointer;\n",
              "    display: none;\n",
              "    fill: var(--fill-color);\n",
              "    height: 32px;\n",
              "    padding: 0;\n",
              "    width: 32px;\n",
              "  }\n",
              "\n",
              "  .colab-df-quickchart:hover {\n",
              "    background-color: var(--hover-bg-color);\n",
              "    box-shadow: 0 1px 2px rgba(60, 64, 67, 0.3), 0 1px 3px 1px rgba(60, 64, 67, 0.15);\n",
              "    fill: var(--button-hover-fill-color);\n",
              "  }\n",
              "\n",
              "  .colab-df-quickchart-complete:disabled,\n",
              "  .colab-df-quickchart-complete:disabled:hover {\n",
              "    background-color: var(--disabled-bg-color);\n",
              "    fill: var(--disabled-fill-color);\n",
              "    box-shadow: none;\n",
              "  }\n",
              "\n",
              "  .colab-df-spinner {\n",
              "    border: 2px solid var(--fill-color);\n",
              "    border-color: transparent;\n",
              "    border-bottom-color: var(--fill-color);\n",
              "    animation:\n",
              "      spin 1s steps(1) infinite;\n",
              "  }\n",
              "\n",
              "  @keyframes spin {\n",
              "    0% {\n",
              "      border-color: transparent;\n",
              "      border-bottom-color: var(--fill-color);\n",
              "      border-left-color: var(--fill-color);\n",
              "    }\n",
              "    20% {\n",
              "      border-color: transparent;\n",
              "      border-left-color: var(--fill-color);\n",
              "      border-top-color: var(--fill-color);\n",
              "    }\n",
              "    30% {\n",
              "      border-color: transparent;\n",
              "      border-left-color: var(--fill-color);\n",
              "      border-top-color: var(--fill-color);\n",
              "      border-right-color: var(--fill-color);\n",
              "    }\n",
              "    40% {\n",
              "      border-color: transparent;\n",
              "      border-right-color: var(--fill-color);\n",
              "      border-top-color: var(--fill-color);\n",
              "    }\n",
              "    60% {\n",
              "      border-color: transparent;\n",
              "      border-right-color: var(--fill-color);\n",
              "    }\n",
              "    80% {\n",
              "      border-color: transparent;\n",
              "      border-right-color: var(--fill-color);\n",
              "      border-bottom-color: var(--fill-color);\n",
              "    }\n",
              "    90% {\n",
              "      border-color: transparent;\n",
              "      border-bottom-color: var(--fill-color);\n",
              "    }\n",
              "  }\n",
              "</style>\n",
              "\n",
              "      <script>\n",
              "        async function quickchart(key) {\n",
              "          const quickchartButtonEl =\n",
              "            document.querySelector('#' + key + ' button');\n",
              "          quickchartButtonEl.disabled = true;  // To prevent multiple clicks.\n",
              "          quickchartButtonEl.classList.add('colab-df-spinner');\n",
              "          try {\n",
              "            const charts = await google.colab.kernel.invokeFunction(\n",
              "                'suggestCharts', [key], {});\n",
              "          } catch (error) {\n",
              "            console.error('Error during call to suggestCharts:', error);\n",
              "          }\n",
              "          quickchartButtonEl.classList.remove('colab-df-spinner');\n",
              "          quickchartButtonEl.classList.add('colab-df-quickchart-complete');\n",
              "        }\n",
              "        (() => {\n",
              "          let quickchartButtonEl =\n",
              "            document.querySelector('#df-77f90c14-9505-47ad-9075-85d317683554 button');\n",
              "          quickchartButtonEl.style.display =\n",
              "            google.colab.kernel.accessAllowed ? 'block' : 'none';\n",
              "        })();\n",
              "      </script>\n",
              "    </div>\n",
              "\n",
              "  <div id=\"id_34d6ee9c-00c3-44e2-9b43-f3edd9ccd085\">\n",
              "    <style>\n",
              "      .colab-df-generate {\n",
              "        background-color: #E8F0FE;\n",
              "        border: none;\n",
              "        border-radius: 50%;\n",
              "        cursor: pointer;\n",
              "        display: none;\n",
              "        fill: #1967D2;\n",
              "        height: 32px;\n",
              "        padding: 0 0 0 0;\n",
              "        width: 32px;\n",
              "      }\n",
              "\n",
              "      .colab-df-generate:hover {\n",
              "        background-color: #E2EBFA;\n",
              "        box-shadow: 0px 1px 2px rgba(60, 64, 67, 0.3), 0px 1px 3px 1px rgba(60, 64, 67, 0.15);\n",
              "        fill: #174EA6;\n",
              "      }\n",
              "\n",
              "      [theme=dark] .colab-df-generate {\n",
              "        background-color: #3B4455;\n",
              "        fill: #D2E3FC;\n",
              "      }\n",
              "\n",
              "      [theme=dark] .colab-df-generate:hover {\n",
              "        background-color: #434B5C;\n",
              "        box-shadow: 0px 1px 3px 1px rgba(0, 0, 0, 0.15);\n",
              "        filter: drop-shadow(0px 1px 2px rgba(0, 0, 0, 0.3));\n",
              "        fill: #FFFFFF;\n",
              "      }\n",
              "    </style>\n",
              "    <button class=\"colab-df-generate\" onclick=\"generateWithVariable('df')\"\n",
              "            title=\"Generate code using this dataframe.\"\n",
              "            style=\"display:none;\">\n",
              "\n",
              "  <svg xmlns=\"http://www.w3.org/2000/svg\" height=\"24px\"viewBox=\"0 0 24 24\"\n",
              "       width=\"24px\">\n",
              "    <path d=\"M7,19H8.4L18.45,9,17,7.55,7,17.6ZM5,21V16.75L18.45,3.32a2,2,0,0,1,2.83,0l1.4,1.43a1.91,1.91,0,0,1,.58,1.4,1.91,1.91,0,0,1-.58,1.4L9.25,21ZM18.45,9,17,7.55Zm-12,3A5.31,5.31,0,0,0,4.9,8.1,5.31,5.31,0,0,0,1,6.5,5.31,5.31,0,0,0,4.9,4.9,5.31,5.31,0,0,0,6.5,1,5.31,5.31,0,0,0,8.1,4.9,5.31,5.31,0,0,0,12,6.5,5.46,5.46,0,0,0,6.5,12Z\"/>\n",
              "  </svg>\n",
              "    </button>\n",
              "    <script>\n",
              "      (() => {\n",
              "      const buttonEl =\n",
              "        document.querySelector('#id_34d6ee9c-00c3-44e2-9b43-f3edd9ccd085 button.colab-df-generate');\n",
              "      buttonEl.style.display =\n",
              "        google.colab.kernel.accessAllowed ? 'block' : 'none';\n",
              "\n",
              "      buttonEl.onclick = () => {\n",
              "        google.colab.notebook.generateWithVariable('df');\n",
              "      }\n",
              "      })();\n",
              "    </script>\n",
              "  </div>\n",
              "\n",
              "    </div>\n",
              "  </div>\n"
            ],
            "application/vnd.google.colaboratory.intrinsic+json": {
              "type": "dataframe",
              "variable_name": "df"
            }
          },
          "metadata": {},
          "execution_count": 9
        }
      ],
      "source": [
        "df"
      ]
    },
    {
      "cell_type": "markdown",
      "metadata": {
        "id": "AGO63T-9NSdJ"
      },
      "source": [
        "<div class=\"alert alert-success\">\n",
        "<b>Task 1a.</b> From the data frame above, print the number of compounds and list of features (columns) in the dataset.</div>"
      ]
    },
    {
      "cell_type": "code",
      "execution_count": 11,
      "metadata": {
        "colab": {
          "base_uri": "https://localhost:8080/"
        },
        "id": "wHAsBiA06_p-",
        "outputId": "918df619-8e8d-4187-d8e7-397dbf72ed00"
      },
      "outputs": [
        {
          "output_type": "stream",
          "name": "stdout",
          "text": [
            "Number of compounds: 9982\n",
            "Features present: ['ID' 'Name' 'InChI' 'InChIKey' 'SMILES' 'Solubility' 'SD' 'Ocurrences'\n",
            " 'Group' 'MolWt' 'MolLogP' 'MolMR' 'HeavyAtomCount' 'NumHAcceptors'\n",
            " 'NumHDonors' 'NumHeteroatoms' 'NumRotatableBonds' 'NumValenceElectrons'\n",
            " 'NumAromaticRings' 'NumSaturatedRings' 'NumAliphaticRings' 'RingCount'\n",
            " 'TPSA' 'LabuteASA' 'BalabanJ' 'BertzCT']\n"
          ]
        }
      ],
      "source": [
        "# Your solution here\n",
        "comp = len(df)\n",
        "feat = df.columns.values\n",
        "print(f'Number of compounds: {comp}')\n",
        "print(f'Features present: {feat}')"
      ]
    },
    {
      "cell_type": "markdown",
      "metadata": {
        "id": "anRvFiRv6_p-"
      },
      "source": [
        "<details>\n",
        "<summary> <mark> Solution:</mark> </summary>\n",
        "\n",
        "```Python\n",
        "print(f\"Number of compounds in the dataset: {df.shape[0]}\" )\n",
        "print(f\"Dataset columns: {list(df.columns)}\" )\n",
        "```\n",
        "\n",
        "</details>"
      ]
    },
    {
      "cell_type": "markdown",
      "metadata": {
        "id": "6XVcB-UJOwnt"
      },
      "source": [
        "<div class=\"alert alert-success\">\n",
        "<b>Task 1b.</b> What are the two features that are required in our task to predict solubility of the molecule from SMILES representation ?</div>"
      ]
    },
    {
      "cell_type": "code",
      "execution_count": null,
      "metadata": {
        "id": "7F1qP2ht6_qA"
      },
      "outputs": [],
      "source": [
        "# Solubility and SMILES"
      ]
    },
    {
      "cell_type": "markdown",
      "metadata": {
        "id": "XSr54y63P191"
      },
      "source": [
        "<details>\n",
        "<summary> <mark> Solution: </mark> </summary>\n",
        "\n",
        "Features:\n",
        "- 'SMILES'\n",
        "- 'Solubility'\n",
        "\n",
        "</details>"
      ]
    },
    {
      "cell_type": "markdown",
      "metadata": {
        "id": "CN8EteHYR7XK"
      },
      "source": [
        "The chosen\n",
        "unit of solubility in this dataset is LogS, where S is the aqueous solubility in mol/L (or M). Units such as g/L and mg/L were converted to LogS using the molecular mass of the compounds.\n",
        "\n",
        "<div class=\"alert alert-success\">\n",
        "<b>Task 1c.</b> Plot a histogram to analyse the distribution of 'Solubility' measurement across the entire dataset. You can use seaborn histplot for this task. </div>"
      ]
    },
    {
      "cell_type": "code",
      "execution_count": 15,
      "metadata": {
        "colab": {
          "base_uri": "https://localhost:8080/",
          "height": 449
        },
        "id": "BLqOpyzkOkpL",
        "outputId": "cd47a032-4801-4455-f0ef-d2a436742e53"
      },
      "outputs": [
        {
          "output_type": "display_data",
          "data": {
            "text/plain": [
              "<Figure size 640x480 with 1 Axes>"
            ],
            "image/png": "[encoded data removed]"
          },
          "metadata": {}
        }
      ],
      "source": [
        "## Your solution here\n",
        "sns.histplot(df['Solubility'], bins = 40)\n",
        "plt.ylabel('N° of compounds')\n",
        "plt.show()"
      ]
    },
    {
      "cell_type": "markdown",
      "metadata": {
        "id": "D7IbN3TH6_qC"
      },
      "source": [
        "<details>\n",
        "<summary> <mark> Solution: </mark> </summary>\n",
        "\n",
        "```Python\n",
        "sns.histplot(df['Solubility'],bins=20)\n",
        "plt.ylabel('Number of Compunds')\n",
        "plt.show()\n",
        "```\n",
        "\n",
        "</details>"
      ]
    },
    {
      "cell_type": "markdown",
      "metadata": {
        "id": "IWAbt_6Hf_Qs"
      },
      "source": [
        "Now we want to categorise the Solubility data into two classes-- 0 for insoluble and 1 for soluble compounds. These compounds can be classified according to solubility values (LogS).\n",
        "\n",
        "Compounds with 0 and higher solubility value are highly soluble, those in the range of 0 to −2 are soluble, those in the range of −2 to −4 are slightly soluble and insoluble if less than −4."
      ]
    },
    {
      "cell_type": "code",
      "execution_count": 27,
      "metadata": {
        "id": "goc0I8NV6_qE"
      },
      "outputs": [],
      "source": [
        "df[\"isSoluble\"] = (df.Solubility > -2\n",
        "                   ).astype(int)"
      ]
    },
    {
      "cell_type": "markdown",
      "metadata": {
        "id": "YNMRTjo36_qE"
      },
      "source": [
        "\n",
        "<div class=\"alert alert-success\">\n",
        "<b>Task 1d.</b> Let's check the number of soluble and not soluble molecules. What happens if you change the cut off? </div>"
      ]
    },
    {
      "cell_type": "code",
      "execution_count": 28,
      "metadata": {
        "colab": {
          "base_uri": "https://localhost:8080/"
        },
        "id": "CtExB1Nv6_qF",
        "outputId": "6d9a167f-5486-4a1b-854a-db77baac2494"
      },
      "outputs": [
        {
          "output_type": "stream",
          "name": "stdout",
          "text": [
            "N° of soluble compounds: 3896\n",
            "N° of insoluble compounds: 6086\n"
          ]
        }
      ],
      "source": [
        "## Your solution here\n",
        "sol_comp = 0\n",
        "insol_comp = 0\n",
        "\n",
        "# if df['isSoluble'] == 1 wrong -> df['isSoluble'] is whole column/series, not single value I'm iterating over\n",
        "# use sol instead -> denotes single boolean\n",
        "for sol in df['isSoluble']:\n",
        "  if sol == 1:\n",
        "    sol_comp += 1\n",
        "  else:\n",
        "    insol_comp += 1\n",
        "\n",
        "#print outside loop, otherwise will get printed after each count\n",
        "print(f'N° of soluble compounds: {sol_comp}')\n",
        "print(f'N° of insoluble compounds: {insol_comp}')\n",
        "\n",
        "#if -2 is cut off -> sol: 3896, insol: 6086\n",
        "#if -4 -> sol: 7103, insol: 2879\n",
        "#if 0 -> sol: 1056, insol: 8926"
      ]
    },
    {
      "cell_type": "markdown",
      "metadata": {
        "id": "7uOpWyZ46_qG"
      },
      "source": [
        "<details>\n",
        "<summary> <mark> Solution: </mark> </summary>\n",
        "\n",
        "```Python\n",
        "df[\"isSoluble\"] = (df.Solubility > -3).astype(int)\n",
        "print(df.isSoluble.value_counts())\n",
        "```\n",
        "</details>"
      ]
    },
    {
      "cell_type": "markdown",
      "metadata": {
        "id": "x60As02bhbKT"
      },
      "source": [
        "<div class=\"alert alert-success\">\n",
        "<b>Task 1e.</b> How does solubility correlate with molecular weight? Do distributions overlap between compounds that were classified as soluble and not soluble?  </div>"
      ]
    },
    {
      "cell_type": "code",
      "execution_count": 39,
      "metadata": {
        "colab": {
          "base_uri": "https://localhost:8080/",
          "height": 1000
        },
        "id": "9Vd_30UO6_qI",
        "outputId": "d25b4a54-867e-464a-dd18-0823f382a750"
      },
      "outputs": [
        {
          "output_type": "display_data",
          "data": {
            "text/plain": [
              "<Figure size 640x480 with 1 Axes>"
            ],
            "image/png": "[encoded data removed]"
          },
          "metadata": {}
        },
        {
          "output_type": "display_data",
          "data": {
            "text/plain": [
              "<Figure size 640x480 with 1 Axes>"
            ],
            "image/png": "[encoded data removed]"
          },
          "metadata": {}
        },
        {
          "output_type": "display_data",
          "data": {
            "text/plain": [
              "<Figure size 640x480 with 1 Axes>"
            ],
            "image/png": "[encoded data removed]"
          },
          "metadata": {}
        }
      ],
      "source": [
        "## Your solution here\n",
        "sns.scatterplot(x='MolWt', y='Solubility', data = df[df.MolWt < 1000])\n",
        "plt.show()\n",
        "\n",
        "#faster way\n",
        "sns.histplot(x=\"MolWt\", hue='isSoluble', data=df[df.MolWt < 1000], bins=50);\n",
        "plt.show()\n",
        "\n",
        "filt_df = df[df['MolWt'] < 1000]\n",
        "plt.hist(filt_df[filt_df['isSoluble'] == 1]['MolWt'], histtype=\"step\", label=\"Soluble\", bins=50, color=\"red\")\n",
        "plt.hist(filt_df[filt_df['isSoluble'] == 0]['MolWt'], histtype=\"step\", label=\"Insoluble\", bins=50, color=\"dodgerblue\")\n",
        "plt.xlabel(\"Molecular Weight\")\n",
        "plt.ylabel(\"Frequency\")\n",
        "plt.legend(frameon=False)\n",
        "plt.title('Molecular Weight distribution compared to solubility')\n",
        "plt.show()\n"
      ]
    },
    {
      "cell_type": "markdown",
      "metadata": {
        "id": "1i8C_GhQ6_qJ"
      },
      "source": [
        "<details>\n",
        "<summary> <mark> Solution: </mark> </summary>\n",
        "\n",
        "```Python\n",
        "# Looking at correlation\n",
        "sns.scatterplot(x=\"MolWt\", y='Solubility', data=df[df.MolWt < 1000])\n",
        "# Looking at overlap of soluble and not soluble distributions\n",
        "sns.histplot(x=\"MolWt\", hue='isSoluble', data=df[df.MolWt < 1000], bins=40);\n",
        "```\n",
        "</details>"
      ]
    },
    {
      "cell_type": "markdown",
      "metadata": {
        "id": "MzVbIVVb9pJB"
      },
      "source": [
        "## 2. Data Preprocessing- Feature extraction and splitting the datasets"
      ]
    },
    {
      "cell_type": "markdown",
      "metadata": {
        "id": "xnsU50-Qjo3N"
      },
      "source": [
        "Molecular Fingerprinting- ECFP take a look at [J. Chem. Inf. Model. 2010, 50, 5, 742–754](https://pubs.acs.org/doi/10.1021/ci100050t) for more details about molecular fingerprints."
      ]
    },
    {
      "cell_type": "code",
      "execution_count": 55,
      "metadata": {
        "id": "tb4t8kVs91GI"
      },
      "outputs": [],
      "source": [
        "# Convert SMILES strings to ECFP fingerprints\n",
        "def get_fingerprints(smiles):\n",
        "    m = Chem.MolFromSmiles(smiles)\n",
        "    if m is None:\n",
        "        return np.zeros(1024, dtype=np.float32)\n",
        "    generator = AllChem.GetMorganGenerator(radius=2, fpSize=1024)\n",
        "    fp = generator.GetFingerprint(m)\n",
        "    #fp = AllChem.GetMorganFingerprintAsBitVect(m, 2, nBits=1024)\n",
        "    arr = np.zeros((1,1024), dtype=np.float32)\n",
        "    DataStructs.ConvertToNumpyArray(fp, arr)\n",
        "    return arr"
      ]
    },
    {
      "cell_type": "markdown",
      "metadata": {
        "id": "q_waWEIZPwsR"
      },
      "source": [
        "From the dataframe above, we will now select the input i.e., SMILES string and initialize it to the variable **X** and the binary solubility scores to the variable **y**. We will then get the Morgan fingerprints for the input **X**."
      ]
    },
    {
      "cell_type": "code",
      "execution_count": 56,
      "metadata": {
        "id": "bfdevnXUrs3_",
        "colab": {
          "base_uri": "https://localhost:8080/"
        },
        "outputId": "8a357458-0cf9-41b1-8d6e-cbd2a686ec3b"
      },
      "outputs": [
        {
          "output_type": "stream",
          "name": "stderr",
          "text": [
            "[14:56:15] WARNING: not removing hydrogen atom without neighbors\n",
            "[14:56:15] WARNING: not removing hydrogen atom without neighbors\n",
            "[14:56:15] WARNING: not removing hydrogen atom without neighbors\n",
            "[14:56:15] WARNING: not removing hydrogen atom without neighbors\n",
            "[14:56:15] WARNING: not removing hydrogen atom without neighbors\n",
            "[14:56:15] WARNING: not removing hydrogen atom without neighbors\n",
            "[14:56:15] WARNING: not removing hydrogen atom without neighbors\n",
            "[14:56:15] WARNING: not removing hydrogen atom without neighbors\n",
            "[14:56:15] WARNING: not removing hydrogen atom without neighbors\n",
            "[14:56:15] WARNING: not removing hydrogen atom without neighbors\n",
            "[14:56:15] WARNING: not removing hydrogen atom without neighbors\n",
            "[14:56:15] WARNING: not removing hydrogen atom without neighbors\n",
            "[14:56:15] WARNING: not removing hydrogen atom without neighbors\n",
            "[14:56:15] WARNING: not removing hydrogen atom without neighbors\n",
            "[14:56:15] WARNING: not removing hydrogen atom without neighbors\n",
            "[14:56:15] WARNING: not removing hydrogen atom without neighbors\n",
            "[14:56:15] WARNING: not removing hydrogen atom without neighbors\n",
            "[14:56:15] WARNING: not removing hydrogen atom without neighbors\n",
            "[14:56:15] WARNING: not removing hydrogen atom without neighbors\n",
            "[14:56:15] WARNING: not removing hydrogen atom without neighbors\n",
            "[14:56:15] WARNING: not removing hydrogen atom without neighbors\n",
            "[14:56:15] WARNING: not removing hydrogen atom without neighbors\n",
            "[14:56:16] WARNING: not removing hydrogen atom without neighbors\n",
            "[14:56:16] WARNING: not removing hydrogen atom without neighbors\n",
            "[14:56:16] WARNING: not removing hydrogen atom without neighbors\n",
            "[14:56:16] WARNING: not removing hydrogen atom without neighbors\n",
            "[14:56:16] WARNING: not removing hydrogen atom without neighbors\n",
            "[14:56:16] WARNING: not removing hydrogen atom without neighbors\n",
            "[14:56:16] WARNING: not removing hydrogen atom without neighbors\n",
            "[14:56:16] WARNING: not removing hydrogen atom without neighbors\n",
            "[14:56:16] WARNING: not removing hydrogen atom without neighbors\n",
            "[14:56:16] WARNING: not removing hydrogen atom without neighbors\n",
            "[14:56:16] WARNING: not removing hydrogen atom without neighbors\n",
            "[14:56:16] WARNING: not removing hydrogen atom without neighbors\n",
            "[14:56:16] WARNING: not removing hydrogen atom without neighbors\n",
            "[14:56:16] WARNING: not removing hydrogen atom without neighbors\n",
            "[14:56:16] WARNING: not removing hydrogen atom without neighbors\n",
            "[14:56:16] WARNING: not removing hydrogen atom without neighbors\n",
            "[14:56:16] WARNING: not removing hydrogen atom without neighbors\n",
            "[14:56:16] WARNING: not removing hydrogen atom without neighbors\n",
            "[14:56:16] WARNING: not removing hydrogen atom without neighbors\n",
            "[14:56:16] WARNING: not removing hydrogen atom without neighbors\n",
            "[14:56:16] WARNING: not removing hydrogen atom without neighbors\n",
            "[14:56:16] WARNING: not removing hydrogen atom without neighbors\n",
            "[14:56:16] WARNING: not removing hydrogen atom without neighbors\n",
            "[14:56:16] WARNING: not removing hydrogen atom without neighbors\n",
            "[14:56:16] WARNING: not removing hydrogen atom without neighbors\n",
            "[14:56:16] WARNING: not removing hydrogen atom without neighbors\n",
            "[14:56:16] WARNING: not removing hydrogen atom without neighbors\n",
            "[14:56:16] WARNING: not removing hydrogen atom without neighbors\n",
            "[14:56:16] WARNING: not removing hydrogen atom without neighbors\n",
            "[14:56:16] WARNING: not removing hydrogen atom without neighbors\n",
            "[14:56:16] WARNING: not removing hydrogen atom without neighbors\n",
            "[14:56:16] WARNING: not removing hydrogen atom without neighbors\n",
            "[14:56:16] WARNING: not removing hydrogen atom without neighbors\n",
            "[14:56:16] WARNING: not removing hydrogen atom without neighbors\n",
            "[14:56:16] WARNING: not removing hydrogen atom without neighbors\n",
            "[14:56:16] WARNING: not removing hydrogen atom without neighbors\n",
            "[14:56:16] WARNING: not removing hydrogen atom without neighbors\n",
            "[14:56:16] WARNING: not removing hydrogen atom without neighbors\n",
            "[14:56:16] Explicit valence for atom # 5 N, 4, is greater than permitted\n",
            "[14:56:17] WARNING: not removing hydrogen atom without neighbors\n",
            "[14:56:17] Explicit valence for atom # 5 N, 4, is greater than permitted\n",
            "[14:56:17] WARNING: not removing hydrogen atom without neighbors\n",
            "[14:56:17] WARNING: not removing hydrogen atom without neighbors\n",
            "[14:56:17] WARNING: not removing hydrogen atom without neighbors\n",
            "[14:56:17] WARNING: not removing hydrogen atom without neighbors\n"
          ]
        }
      ],
      "source": [
        "X = df[\"SMILES\"]\n",
        "y = np.array(df[\"isSoluble\"]) # label\n",
        "#Get ECFP Fingerprints\n",
        "X1 = X.apply(get_fingerprints).apply(lambda x: np.array(x, dtype=np.float32))\n",
        "X1 = np.concatenate(X1.values)\n",
        "X1 = X1.reshape(-1, 1024)"
      ]
    },
    {
      "cell_type": "markdown",
      "metadata": {
        "id": "t8BOsYP46_qh"
      },
      "source": [
        "Now we have **X1** with fingerprints for all the molecules in the dataset and corresponding solubility scores.\n",
        "\n",
        "<div class=\"alert alert-success\">\n",
        "<b>Task 2.</b> Explore what you see in X1 in ab it more detail! </div>"
      ]
    },
    {
      "cell_type": "code",
      "execution_count": 57,
      "metadata": {
        "colab": {
          "base_uri": "https://localhost:8080/"
        },
        "id": "A6x_GXPL6_qi",
        "outputId": "d22c0b9c-48ab-40ab-9331-aec78504b6a0"
      },
      "outputs": [
        {
          "output_type": "execute_result",
          "data": {
            "text/plain": [
              "(9982, 1024)"
            ]
          },
          "metadata": {},
          "execution_count": 57
        }
      ],
      "source": [
        "## Your code here\n",
        "np.shape(X1)"
      ]
    },
    {
      "cell_type": "markdown",
      "metadata": {
        "id": "kCiwSf5N6_qj"
      },
      "source": [
        "<details>\n",
        "<summary> <mark> Solution: </mark> </summary>\n",
        "\n",
        "For example you can look at the shape or number of 1s and 0s in your feature vector\n",
        "    \n",
        "```Python\n",
        "np.shape(X1)\n",
        "```\n",
        "</details>"
      ]
    },
    {
      "cell_type": "markdown",
      "metadata": {
        "id": "wn9HWpOwjtaS"
      },
      "source": [
        "Now we have **X1** with fingerprints for all the molecules in the dataset and corresponding solubility scores.\n",
        "\n",
        "<div class=\"alert alert-success\">\n",
        "<b>Task 2a.</b> Split X and y into train, test and validation sets using scikit-learn. Use 80% data for training and 20% data for testing; You can use 20% of the training data for validation set. </div>"
      ]
    },
    {
      "cell_type": "code",
      "execution_count": 60,
      "metadata": {
        "id": "WlYmNbYq6_qp"
      },
      "outputs": [],
      "source": [
        "from sklearn.model_selection import train_test_split\n",
        "\n",
        "# X1 is the training data and our y is the label\n",
        "\n",
        "# Split the data into train and test sets\n",
        "X_train, X_test, y_train, y_test = train_test_split(X1, y, test_size=0.2)\n",
        "\n",
        "# Split the train data into train and validation sets\n",
        "X_train, X_val, y_train, y_val = train_test_split(X_train, y_train, test_size=0.2)"
      ]
    },
    {
      "cell_type": "markdown",
      "metadata": {
        "id": "uZq5pRQY6_qq"
      },
      "source": [
        "<details>\n",
        "<summary> <mark> Solution: </mark> </summary>\n",
        "    \n",
        "```Python\n",
        "# Split the data into train and test sets\n",
        "X_train, X_test, y_train, y_test = train_test_split(X1, y, test_size=0.2)\n",
        "\n",
        "# Split the train data into train and validation sets\n",
        "X_train, X_val, y_train, y_val = train_test_split(X_train, y_train, test_size=0.2)\n",
        "```\n",
        "</details>"
      ]
    },
    {
      "cell_type": "markdown",
      "metadata": {
        "id": "MlR27GU1T__M"
      },
      "source": [
        "We will now have to convert the `train`, `val` and `test` sets into `tensors` and then use PyTorch `DataLoader` to wrap these samples for training the DL models."
      ]
    },
    {
      "cell_type": "markdown",
      "metadata": {
        "id": "0cLFAlk46_qs"
      },
      "source": [
        "## 3. Use a Random Forest to classify the data\n",
        "\n",
        "Let's start by training a Random Forests Classifier (RF) using the training set we have just assembled. The RF is constituted by a collection of decision trees, each trained on a subset of data (\"data bagging\") and subset of features (\"features bagging\"). The key philosophy behind RF is that a collection of weak classifiers (here, decision trees) makes a strong classifier. After training, classification is done by voting: each decision tree proposes a classification, and the most voted class wins. A key advantage of this approach is that RF does not overfit."
      ]
    },
    {
      "cell_type": "code",
      "execution_count": null,
      "metadata": {
        "id": "tjbZozyI6_qt"
      },
      "outputs": [],
      "source": [
        "from sklearn.ensemble import RandomForestClassifier\n",
        "\n",
        "RF = RandomForestClassifier(n_estimators=10)\n",
        "RF.fit(X_train, y_train)"
      ]
    },
    {
      "cell_type": "markdown",
      "metadata": {
        "id": "d3XJvYCV6_qu"
      },
      "source": [
        "Let's now assess its performance against the test set."
      ]
    },
    {
      "cell_type": "code",
      "execution_count": null,
      "metadata": {
        "id": "1AcJ1fzg6_qu"
      },
      "outputs": [],
      "source": [
        "r = RF.predict(X_test)\n",
        "success = np.sum((r-y_test)==0)\n",
        "percent = float(success)/len(y_test)*100\n",
        "print(f'Success of test set: {percent}%')"
      ]
    },
    {
      "cell_type": "markdown",
      "metadata": {
        "id": "YdJcykmC6_qv"
      },
      "source": [
        "To see which features are deemed the most useful for a successful classification, we can observe their importance."
      ]
    },
    {
      "cell_type": "code",
      "execution_count": null,
      "metadata": {
        "id": "Y8qxhARs6_qv"
      },
      "outputs": [],
      "source": [
        "importances = RF.feature_importances_\n",
        "importances_std = np.std([tree.feature_importances_ for tree in RF.estimators_], axis=0)\n",
        "\n",
        "sorted_indices = np.argsort(importances)[-10:][::-1]\n",
        "top_values = np.array(importances)[sorted_indices]\n",
        "top_std_devs = np.array(importances_std)[sorted_indices]\n",
        "colors = ['red' if i == 0 else 'skyblue' for i in range(10)]\n",
        "\n",
        "fig, ax = plt.subplots(figsize=(8, 5))\n",
        "bars = ax.barh(range(10), top_values, xerr=top_std_devs, align='center', color=colors, capsize=5)\n",
        "ax.set_yticks(range(10))\n",
        "ax.set_yticklabels(sorted_indices)\n",
        "ax.set_xlabel('Importance')\n",
        "ax.set_ylabel('Feature index')\n",
        "ax.set_title('Top 10 important features')\n",
        "plt.gca().invert_yaxis()\n",
        "plt.tight_layout()\n",
        "plt.show()"
      ]
    },
    {
      "cell_type": "markdown",
      "metadata": {
        "id": "iaGr7XYm6_qw"
      },
      "source": [
        "<div class=\"alert alert-success\">\n",
        "<b>Task 3.</b> Can you change the random forest classifier settings to get better performance? </div>"
      ]
    },
    {
      "cell_type": "code",
      "execution_count": null,
      "metadata": {
        "id": "7j4GCzL76_qx"
      },
      "outputs": [],
      "source": [
        "# Your Solution here\n"
      ]
    },
    {
      "cell_type": "markdown",
      "metadata": {
        "id": "W2BWvhVM6_qy"
      },
      "source": [
        "<details>\n",
        "<summary> <mark> Solution: </mark> </summary>\n",
        "\n",
        "```Python\n",
        "# Change hyperparameters for the random forest model\n",
        "RF = RandomForestClassifier(n_estimators=46, min_samples_split=2, max_samples=0.92)\n",
        "RF.fit(X_train, y_train)\n",
        "r = RF.predict(X_test)\n",
        "success = np.sum((r-y_test)==0)\n",
        "percent = float(success)/len(y_test)*100\n",
        "print(f'Success of test set: {percent}%')\n",
        "```\n",
        "</details>"
      ]
    },
    {
      "cell_type": "markdown",
      "metadata": {
        "id": "HjMBduj56_qz"
      },
      "source": [
        "## 4. Prep of data for Neural network training"
      ]
    },
    {
      "cell_type": "code",
      "execution_count": null,
      "metadata": {
        "id": "s4F0dCRBTq1T"
      },
      "outputs": [],
      "source": [
        "# Convert your data into tensors\n",
        "X_train = torch.tensor(X_train, dtype=torch.float32)\n",
        "y_train = torch.tensor(y_train, dtype=torch.int64)\n",
        "\n",
        "# Wrap your data in TensorDataset\n",
        "train_dataset = TensorDataset(X_train, y_train)\n",
        "\n",
        "# Create the dataloaders\n",
        "batch_size = 128\n",
        "trainloader = DataLoader(train_dataset, batch_size=batch_size, shuffle=True)"
      ]
    },
    {
      "cell_type": "markdown",
      "metadata": {
        "id": "H6X51dvnUqDJ"
      },
      "source": [
        "<div class=\"alert alert-success\">\n",
        "<b>Task 4.</b> Similar to the train set as shown in the cell above, prepare the testloader and validation loader. </div>"
      ]
    },
    {
      "cell_type": "code",
      "execution_count": null,
      "metadata": {
        "id": "XsfZpeBU6_r6"
      },
      "outputs": [],
      "source": [
        "# Convert your data into tensors\n",
        "X_val = torch.tensor(X_val, dtype=torch.float32)\n",
        "y_val =\n",
        "X_test =\n",
        "y_test =\n",
        "\n",
        "# Wrap your data in TensorDataset\n",
        "val_dataset =\n",
        "test_dataset =\n",
        "\n",
        "# Create the dataloaders\n",
        "batch_size = 128\n",
        "valloader = DataLoader()\n",
        "testloader ="
      ]
    },
    {
      "cell_type": "markdown",
      "metadata": {
        "id": "icAhrq4n6_r7"
      },
      "source": [
        "<details>\n",
        "<summary> <mark> Solution: </mark> </summary>\n",
        "    \n",
        "```Python\n",
        "# Convert your data into tensors\n",
        "X_val = torch.tensor(X_val, dtype=torch.float32)\n",
        "y_val = torch.tensor(y_val, dtype=torch.int64)\n",
        "X_test = torch.tensor(X_test, dtype=torch.float32)\n",
        "y_test = torch.tensor(y_test, dtype=torch.int64)\n",
        "\n",
        "# Wrap your data in TensorDataset\n",
        "val_dataset = TensorDataset(X_val, y_val)\n",
        "test_dataset= TensorDataset(X_test, y_test)\n",
        "\n",
        "# Create the dataloaders\n",
        "batch_size = 128\n",
        "valloader = DataLoader(val_dataset, batch_size=batch_size, shuffle=False)\n",
        "testloader = DataLoader(test_dataset, batch_size=batch_size, shuffle=False)\n",
        "```\n",
        "</details>"
      ]
    },
    {
      "cell_type": "markdown",
      "metadata": {
        "id": "4tocfZx3DWwy"
      },
      "source": [
        "## 5. Training the Deep Neural Network on SMILES data"
      ]
    },
    {
      "cell_type": "markdown",
      "metadata": {
        "id": "vdEx3l9KJGfb"
      },
      "source": [
        "### 5.1. Defining the DNN model\n",
        "Now let's get started by defining a 5-layer deep neural network which takes in an input a 1024 dimensions ECFP fingerprint obtained from the corresponding SMILES string.\n",
        "\n",
        "This code defines a class named DNN which extends PyTorch's `nn.Module` class. The DNN class is used to build a deep neural network model. The class has two main parts: the constructor `__init__` and the `forward` method.\n",
        "\n",
        "In the constructor, we first call the `super()` method to initialize the parent class `nn.Module`. Then, we create five fully connected linear layers using `nn.Linear` from the PyTorch's nn module. The first layer `fc1` has 1024 inputs and 512 outputs, the second layer `fc2` has 512 inputs and 256 outputs, the third layer `fc3` has 256 inputs and 128 outputs, the fourth layer `fc4` has 128 inputs and 64 outputs, and the final layer `fc5` has 64 inputs and 2 outputs.\n",
        "\n",
        "In the forward method, we define the forward pass of the network. We first apply the `F.relu` activation function to the outputs of each layer, which applies the rectified linear unit (ReLU) activation function. After applying activation, we apply the `F.softmax `function to the output of the final layer to get probabilities for each class. The final output of the forward method is the probability distribution over the two classes."
      ]
    },
    {
      "cell_type": "code",
      "execution_count": null,
      "metadata": {
        "id": "vj7a0gpmBYis"
      },
      "outputs": [],
      "source": [
        "# Define the DNN model\n",
        "class DNN(nn.Module):\n",
        "    def __init__(self):\n",
        "        super(DNN, self).__init__()\n",
        "        self.fc1 = nn.Linear(1024, 512)\n",
        "        self.fc2 = nn.Linear(512, 256)\n",
        "        self.fc3 = nn.Linear(256, 128)\n",
        "        self.fc4 = nn.Linear(128, 64)\n",
        "        self.fc5 = nn.Linear(64, 2)\n",
        "\n",
        "    def forward(self, x):\n",
        "        x = F.relu(self.fc1(x))\n",
        "        x = F.relu(self.fc2(x))\n",
        "        x = F.relu(self.fc3(x))\n",
        "        x = F.relu(self.fc4(x))\n",
        "        x = F.softmax(self.fc5(x), dim=1) # Use softmax activation to get probabilities for each class\n",
        "        return x\n"
      ]
    },
    {
      "cell_type": "markdown",
      "metadata": {
        "id": "g_HeEwK3Ze4b"
      },
      "source": [
        "<div class=\"alert alert-success\">\n",
        "<b>Task 5a.</b> What is an activation function? Why do you think we need an activation function in a deep neural network? Give some examples of activation functions. </div>"
      ]
    },
    {
      "cell_type": "markdown",
      "metadata": {
        "id": "HvEzFFjvZ7A6"
      },
      "source": [
        "<details>\n",
        "<summary> <mark> Solution: </mark> </summary>\n",
        "\n",
        "An activation function is a non-linear function applied to the output of each neuron in a deep neural network. It transforms the linear combination of inputs and weights into a non-linear representation, which allows the neural network to learn non-linear relationships in the data.\n",
        "\n",
        "Examples: Sigmoid, ReLU, Tanh, Leaky ReLU, etc.\n",
        "</details>"
      ]
    },
    {
      "cell_type": "markdown",
      "metadata": {
        "id": "BQp7tylvZDET"
      },
      "source": [
        "Next, we will initialize the `DNN` model and define the loss function and optimizer. The loss function is used to measure whether the model is doing a good job of learning the training data. It is then averaged over every sample in the training set.\n",
        "\n",
        "Now that we have a way to measure how well the model works, we need a way to improve it. We want to search for parameter values that minimize the average loss over the training set in each step, for this, we need an optimizer.  The learning rate `lr` determines how much the parameters change on each step.  "
      ]
    },
    {
      "cell_type": "code",
      "execution_count": null,
      "metadata": {
        "id": "M4i2VSafr3Fu"
      },
      "outputs": [],
      "source": [
        "# Initialize the model, loss function, and optimizer\n",
        "model = DNN()\n",
        "criterion = nn.CrossEntropyLoss() # Use cross entropy loss for binary classification\n",
        "optimizer = torch.optim.Adam(model.parameters(), lr=0.001) # Use Adam optimizer"
      ]
    },
    {
      "cell_type": "markdown",
      "metadata": {
        "id": "5K_OKND8cIwm"
      },
      "source": [
        "Let's see the number of parameters that are present in the simple DNN we defined above."
      ]
    },
    {
      "cell_type": "code",
      "execution_count": null,
      "metadata": {
        "id": "L6aipxWKwLhY"
      },
      "outputs": [],
      "source": [
        "summary(model)"
      ]
    },
    {
      "cell_type": "markdown",
      "metadata": {
        "id": "ChhrKWpGctdV"
      },
      "source": [
        "### 5.2. Training the DNN model\n",
        "Now let's start training the DNN model. We will train this model over 50 epochs and save the training loss and validation loss to monitor the model performance."
      ]
    },
    {
      "cell_type": "code",
      "execution_count": null,
      "metadata": {
        "id": "mCkrQmsEstEX"
      },
      "outputs": [],
      "source": [
        "train_loss = []\n",
        "val_loss = []\n",
        "num_epochs = 50\n",
        "\n",
        "for epoch in range(num_epochs):\n",
        "    running_loss = 0.0\n",
        "    for i, data in enumerate(trainloader, 0):\n",
        "        inputs, labels = data\n",
        "        optimizer.zero_grad()\n",
        "        outputs = model(inputs)\n",
        "        loss = criterion(outputs, labels.long())\n",
        "        loss.backward()\n",
        "        optimizer.step()\n",
        "        running_loss += loss.item()\n",
        "\n",
        "    avg_train_loss = running_loss / len(trainloader)\n",
        "    train_loss.append(avg_train_loss)\n",
        "\n",
        "    val_running_loss = 0.0\n",
        "    with torch.no_grad():\n",
        "        for i, data in enumerate(valloader, 0):\n",
        "            inputs, labels = data\n",
        "            outputs = model(inputs)\n",
        "            val_batch_loss = criterion(outputs, labels.long())\n",
        "            val_running_loss += val_batch_loss.item()\n",
        "\n",
        "    avg_val_loss = val_running_loss / len(valloader)\n",
        "    val_loss.append(avg_val_loss)\n"
      ]
    },
    {
      "cell_type": "markdown",
      "metadata": {
        "id": "qupdjTuVdG5Y"
      },
      "source": [
        "**Training loss** and **validation loss** are metrics used in deep learning to evaluate the performance of a model during training.\n",
        "\n",
        "Training loss measures the error between the predicted output and the true output on the training data. It helps to determine how well the model is learning from the training data and whether it is overfitting or underfitting. If the training loss is decreasing, it means the model is learning and improving.\n",
        "\n",
        "Validation loss, on the other hand, measures the error between the predicted output and the true output on a validation dataset, which is separate from the training data. The validation loss provides an estimate of the model's generalization ability, that is, its ability to perform well on new, unseen data. A high validation loss indicates overfitting to the training data, which means the model is not generalizing well to new data.\n",
        "\n",
        "In general, monitoring both the training loss and the validation loss is important for guiding the training process and selecting a well-performing model. Let's see how the `DNN` model learned over 50 epochs."
      ]
    },
    {
      "cell_type": "code",
      "execution_count": null,
      "metadata": {
        "id": "K-Oaj2pmD115"
      },
      "outputs": [],
      "source": [
        "# Plot the training and validation loss\n",
        "plt.plot(range(num_epochs), train_loss, label='Training Loss')\n",
        "plt.plot(range(num_epochs), val_loss, label='Validation Loss')\n",
        "plt.xlabel('Epochs')\n",
        "plt.ylabel('Loss')\n",
        "plt.legend()\n",
        "plt.show()"
      ]
    },
    {
      "cell_type": "markdown",
      "metadata": {
        "id": "7Fqd7GuBeUbR"
      },
      "source": [
        "<div class=\"alert alert-success\">\n",
        "<b>Task 5b.</b> From the above plot, what do you think about the model's learning over 50 epochs? </div>"
      ]
    },
    {
      "cell_type": "markdown",
      "metadata": {
        "id": "gfM4eQOgdxM3"
      },
      "source": [
        "### 5.3. Testing the DNN model\n",
        "\n",
        "Model testing is an important step after training a machine learning model because it provides an estimate of how well the model is likely to perform on unseen data. This is important because a model that performs well on the training data may not necessarily perform well on unseen data, which can result in poor performance and unreliable results. Testing helps to identify overfitting, which occurs when a model is too complex and has learned the training data too well, causing it to perform poorly on new data. Model testing also helps to estimate the generalization error, which is a measure of how well the model is expected to perform on unseen data. By testing the model, we can evaluate its performance and identify any areas where the model needs improvement."
      ]
    },
    {
      "cell_type": "code",
      "execution_count": null,
      "metadata": {
        "id": "eFOR5i6PwhrX"
      },
      "outputs": [],
      "source": [
        "# Test the model on the test data\n",
        "correct = 0\n",
        "total = 0\n",
        "predictions = []\n",
        "true_labels = []\n",
        "with torch.no_grad():\n",
        "    for i, data in enumerate(testloader, 0):\n",
        "        inputs, target = data\n",
        "        outputs = model(inputs)\n",
        "        _, predicted = torch.max(outputs.data, 1) # Get the class with the highest probability\n",
        "        total += target.size(0)\n",
        "        correct += (predicted == target.long()).sum().item() # Convert target to long and compare\n",
        "        predictions += predicted.tolist()\n",
        "        true_labels += target.tolist()"
      ]
    },
    {
      "cell_type": "markdown",
      "metadata": {
        "id": "bb9dk2TvePI4"
      },
      "source": [
        "<div class=\"alert alert-success\">\n",
        "<b>Task 5c.</b> We have calculated above the correct predictions. Can you print the accuracy of the model in % on test data using the variables defined above? </div>"
      ]
    },
    {
      "cell_type": "markdown",
      "metadata": {
        "id": "twBTv55Ne2Zb"
      },
      "source": [
        "<details>\n",
        "<summary> <mark> Solution: </mark> </summary>\n",
        "\n",
        "\n",
        "```Python\n",
        "accuracy = correct / total\n",
        "print(f'Accuracy of the network on the test data: {(100 * accuracy):.2f}%'))\n",
        "```\n",
        "\n",
        "\n",
        "\n",
        "</details>"
      ]
    },
    {
      "cell_type": "markdown",
      "metadata": {
        "id": "1h-3DycVfTbj"
      },
      "source": [
        "Let's define a confusion matrix. It is a plot that is used to evaluate the performance of a classification algorithm. It displays the number of correct and incorrect predictions made by the algorithm in a tabular format. The matrix is used to determine the true positive rate, false positive rate, accuracy, precision, and recall, which are all metrics that help in evaluating the performance of the classifier."
      ]
    },
    {
      "cell_type": "code",
      "execution_count": null,
      "metadata": {
        "id": "7YaPRbax3-tZ"
      },
      "outputs": [],
      "source": [
        "# Plot confusion matrix\n",
        "cf_matrix= confusion_matrix(true_labels, predictions)\n",
        "group_names = ['True Neg','False Pos','False Neg','True Pos']\n",
        "group_counts = [\"{0:0.0f}\".format(value) for value in\n",
        "                cf_matrix.flatten()]\n",
        "group_percentages = [\"{0:.2%}\".format(value) for value in\n",
        "                     cf_matrix.flatten()/np.sum(cf_matrix)]\n",
        "labels = [f\"{v1}\\n{v2}\\n{v3}\" for v1, v2, v3 in\n",
        "          zip(group_names,group_counts,group_percentages)]\n",
        "labels = np.asarray(labels).reshape(2,2)\n",
        "sns.heatmap(cf_matrix, annot=labels, fmt='', cmap='Blues')"
      ]
    },
    {
      "cell_type": "markdown",
      "metadata": {
        "id": "FXtlcc44gCFX"
      },
      "source": [
        "<div class=\"alert alert-success\">\n",
        "<b>Task 5d.</b> From the confusion matrix comment on the performance on the test set. Do you think the model is underfitting or overfitting?</div>"
      ]
    },
    {
      "cell_type": "code",
      "execution_count": null,
      "metadata": {
        "id": "aTob39UY6_sI"
      },
      "outputs": [],
      "source": [
        "## Your solution here:\n"
      ]
    },
    {
      "cell_type": "markdown",
      "metadata": {
        "id": "RGv9oRRu6_sJ"
      },
      "source": [
        "Receiver Operator Characteristic (ROC) curves are a good way to assess how good your binary classifier is versus random guessing.\n",
        "Take a look [here](https://dmol.pub/ml/classification.html#receiver-operating-characteristic-curve) for more information on ROC curves. And here is some information on how to compute these with [scikit-learn](https://scikit-learn.org/stable/auto_examples/model_selection/plot_roc.html).  "
      ]
    },
    {
      "cell_type": "markdown",
      "metadata": {
        "id": "Ak4P9KcBfkYl"
      },
      "source": [
        "<div class=\"alert alert-success\">\n",
        "<b>Task 5e.</b> Plot an ROC curve from <code>sklearn</code> using true_labels and predictions defined above.</div>"
      ]
    },
    {
      "cell_type": "code",
      "execution_count": null,
      "metadata": {
        "id": "tg2tFa0G6_sJ"
      },
      "outputs": [],
      "source": [
        "## Your solution here:\n"
      ]
    },
    {
      "cell_type": "markdown",
      "metadata": {
        "id": "_mOqC-OM6_sK"
      },
      "source": [
        "<details>\n",
        "<summary> <mark> Solution: </mark> </summary>\n",
        "\n",
        "```Python\n",
        "# Plot ROC curve\n",
        "fpr, tpr, thresholds = roc_curve(true_labels, predictions)\n",
        "roc_auc = auc(fpr, tpr)\n",
        "plt.plot(fpr, tpr, label='ROC curve (area = %0.2f)' % roc_auc)\n",
        "plt.plot([0, 1], [0, 1], 'k--') # random predictions curve\n",
        "plt.xlim([0.0, 1.0])\n",
        "plt.ylim([0.0, 1.0])\n",
        "plt.xlabel('False Positive Rate or (1 - Specifity)')\n",
        "plt.ylabel('True Positive Rate or (Sensitivity)')\n",
        "plt.title('Receiver Operating Characteristic')\n",
        "plt.legend(loc=\"lower right\")\n",
        "plt.show()\n",
        "```\n",
        "</details>"
      ]
    },
    {
      "cell_type": "markdown",
      "metadata": {
        "id": "WKfqSIxpUcBz"
      },
      "source": [
        "### 5.4. Modelling choices and Hyperparameter Optimization\n",
        "\n",
        "By now you have probably noticed that there are a lot of choices to make, even when using a supposedly simple DL model with a “generic” learning algorithm. Examples include:\n",
        "- The number of layers in the model\n",
        "- The loss function\n",
        "- The number of training steps to perform\n",
        "- The learning rate to use during *training*\n",
        "\n"
      ]
    },
    {
      "cell_type": "markdown",
      "metadata": {
        "id": "bSkmYPgUgluI"
      },
      "source": [
        "<div class=\"alert alert-success\">\n",
        "<b>Task 5f.</b> Using the code above retrain a new DNN model with differnt learning rates for example 0.1 and 0.0001. Compare the performances of these models. Plot confusion matrices for both these learning rates and comment on the model fits.</div>"
      ]
    },
    {
      "cell_type": "code",
      "execution_count": null,
      "metadata": {
        "id": "oefB1q2g6_sP"
      },
      "outputs": [],
      "source": [
        "# Your solution here:\n"
      ]
    },
    {
      "cell_type": "markdown",
      "metadata": {
        "id": "xLc4fr7ZhWLz"
      },
      "source": [
        "<div class=\"alert alert-success\">\n",
        "<b>Task 5g.</b> Using the code above retrain a new DNN model for 100 and 200 epochs. Does this help in model's learning? Plot confusion matrices for both these epoch settings and comment on the model fits.</div>"
      ]
    },
    {
      "cell_type": "code",
      "execution_count": null,
      "metadata": {
        "id": "CmdjlF9WhVHC"
      },
      "outputs": [],
      "source": [
        "# Your solution here:\n"
      ]
    },
    {
      "cell_type": "markdown",
      "metadata": {
        "id": "hsURtvCzg5iR"
      },
      "source": [
        "<div class=\"alert alert-success\">\n",
        "<b>Task 5h.</b> Using the code above define a new DNN model architecture called `DNN_new` with 3 layers. Plot confusion matrices for the new model.</div>"
      ]
    },
    {
      "cell_type": "code",
      "execution_count": null,
      "metadata": {
        "id": "wewIa2V_6_sS"
      },
      "outputs": [],
      "source": []
    },
    {
      "cell_type": "markdown",
      "metadata": {
        "id": "BJuUdbch6_sS"
      },
      "source": [
        "## 6. Extra Topic: Convolutional Neural Networks\n",
        "\n",
        "We define a new Deep Learning variant called **1D Convolutional Neural Network (CNN)** below.\n",
        "CNN is a type of deep learning model that is typically used for image and signal processing tasks.\n",
        "\n",
        "In this code, the model takes a 1D input signal of length 1024 and performs a series of convolution, pooling and fully connected operations to classify the signal into one of two classes. The `conv1` and `conv2` layers are 1D convolutional layers that apply filters to the input signal to extract features. The `pool1` and `pool2` layers are max-pooling layers that down-sample the input signal. The `fc1` and `fc2` layers are fully connected layers that perform classification based on the extracted features. The `softmax` activation is applied to the output to produce probabilities for each class. This gives us the classification into soluble and insoluble molecules.\n",
        "\n",
        "The steps are similar to DNN model."
      ]
    },
    {
      "cell_type": "code",
      "execution_count": null,
      "metadata": {
        "id": "66QCsf3I6_sT"
      },
      "outputs": [],
      "source": [
        "# Define the 1D CNN model\n",
        "class CNN1D(nn.Module):\n",
        "    def __init__(self):\n",
        "        super(CNN1D, self).__init__()\n",
        "        self.conv1 = nn.Conv1d(in_channels=1, out_channels=16, kernel_size=3, stride=1, padding=1)\n",
        "        self.pool1 = nn.MaxPool1d(kernel_size=2, stride=2)\n",
        "        self.conv2 = nn.Conv1d(in_channels=16, out_channels=32, kernel_size=3, stride=1, padding=1)\n",
        "        self.pool2 = nn.MaxPool1d(kernel_size=2, stride=2)\n",
        "        self.fc1 = nn.Linear(32 * 256, 128)\n",
        "        self.fc2 = nn.Linear(128, 2)\n",
        "        self.softmax = nn.Softmax()\n",
        "\n",
        "    def forward(self, x):\n",
        "        x = x.reshape(-1, 1, 1024)\n",
        "        x = self.pool1(F.relu(self.conv1(x)))\n",
        "        x = self.pool2(F.relu(self.conv2(x)))\n",
        "        x = x.reshape(-1, 32 * 256)\n",
        "        x = F.relu(self.fc1(x))\n",
        "        x = self.fc2(x)\n",
        "        x = self.softmax(x)\n",
        "        return x"
      ]
    },
    {
      "cell_type": "code",
      "execution_count": null,
      "metadata": {
        "id": "KlRGtrE-6_sT"
      },
      "outputs": [],
      "source": [
        "# Initialize the model, loss function, and optimizer\n",
        "model_cnn = CNN1D()\n",
        "criterion = nn.CrossEntropyLoss()\n",
        "optimizer = optim.Adam(model_cnn.parameters(), lr=0.001)"
      ]
    },
    {
      "cell_type": "code",
      "execution_count": null,
      "metadata": {
        "id": "YU7Z3lIc6_sU"
      },
      "outputs": [],
      "source": [
        "summary(model_cnn)"
      ]
    },
    {
      "cell_type": "code",
      "execution_count": null,
      "metadata": {
        "id": "UDSwC2Ds6_sV"
      },
      "outputs": [],
      "source": [
        "# Train the CNN model and keep track of validation loss\n",
        "train_loss1 = []\n",
        "val_loss1 = []\n",
        "num_epochs = 50\n",
        "\n",
        "for epoch in range(num_epochs):\n",
        "    running_loss = 0.0\n",
        "    for i, data in enumerate(trainloader, 0):\n",
        "        inputs, labels = data\n",
        "        optimizer.zero_grad()\n",
        "        outputs = model_cnn(inputs)\n",
        "\n",
        "        loss = criterion(outputs, labels.long())\n",
        "        loss.backward()\n",
        "        optimizer.step()\n",
        "        running_loss += loss.item()\n",
        "\n",
        "    avg_train_loss = running_loss / len(trainloader)\n",
        "    train_loss1.append(avg_train_loss)\n",
        "\n",
        "    val_running_loss = 0.0\n",
        "    with torch.no_grad():\n",
        "        for i, data in enumerate(valloader, 0):\n",
        "            inputs, labels = data\n",
        "            outputs = model_cnn(inputs)\n",
        "\n",
        "            val_batch_loss = criterion(outputs, labels.long())\n",
        "            val_running_loss += val_batch_loss.item()\n",
        "\n",
        "    avg_val_loss = val_running_loss / len(valloader)\n",
        "    val_loss1.append(avg_val_loss)"
      ]
    },
    {
      "cell_type": "code",
      "execution_count": null,
      "metadata": {
        "id": "eChP-OMe6_sW"
      },
      "outputs": [],
      "source": [
        "# Plot the validation loss\n",
        "plt.plot(range(num_epochs), train_loss1, label='Training Loss')\n",
        "plt.plot(range(num_epochs), val_loss1, label='Validation Loss')\n",
        "plt.xlabel('Epochs')\n",
        "plt.ylabel('Loss')\n",
        "plt.legend()\n",
        "plt.show()"
      ]
    },
    {
      "cell_type": "markdown",
      "metadata": {
        "id": "eb97SW5L6_sW"
      },
      "source": [
        "<div class=\"alert alert-success\">\n",
        "<b>Task 6a.</b> From the above plot, what do you think about the CNN model's learning over 50 epochs. Compare its performance with DNN. </div>"
      ]
    },
    {
      "cell_type": "code",
      "execution_count": null,
      "metadata": {
        "id": "Iay4O6g06_sX"
      },
      "outputs": [],
      "source": [
        "# Test the model on the test data\n",
        "correct = 0\n",
        "total = 0\n",
        "predictions = []\n",
        "true_labels = []\n",
        "with torch.no_grad():\n",
        "    for i, data in enumerate(testloader, 0):\n",
        "        inputs, target = data\n",
        "        outputs = model_cnn(inputs)\n",
        "        _, predicted = torch.max(outputs.data, 1) # Get the class with the highest probability\n",
        "        total += target.size(0)\n",
        "        correct += (predicted == target.long()).sum().item() # Convert target to long and compare\n",
        "        predictions += predicted.tolist()\n",
        "        true_labels += target.tolist()"
      ]
    },
    {
      "cell_type": "code",
      "execution_count": null,
      "metadata": {
        "id": "-74CjFH16_sX"
      },
      "outputs": [],
      "source": [
        "accuracy = correct / total\n",
        "print(f'Accuracy of the network on the test data: {(100 * accuracy):.2f} %' )"
      ]
    },
    {
      "cell_type": "code",
      "execution_count": null,
      "metadata": {
        "id": "JAWw0iem6_sY"
      },
      "outputs": [],
      "source": [
        "# Plot confusion matrix\n",
        "cf_matrix= confusion_matrix(true_labels, predictions)\n",
        "group_names = ['True Neg','False Pos','False Neg','True Pos']\n",
        "group_counts = [\"{0:0.0f}\".format(value) for value in\n",
        "                cf_matrix.flatten()]\n",
        "group_percentages = [\"{0:.2%}\".format(value) for value in\n",
        "                     cf_matrix.flatten()/np.sum(cf_matrix)]\n",
        "labels = [f\"{v1}\\n{v2}\\n{v3}\" for v1, v2, v3 in\n",
        "          zip(group_names,group_counts,group_percentages)]\n",
        "labels = np.asarray(labels).reshape(2,2)\n",
        "sns.heatmap(cf_matrix, annot=labels, fmt='', cmap='Blues')"
      ]
    },
    {
      "cell_type": "markdown",
      "metadata": {
        "id": "8bbTd06o6_sZ"
      },
      "source": [
        "<div class=\"alert alert-success\">\n",
        "<b>Task 6b.</b> Is there a change in true positive, false positive and false negative rates as compared to the DNN model? </div>"
      ]
    },
    {
      "cell_type": "markdown",
      "metadata": {
        "id": "rN26SZKH6_sc"
      },
      "source": [
        "## END\n",
        "----------"
      ]
    }
  ],
  "metadata": {
    "accelerator": "GPU",
    "colab": {
      "provenance": []
    },
    "gpuClass": "standard",
    "kernelspec": {
      "display_name": "Python 3 (ipykernel)",
      "language": "python",
      "name": "python3"
    },
    "language_info": {
      "codemirror_mode": {
        "name": "ipython",
        "version": 3
      },
      "file_extension": ".py",
      "mimetype": "text/x-python",
      "name": "python",
      "nbconvert_exporter": "python",
      "pygments_lexer": "ipython3",
      "version": "3.12.5"
    }
  },
  "nbformat": 4,
  "nbformat_minor": 0
}