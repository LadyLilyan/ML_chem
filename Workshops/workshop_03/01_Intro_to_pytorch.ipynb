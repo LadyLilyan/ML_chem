{
  "cells": [
    {
      "cell_type": "markdown",
      "id": "73a72cab",
      "metadata": {
        "id": "73a72cab"
      },
      "source": [
        "# Getting Started with PyTorch\n",
        "    \n",
        "<a rel=\"license\" href=\"https://creativecommons.org/licenses/by/4.0/\"><img alt=\"Creative Commons Licence\" style=\"width=50\" src=\"https://licensebuttons.net/l/by/4.0/88x31.png\" title='This work is licensed under a Creative Commons Attribution 4.0 International License.' align=\"right\"/></a>\n",
        "\n",
        "**Authors**:\n",
        "- Dr Antonia Mey (antonia.mey@ed.ac.uk)\n",
        "- Katerina Karoni\n",
        "\n",
        "Some content was also adapted from the [scikit-learn](https://scikit-learn.org/stable/auto_examples/index.html) and [pytorch](https://pytorch.org/tutorials/beginner/pytorch_with_examples.html) documentation and examples."
      ]
    },
    {
      "cell_type": "markdown",
      "id": "c96047d0",
      "metadata": {
        "id": "c96047d0"
      },
      "source": [
        "**Learning Objectives**:\n",
        "* Getting familiar with some PyTorch basics:\n",
        "    * What is a tensor\n",
        "    * How to build a dataset\n",
        "    * How to build a neural network\n",
        "    * Choosing an optimiser\n",
        "    * Testing and training a neural network"
      ]
    },
    {
      "cell_type": "markdown",
      "id": "f33497e6",
      "metadata": {
        "id": "f33497e6"
      },
      "source": [
        "**Jupyter cheat sheet**:\n",
        "* to run the currently highlighted cell, hold <kbd>&#x21E7; Shift</kbd> and press <kbd>&#x23ce; Enter</kbd>;\n",
        "* to get help for a specific function, place the cursor within the function's brackets, hold <kbd>&#x21E7; Shift</kbd>, and press <kbd>&#x21E5; Tab</kbd>;"
      ]
    },
    {
      "cell_type": "markdown",
      "id": "2e97feb8",
      "metadata": {
        "id": "2e97feb8"
      },
      "source": [
        "## PyTorch Overview"
      ]
    },
    {
      "cell_type": "markdown",
      "id": "ba58247d",
      "metadata": {
        "id": "ba58247d"
      },
      "source": [
        "PyTorch is a Python framework that provides two high-level features:\n",
        "\n",
        "    Tensor computation (like NumPy) with strong GPU acceleration\n",
        "    Deep neural networks built on a autograd system\n",
        "\n",
        "You can reuse your favorite Python packages such as NumPy to extend PyTorch when needed."
      ]
    },
    {
      "cell_type": "markdown",
      "id": "b5215a1b",
      "metadata": {
        "id": "b5215a1b"
      },
      "source": [
        "**<h2>Pytorch Installation**"
      ]
    },
    {
      "cell_type": "markdown",
      "id": "c0317ce5",
      "metadata": {
        "id": "c0317ce5"
      },
      "source": [
        "So far we have only used scikit-learn. Today we will be using PyTorch. If you wanted to install it locally then use the command below:"
      ]
    },
    {
      "cell_type": "markdown",
      "id": "c46f601b",
      "metadata": {
        "id": "c46f601b"
      },
      "source": [
        "```conda install pytorch torchvision -c pytorch```"
      ]
    },
    {
      "cell_type": "markdown",
      "id": "6dff5d68",
      "metadata": {
        "id": "6dff5d68"
      },
      "source": [
        "For more information on the installation please check out: https://pytorch.org/get-started/locally/"
      ]
    },
    {
      "cell_type": "markdown",
      "id": "22931231",
      "metadata": {
        "id": "22931231"
      },
      "source": [
        "⚠️ If you want to make use of the GPUs on Colab we should use the Colab version of today's notebook!"
      ]
    },
    {
      "cell_type": "markdown",
      "id": "c4cb3391",
      "metadata": {
        "id": "c4cb3391"
      },
      "source": [
        "## Google Colab package installs\n",
        "\n",
        "<div class=\"alert alert-warning\">\n",
        "The following cell install necessary packages and downloads data if you are running this tutorial using Google Colab.<br>\n",
        "<b><i>Run this cell only if you are using Google Colab!</i></b></div>"
      ]
    },
    {
      "cell_type": "code",
      "execution_count": 1,
      "id": "bab3c3e6-3556-47ee-b299-4fa31aa736fb",
      "metadata": {
        "id": "bab3c3e6-3556-47ee-b299-4fa31aa736fb",
        "outputId": "ed73ba14-a2c0-42b3-8ca6-beb4d0db7aa9",
        "colab": {
          "base_uri": "https://localhost:8080/"
        }
      },
      "outputs": [
        {
          "output_type": "stream",
          "name": "stdout",
          "text": [
            "Cloning into 'ATCP-ML-workshop'...\n",
            "remote: Enumerating objects: 164, done.\u001b[K\n",
            "remote: Counting objects: 100% (50/50), done.\u001b[K\n",
            "remote: Compressing objects: 100% (42/42), done.\u001b[K\n",
            "remote: Total 164 (delta 24), reused 26 (delta 8), pack-reused 114 (from 1)\u001b[K\n",
            "Receiving objects: 100% (164/164), 109.19 MiB | 9.65 MiB/s, done.\n",
            "Resolving deltas: 100% (68/68), done.\n",
            "Updating files: 100% (36/36), done.\n"
          ]
        }
      ],
      "source": [
        "!if [ -n \"$COLAB_RELEASE_TAG\" ]; then git clone https://github.com/Edinburgh-Chemistry-Teaching/ATCP-ML-workshop; fi\n",
        "import os\n",
        "os.chdir(f\"ATCP-ML-workshop{os.sep}Workshops{os.sep}workshop_03\")"
      ]
    },
    {
      "cell_type": "markdown",
      "id": "ecc9bed8",
      "metadata": {
        "id": "ecc9bed8"
      },
      "source": [
        "## Imports"
      ]
    },
    {
      "cell_type": "code",
      "execution_count": 2,
      "id": "cf7db7eb",
      "metadata": {
        "id": "cf7db7eb"
      },
      "outputs": [],
      "source": [
        "import torch"
      ]
    },
    {
      "cell_type": "markdown",
      "id": "53553e38",
      "metadata": {
        "id": "53553e38"
      },
      "source": [
        "## Tensors\n",
        "\n",
        "A PyTorch Tensor is basically the same as a numpy array: it does not know anything about deep learning or computational graphs or gradients, and is just a generic n-dimensional array to be used for arbitrary numeric computation.\n",
        "\n",
        "The biggest difference between a numpy array and a PyTorch Tensor is that a PyTorch Tensor can run on either **CPU** or **GPU**. To run operations on the GPU, just cast the Tensor to a `cuda datatype`."
      ]
    },
    {
      "cell_type": "code",
      "execution_count": 3,
      "id": "56430451",
      "metadata": {
        "id": "56430451",
        "outputId": "7e3b9eab-701a-40b3-f05d-e5ddc12bcab0",
        "colab": {
          "base_uri": "https://localhost:8080/"
        }
      },
      "outputs": [
        {
          "output_type": "stream",
          "name": "stdout",
          "text": [
            "x = tensor([[1., 2., 3.],\n",
            "        [4., 5., 6.]])\n",
            "Size of x = torch.Size([2, 3])\n",
            "Data type of x = torch.float32\n"
          ]
        }
      ],
      "source": [
        "x = torch.Tensor([[1,2,3],[4,5,6]])\n",
        "\n",
        "print(f'x = {x}')\n",
        "\n",
        "print(f'Size of x = {x.size()}') # np.shape(x) also works\n",
        "\n",
        "print(f'Data type of x = {x.dtype}')"
      ]
    },
    {
      "cell_type": "code",
      "execution_count": 4,
      "id": "56ea112e",
      "metadata": {
        "id": "56ea112e",
        "outputId": "8074204d-22fc-4b00-c25f-d9b681d4ba54",
        "colab": {
          "base_uri": "https://localhost:8080/"
        }
      },
      "outputs": [
        {
          "output_type": "stream",
          "name": "stdout",
          "text": [
            "y = tensor([[0., 0., 0.],\n",
            "        [0., 0., 0.]])\n",
            "Data type of y = torch.float32\n"
          ]
        }
      ],
      "source": [
        "# we can also specify data type\n",
        "\n",
        "y = torch.zeros(2,3,dtype=torch.float32)\n",
        "\n",
        "print(f'y = {y}')\n",
        "\n",
        "print(f'Data type of y = {y.dtype}')"
      ]
    },
    {
      "cell_type": "markdown",
      "id": "d271cf66",
      "metadata": {
        "id": "d271cf66"
      },
      "source": [
        "**Casting tensor x as CUDA datatype if CUDA available**"
      ]
    },
    {
      "cell_type": "code",
      "execution_count": 5,
      "id": "06c07389",
      "metadata": {
        "id": "06c07389"
      },
      "outputs": [],
      "source": [
        "device = torch.device('cuda' if torch.cuda.is_available() else 'cpu')"
      ]
    },
    {
      "cell_type": "markdown",
      "id": "c42b80cf",
      "metadata": {
        "id": "c42b80cf"
      },
      "source": [
        "Attention: ```x.to(device)``` will not cast ```x```as cuda datatype - we need\n",
        "```x = x.to(device)```"
      ]
    },
    {
      "cell_type": "code",
      "execution_count": 6,
      "id": "100e3d99",
      "metadata": {
        "scrolled": true,
        "id": "100e3d99",
        "outputId": "05b3abbf-9524-42e2-abd4-289b6f023cda",
        "colab": {
          "base_uri": "https://localhost:8080/"
        }
      },
      "outputs": [
        {
          "output_type": "stream",
          "name": "stdout",
          "text": [
            "False\n"
          ]
        }
      ],
      "source": [
        "y = x.to(device) # or x = x.cuda() for GPU\n",
        "print(x.is_cuda)"
      ]
    },
    {
      "cell_type": "markdown",
      "id": "4ee1ebc0",
      "metadata": {
        "id": "4ee1ebc0"
      },
      "source": [
        "Note: For tensors ```x.to(device)```, as mentioned does not move ```x``` to cuda and we need to write ```x = x.to(device)``` instead.\n",
        "\n",
        "However, for neural networks, ```net.to(device)``` and\n",
        "```net = net.to(device)``` are equivalent.\n"
      ]
    },
    {
      "cell_type": "markdown",
      "id": "2f6f5254",
      "metadata": {
        "id": "2f6f5254"
      },
      "source": [
        "**Tensor Data types**"
      ]
    },
    {
      "cell_type": "markdown",
      "id": "ad495d27",
      "metadata": {
        "id": "ad495d27"
      },
      "source": [
        "```DoubleTensor``` is ```64-bit``` floating point and ```FloatTensor``` is ```32-bit``` floating point tensor. So a ```FloatTensor``` uses half of the memory as a same tensor-size ```DoubleTensor``` uses. Also GPU and CPU computations with lower precision are much faster.  However, if high precision is needed, go for ```DoubleTensor``` . So Pytorch leaves it to user to choose which one to use."
      ]
    },
    {
      "cell_type": "markdown",
      "id": "3dd5458a",
      "metadata": {
        "id": "3dd5458a"
      },
      "source": [
        "Set default tensor type for your notebook"
      ]
    },
    {
      "cell_type": "code",
      "execution_count": 7,
      "id": "009acf51",
      "metadata": {
        "id": "009acf51"
      },
      "outputs": [],
      "source": [
        "#torch.set_default_dtype(torch.float32)    # 32 bits\n",
        "#or\n",
        "torch.set_default_dtype(torch.float64)    # 64 bits"
      ]
    },
    {
      "cell_type": "code",
      "execution_count": 8,
      "id": "1576f635",
      "metadata": {
        "id": "1576f635",
        "outputId": "f7b4c1dc-707a-4623-a13c-4a0f7f4dafbf",
        "colab": {
          "base_uri": "https://localhost:8080/"
        }
      },
      "outputs": [
        {
          "output_type": "stream",
          "name": "stdout",
          "text": [
            "tensor([[0., 0., 0.],\n",
            "        [0., 0., 0.]])\n",
            "torch.float64\n"
          ]
        }
      ],
      "source": [
        "x = torch.zeros(2,3)\n",
        "print(x)\n",
        "print(x.dtype)"
      ]
    },
    {
      "cell_type": "markdown",
      "id": "037decaa",
      "metadata": {
        "id": "037decaa"
      },
      "source": [
        "## Show case: Components needed to run a classification with a neural network"
      ]
    },
    {
      "cell_type": "markdown",
      "id": "63c4bfe2",
      "metadata": {
        "id": "63c4bfe2"
      },
      "source": [
        "We will now present an example where we train a fully-connected neural network on a popular benchmark dataset: MNIST handwritten digits.\n",
        "\n",
        "The MNIST had-written digits dataset consists of 60,000 training examples and 10,000 test examples. Each example comprises a 8×8 image and an associated label from one of 10 classes."
      ]
    },
    {
      "cell_type": "code",
      "execution_count": 9,
      "id": "b37a757d",
      "metadata": {
        "id": "b37a757d"
      },
      "outputs": [],
      "source": [
        "# Imports\n",
        "from sklearn import datasets\n",
        "from torch.utils.data import DataLoader, TensorDataset\n",
        "import numpy as np\n",
        "import matplotlib.pyplot as plt"
      ]
    },
    {
      "cell_type": "markdown",
      "id": "a413d6d9",
      "metadata": {
        "id": "a413d6d9"
      },
      "source": [
        "### Loading data"
      ]
    },
    {
      "cell_type": "markdown",
      "id": "557735be",
      "metadata": {
        "id": "557735be"
      },
      "source": [
        "The ```torchvision``` library consists of popular datasets, model architectures, and common image transformations for computer vision. Since we have been using `scikit learn` we will use this data set in the example here:"
      ]
    },
    {
      "cell_type": "code",
      "execution_count": 10,
      "id": "059ffd73",
      "metadata": {
        "id": "059ffd73"
      },
      "outputs": [],
      "source": [
        "from sklearn import datasets"
      ]
    },
    {
      "cell_type": "code",
      "execution_count": 11,
      "id": "f7020ad9",
      "metadata": {
        "id": "f7020ad9",
        "outputId": "2f443994-abb3-4562-9308-12399acd8c1c",
        "colab": {
          "base_uri": "https://localhost:8080/",
          "height": 227
        }
      },
      "outputs": [
        {
          "output_type": "display_data",
          "data": {
            "text/plain": [
              "<Figure size 1000x300 with 4 Axes>"
            ],
            "image/png": "[encoded data removed]"
          },
          "metadata": {}
        }
      ],
      "source": [
        "digits = datasets.load_digits()\n",
        "_, axes = plt.subplots(nrows=1, ncols=4, figsize=(10, 3))\n",
        "for ax, image, label in zip(axes, digits.images, digits.target):\n",
        "    ax.set_axis_off()\n",
        "    ax.imshow(image, cmap=plt.cm.gray_r, interpolation=\"nearest\")\n",
        "    ax.set_title(\"Training: %i\" % label)"
      ]
    },
    {
      "cell_type": "code",
      "execution_count": 12,
      "id": "12249f62",
      "metadata": {
        "id": "12249f62",
        "outputId": "adc3c57c-5525-4c84-f924-5205357affa2",
        "colab": {
          "base_uri": "https://localhost:8080/"
        }
      },
      "outputs": [
        {
          "output_type": "execute_result",
          "data": {
            "text/plain": [
              "{'data': array([[ 0.,  0.,  5., ...,  0.,  0.,  0.],\n",
              "        [ 0.,  0.,  0., ..., 10.,  0.,  0.],\n",
              "        [ 0.,  0.,  0., ..., 16.,  9.,  0.],\n",
              "        ...,\n",
              "        [ 0.,  0.,  1., ...,  6.,  0.,  0.],\n",
              "        [ 0.,  0.,  2., ..., 12.,  0.,  0.],\n",
              "        [ 0.,  0., 10., ..., 12.,  1.,  0.]]),\n",
              " 'target': array([0, 1, 2, ..., 8, 9, 8]),\n",
              " 'frame': None,\n",
              " 'feature_names': ['pixel_0_0',\n",
              "  'pixel_0_1',\n",
              "  'pixel_0_2',\n",
              "  'pixel_0_3',\n",
              "  'pixel_0_4',\n",
              "  'pixel_0_5',\n",
              "  'pixel_0_6',\n",
              "  'pixel_0_7',\n",
              "  'pixel_1_0',\n",
              "  'pixel_1_1',\n",
              "  'pixel_1_2',\n",
              "  'pixel_1_3',\n",
              "  'pixel_1_4',\n",
              "  'pixel_1_5',\n",
              "  'pixel_1_6',\n",
              "  'pixel_1_7',\n",
              "  'pixel_2_0',\n",
              "  'pixel_2_1',\n",
              "  'pixel_2_2',\n",
              "  'pixel_2_3',\n",
              "  'pixel_2_4',\n",
              "  'pixel_2_5',\n",
              "  'pixel_2_6',\n",
              "  'pixel_2_7',\n",
              "  'pixel_3_0',\n",
              "  'pixel_3_1',\n",
              "  'pixel_3_2',\n",
              "  'pixel_3_3',\n",
              "  'pixel_3_4',\n",
              "  'pixel_3_5',\n",
              "  'pixel_3_6',\n",
              "  'pixel_3_7',\n",
              "  'pixel_4_0',\n",
              "  'pixel_4_1',\n",
              "  'pixel_4_2',\n",
              "  'pixel_4_3',\n",
              "  'pixel_4_4',\n",
              "  'pixel_4_5',\n",
              "  'pixel_4_6',\n",
              "  'pixel_4_7',\n",
              "  'pixel_5_0',\n",
              "  'pixel_5_1',\n",
              "  'pixel_5_2',\n",
              "  'pixel_5_3',\n",
              "  'pixel_5_4',\n",
              "  'pixel_5_5',\n",
              "  'pixel_5_6',\n",
              "  'pixel_5_7',\n",
              "  'pixel_6_0',\n",
              "  'pixel_6_1',\n",
              "  'pixel_6_2',\n",
              "  'pixel_6_3',\n",
              "  'pixel_6_4',\n",
              "  'pixel_6_5',\n",
              "  'pixel_6_6',\n",
              "  'pixel_6_7',\n",
              "  'pixel_7_0',\n",
              "  'pixel_7_1',\n",
              "  'pixel_7_2',\n",
              "  'pixel_7_3',\n",
              "  'pixel_7_4',\n",
              "  'pixel_7_5',\n",
              "  'pixel_7_6',\n",
              "  'pixel_7_7'],\n",
              " 'target_names': array([0, 1, 2, 3, 4, 5, 6, 7, 8, 9]),\n",
              " 'images': array([[[ 0.,  0.,  5., ...,  1.,  0.,  0.],\n",
              "         [ 0.,  0., 13., ..., 15.,  5.,  0.],\n",
              "         [ 0.,  3., 15., ..., 11.,  8.,  0.],\n",
              "         ...,\n",
              "         [ 0.,  4., 11., ..., 12.,  7.,  0.],\n",
              "         [ 0.,  2., 14., ..., 12.,  0.,  0.],\n",
              "         [ 0.,  0.,  6., ...,  0.,  0.,  0.]],\n",
              " \n",
              "        [[ 0.,  0.,  0., ...,  5.,  0.,  0.],\n",
              "         [ 0.,  0.,  0., ...,  9.,  0.,  0.],\n",
              "         [ 0.,  0.,  3., ...,  6.,  0.,  0.],\n",
              "         ...,\n",
              "         [ 0.,  0.,  1., ...,  6.,  0.,  0.],\n",
              "         [ 0.,  0.,  1., ...,  6.,  0.,  0.],\n",
              "         [ 0.,  0.,  0., ..., 10.,  0.,  0.]],\n",
              " \n",
              "        [[ 0.,  0.,  0., ..., 12.,  0.,  0.],\n",
              "         [ 0.,  0.,  3., ..., 14.,  0.,  0.],\n",
              "         [ 0.,  0.,  8., ..., 16.,  0.,  0.],\n",
              "         ...,\n",
              "         [ 0.,  9., 16., ...,  0.,  0.,  0.],\n",
              "         [ 0.,  3., 13., ..., 11.,  5.,  0.],\n",
              "         [ 0.,  0.,  0., ..., 16.,  9.,  0.]],\n",
              " \n",
              "        ...,\n",
              " \n",
              "        [[ 0.,  0.,  1., ...,  1.,  0.,  0.],\n",
              "         [ 0.,  0., 13., ...,  2.,  1.,  0.],\n",
              "         [ 0.,  0., 16., ..., 16.,  5.,  0.],\n",
              "         ...,\n",
              "         [ 0.,  0., 16., ..., 15.,  0.,  0.],\n",
              "         [ 0.,  0., 15., ..., 16.,  0.,  0.],\n",
              "         [ 0.,  0.,  2., ...,  6.,  0.,  0.]],\n",
              " \n",
              "        [[ 0.,  0.,  2., ...,  0.,  0.,  0.],\n",
              "         [ 0.,  0., 14., ..., 15.,  1.,  0.],\n",
              "         [ 0.,  4., 16., ..., 16.,  7.,  0.],\n",
              "         ...,\n",
              "         [ 0.,  0.,  0., ..., 16.,  2.,  0.],\n",
              "         [ 0.,  0.,  4., ..., 16.,  2.,  0.],\n",
              "         [ 0.,  0.,  5., ..., 12.,  0.,  0.]],\n",
              " \n",
              "        [[ 0.,  0., 10., ...,  1.,  0.,  0.],\n",
              "         [ 0.,  2., 16., ...,  1.,  0.,  0.],\n",
              "         [ 0.,  0., 15., ..., 15.,  0.,  0.],\n",
              "         ...,\n",
              "         [ 0.,  4., 16., ..., 16.,  6.,  0.],\n",
              "         [ 0.,  8., 16., ..., 16.,  8.,  0.],\n",
              "         [ 0.,  1.,  8., ..., 12.,  1.,  0.]]]),\n",
              " 'DESCR': \".. _digits_dataset:\\n\\nOptical recognition of handwritten digits dataset\\n--------------------------------------------------\\n\\n**Data Set Characteristics:**\\n\\n:Number of Instances: 1797\\n:Number of Attributes: 64\\n:Attribute Information: 8x8 image of integer pixels in the range 0..16.\\n:Missing Attribute Values: None\\n:Creator: E. Alpaydin (alpaydin '@' boun.edu.tr)\\n:Date: July; 1998\\n\\nThis is a copy of the test set of the UCI ML hand-written digits datasets\\nhttps://archive.ics.uci.edu/ml/datasets/Optical+Recognition+of+Handwritten+Digits\\n\\nThe data set contains images of hand-written digits: 10 classes where\\neach class refers to a digit.\\n\\nPreprocessing programs made available by NIST were used to extract\\nnormalized bitmaps of handwritten digits from a preprinted form. From a\\ntotal of 43 people, 30 contributed to the training set and different 13\\nto the test set. 32x32 bitmaps are divided into nonoverlapping blocks of\\n4x4 and the number of on pixels are counted in each block. This generates\\nan input matrix of 8x8 where each element is an integer in the range\\n0..16. This reduces dimensionality and gives invariance to small\\ndistortions.\\n\\nFor info on NIST preprocessing routines, see M. D. Garris, J. L. Blue, G.\\nT. Candela, D. L. Dimmick, J. Geist, P. J. Grother, S. A. Janet, and C.\\nL. Wilson, NIST Form-Based Handprint Recognition System, NISTIR 5469,\\n1994.\\n\\n.. dropdown:: References\\n\\n  - C. Kaynak (1995) Methods of Combining Multiple Classifiers and Their\\n    Applications to Handwritten Digit Recognition, MSc Thesis, Institute of\\n    Graduate Studies in Science and Engineering, Bogazici University.\\n  - E. Alpaydin, C. Kaynak (1998) Cascading Classifiers, Kybernetika.\\n  - Ken Tang and Ponnuthurai N. Suganthan and Xi Yao and A. Kai Qin.\\n    Linear dimensionalityreduction using relevance weighted LDA. School of\\n    Electrical and Electronic Engineering Nanyang Technological University.\\n    2005.\\n  - Claudio Gentile. A New Approximate Maximal Margin Classification\\n    Algorithm. NIPS. 2000.\\n\"}"
            ]
          },
          "metadata": {},
          "execution_count": 12
        }
      ],
      "source": [
        "digits"
      ]
    },
    {
      "cell_type": "code",
      "execution_count": 13,
      "id": "06ae0d75",
      "metadata": {
        "id": "06ae0d75"
      },
      "outputs": [],
      "source": [
        "# creating a torch tensor:\n",
        "\n",
        "x = torch.Tensor(digits['data']) # data\n",
        "y = torch.Tensor(digits['target']) # labels"
      ]
    },
    {
      "cell_type": "code",
      "execution_count": 14,
      "id": "11d47053",
      "metadata": {
        "id": "11d47053",
        "outputId": "2dae141a-3ca3-4a60-e890-cf1a7e9758e7",
        "colab": {
          "base_uri": "https://localhost:8080/"
        }
      },
      "outputs": [
        {
          "output_type": "execute_result",
          "data": {
            "text/plain": [
              "tensor([0., 1., 2.,  ..., 8., 9., 8.])"
            ]
          },
          "metadata": {},
          "execution_count": 14
        }
      ],
      "source": [
        "y"
      ]
    },
    {
      "cell_type": "markdown",
      "id": "ff9ecb35",
      "metadata": {
        "id": "ff9ecb35"
      },
      "source": [
        "**<h3> Dataloader class**\n",
        "    \n",
        "https://pytorch.org/docs/stable/data.html#map-style-datasets"
      ]
    },
    {
      "cell_type": "markdown",
      "id": "94f955aa",
      "metadata": {
        "id": "94f955aa"
      },
      "source": [
        "At the heart of ```PyTorch``` data loading utility is the ```torch.utils.data.DataLoader``` class. It represents a Python iterable over a dataset\n",
        "\n",
        "```python\n",
        "DataLoader(dataset, batch_size=1, shuffle=False,\n",
        "           sampler=None,batch_sampler=None, num_workers=0,\n",
        "           collate_fn=None,pin_memory=False, drop_last=False,\n",
        "           timeout=0, worker_init_fn=None, *, prefetch_factor=2,\n",
        "           persistent_workers=False)\n",
        "```"
      ]
    },
    {
      "cell_type": "markdown",
      "id": "8d96636f",
      "metadata": {
        "id": "8d96636f"
      },
      "source": [
        "The most important argument of ```DataLoader``` constructor is ```dataset```, which indicates a dataset object to load data from. PyTorch supports two different types of datasets:\n",
        "\n",
        "- Map style datasets: Datasets that implement the ```__getitem__()``` and ```__len__()``` methods and are maps from keys to data samples.\n",
        "\n",
        "- Iterable style datasets: When reading from a stream of data.\n"
      ]
    },
    {
      "cell_type": "code",
      "execution_count": 15,
      "id": "33f3f386",
      "metadata": {
        "id": "33f3f386"
      },
      "outputs": [],
      "source": [
        "## Splitting the data into train and test\n",
        "from sklearn.model_selection import train_test_split\n",
        "X_train, X_test, y_train, y_test = train_test_split(x, y, test_size=0.2)\n",
        "\n",
        "# Split the train data into train and validation sets\n",
        "X_train, X_val, y_train, y_val = train_test_split(X_train, y_train, test_size=0.2)"
      ]
    },
    {
      "cell_type": "markdown",
      "id": "60779ddb",
      "metadata": {
        "id": "60779ddb"
      },
      "source": [
        "Let's check that our data is of torch data type"
      ]
    },
    {
      "cell_type": "code",
      "execution_count": 16,
      "id": "c3d9dcfe",
      "metadata": {
        "id": "c3d9dcfe",
        "outputId": "7498358e-e079-4582-ee8c-8df422c6b9af",
        "colab": {
          "base_uri": "https://localhost:8080/"
        }
      },
      "outputs": [
        {
          "output_type": "execute_result",
          "data": {
            "text/plain": [
              "torch.Tensor"
            ]
          },
          "metadata": {},
          "execution_count": 16
        }
      ],
      "source": [
        "type(X_train)"
      ]
    },
    {
      "cell_type": "code",
      "execution_count": null,
      "id": "9830a69d",
      "metadata": {
        "id": "9830a69d"
      },
      "outputs": [],
      "source": [
        "# Next the data needs to be wrapped into a Tensor dataset and then we can use a dataloader"
      ]
    },
    {
      "cell_type": "code",
      "execution_count": 18,
      "id": "efeccfd4",
      "metadata": {
        "id": "efeccfd4"
      },
      "outputs": [],
      "source": [
        "# Wrap your data in TensorDataset\n",
        "train_dataset = TensorDataset(X_train, y_train)\n",
        "test_dataset = TensorDataset(X_test, y_test)\n",
        "\n",
        "# Create the dataloaders\n",
        "batch_size = 128\n",
        "dataloader_train = DataLoader(train_dataset, batch_size=batch_size, shuffle=True)\n",
        "dataloader_test = DataLoader(test_dataset, batch_size=batch_size, shuffle=True)"
      ]
    },
    {
      "cell_type": "code",
      "execution_count": 19,
      "id": "47acbdc7",
      "metadata": {
        "id": "47acbdc7"
      },
      "outputs": [],
      "source": [
        "# Reshape train and test images from 8x8 to 1x64\n",
        "for i,data in enumerate(dataloader_train):\n",
        "    xtrain = data[0].view(-1,64)       # torch.Tensor.view() is equivalent to reshape\n",
        "    ytrain = data[1].type(torch.LongTensor)                    # train labels\n",
        "\n",
        "for i,data in enumerate(dataloader_test):\n",
        "    xtest = data[0].view(-1,64)     # test images, The size -1 is inferred from other dimensions\n",
        "    ytest = data[1].type(torch.LongTensor)                            # test labels"
      ]
    },
    {
      "cell_type": "code",
      "execution_count": 20,
      "id": "45b654ec",
      "metadata": {
        "id": "45b654ec"
      },
      "outputs": [],
      "source": [
        "flat_mnist_train       = TensorDataset(xtrain, ytrain)\n",
        "flat_dataloader_train  = DataLoader(flat_mnist_train, batch_size=256, shuffle=True)"
      ]
    },
    {
      "cell_type": "code",
      "execution_count": 21,
      "id": "af0faaaf",
      "metadata": {
        "id": "af0faaaf",
        "outputId": "794d718e-3354-4239-8702-1343e627a6fc",
        "colab": {
          "base_uri": "https://localhost:8080/"
        }
      },
      "outputs": [
        {
          "output_type": "execute_result",
          "data": {
            "text/plain": [
              "torch.Size([125, 64])"
            ]
          },
          "metadata": {},
          "execution_count": 21
        }
      ],
      "source": [
        "np.shape(xtrain)"
      ]
    },
    {
      "cell_type": "code",
      "execution_count": 22,
      "id": "c42b6143",
      "metadata": {
        "id": "c42b6143",
        "outputId": "77cc8454-182c-4215-d25c-892461c5d872",
        "colab": {
          "base_uri": "https://localhost:8080/"
        }
      },
      "outputs": [
        {
          "output_type": "execute_result",
          "data": {
            "text/plain": [
              "torch.Tensor"
            ]
          },
          "metadata": {},
          "execution_count": 22
        }
      ],
      "source": [
        "type(ytrain)"
      ]
    },
    {
      "cell_type": "markdown",
      "id": "03fee349",
      "metadata": {
        "id": "03fee349"
      },
      "source": [
        "## Defining the Neural network\n",
        "\n",
        "This is a 4 layer linear fully connected network. This is just an example\n",
        "Notice how the forward function is defined and how it uses the ReLu activation function."
      ]
    },
    {
      "cell_type": "code",
      "execution_count": 23,
      "id": "5decffcc",
      "metadata": {
        "id": "5decffcc"
      },
      "outputs": [],
      "source": [
        "import torch.nn as nn\n",
        "import torch.nn.functional as F"
      ]
    },
    {
      "cell_type": "code",
      "execution_count": 24,
      "id": "555148b1",
      "metadata": {
        "id": "555148b1"
      },
      "outputs": [],
      "source": [
        "class Neural_net(nn.Module):    # this class inherits from nn.Module\n",
        "    def __init__(self):\n",
        "        super(Neural_net, self).__init__() #this calls the constructor of the parent class nn.Module\n",
        "\n",
        "        # define network layers\n",
        "        self.fc1 = nn.Linear(64, 20)   # nn.Linear is a class for linear layers (16,12) are the constructor arguments\n",
        "        self.fc2 = nn.Linear(20, 20)\n",
        "        self.fc3 = nn.Linear(20, 20)\n",
        "        self.fc4 = nn.Linear(20, 10)\n",
        "        torch.manual_seed(4)           # generating numbers changes the state of the random number generator.\n",
        "                                       # we thus have to set the seed back to 2\n",
        "\n",
        "        # Notice the RELU activation function below\n",
        "    def forward(self,x):\n",
        "        x = torch.relu(self.fc1(x))  #\n",
        "        x = torch.relu(self.fc2(x))\n",
        "        x = torch.relu(self.fc3(x))\n",
        "        x = self.fc4(x)\n",
        "        return x"
      ]
    },
    {
      "cell_type": "code",
      "execution_count": 25,
      "id": "6f452c99",
      "metadata": {
        "id": "6f452c99"
      },
      "outputs": [],
      "source": [
        "net = Neural_net()"
      ]
    },
    {
      "cell_type": "code",
      "execution_count": 26,
      "id": "8644d743",
      "metadata": {
        "id": "8644d743"
      },
      "outputs": [],
      "source": [
        "def class_accuracy(output,y):\n",
        "    '''If np.argmax(out,axis=1)-y is non-zero, i.e. label y is 9 and prediction is 5 then\n",
        "       diff is incremented by 1, i.e. every time there is a mismatch between prediction and label.\n",
        "       The ratio diff/np.size(y) gives us the ratio of false predictions over the total number of datapoints.\n",
        "       One minus that gives the model accuracy.\n",
        "       '''\n",
        "    # we can't call numpy() on Tensors that requires grad. So, in order to compute diff (see below)\n",
        "    # we need to use tensor.detach().numpy()\n",
        "    output = output.cpu().detach().numpy()    # no need for the .cpu() here as we are working with cpu tensors\n",
        "    y      = y.cpu().detach().numpy()\n",
        "    diff   = np.count_nonzero(np.argmax(output,axis=1)-y) # np.argmax returns the index/indices of max value(s)\n",
        "                                                        # along specified axis\n",
        "    return (1-(diff/np.size(y)))*100"
      ]
    },
    {
      "cell_type": "markdown",
      "id": "039aca31",
      "metadata": {
        "id": "039aca31"
      },
      "source": [
        "## Important Model and training parameters"
      ]
    },
    {
      "cell_type": "markdown",
      "id": "f1425302",
      "metadata": {
        "id": "f1425302"
      },
      "source": [
        "### The optimiser\n",
        "\n",
        "The optimiser module gives access to a large number of standard optimisers that try and help minimise the loss."
      ]
    },
    {
      "cell_type": "code",
      "execution_count": 27,
      "id": "8bd67598",
      "metadata": {
        "id": "8bd67598"
      },
      "outputs": [],
      "source": [
        "import torch.optim as optim"
      ]
    },
    {
      "cell_type": "markdown",
      "id": "0cd2a611",
      "metadata": {
        "id": "0cd2a611"
      },
      "source": [
        "There are different options. Take a look at adam and sgd (stocastic gradient descent), both are very common choices"
      ]
    },
    {
      "cell_type": "markdown",
      "id": "19cdd7ca",
      "metadata": {
        "id": "19cdd7ca"
      },
      "source": [
        "### The loss\n",
        "\n",
        "Typically for a classification problem one would use a cross entrop loss, the [torch documentation](https://pytorch.org/docs/stable/generated/torch.nn.CrossEntropyLoss.html#torch.nn.CrossEntropyLoss) has some more details on this."
      ]
    },
    {
      "cell_type": "markdown",
      "id": "8ff51795",
      "metadata": {
        "id": "8ff51795"
      },
      "source": [
        "Cross entropy loss is generally defined for two probability distributions $p$ and $q$ as:\n",
        "\n",
        "$$H(p,q) =  –\\sum_{x \\in \\mathcal{X}} p(x)  \\log(q(x))$$\n",
        "\n",
        "For binary classification\n",
        "\n",
        "$$\\mathrm{loss}=−(y \\log(p)+(1−y) \\log(1−p))$$"
      ]
    },
    {
      "cell_type": "markdown",
      "id": "069b4de0",
      "metadata": {
        "id": "069b4de0"
      },
      "source": [
        "### The learning rate\n",
        "This is a parameter you set in your optimiser an you can play around with different values for it."
      ]
    },
    {
      "cell_type": "code",
      "execution_count": 28,
      "id": "1bda2b40",
      "metadata": {
        "id": "1bda2b40",
        "outputId": "435358d1-88db-4c8e-cc11-c270d31a31ba",
        "colab": {
          "base_uri": "https://localhost:8080/"
        }
      },
      "outputs": [
        {
          "output_type": "execute_result",
          "data": {
            "text/plain": [
              "Neural_net(\n",
              "  (fc1): Linear(in_features=64, out_features=20, bias=True)\n",
              "  (fc2): Linear(in_features=20, out_features=20, bias=True)\n",
              "  (fc3): Linear(in_features=20, out_features=20, bias=True)\n",
              "  (fc4): Linear(in_features=20, out_features=10, bias=True)\n",
              ")"
            ]
          },
          "metadata": {},
          "execution_count": 28
        }
      ],
      "source": [
        "net"
      ]
    },
    {
      "cell_type": "code",
      "execution_count": 29,
      "id": "6aedfb08",
      "metadata": {
        "id": "6aedfb08",
        "outputId": "7625a2c9-d674-48c3-bb5e-168544af46e9",
        "colab": {
          "base_uri": "https://localhost:8080/"
        }
      },
      "outputs": [
        {
          "output_type": "stream",
          "name": "stdout",
          "text": [
            "epoch 0/100, accuracy train 9.60 %, loss train, 2.34363, accuracy test 7.69 %, loss test, 2.30435\n",
            "epoch 1/100, accuracy train 9.60 %, loss train, 2.25952, accuracy test 15.38 %, loss test, 2.25562\n",
            "epoch 2/100, accuracy train 13.60 %, loss train, 2.21319, accuracy test 22.12 %, loss test, 2.21144\n",
            "epoch 3/100, accuracy train 21.60 %, loss train, 2.16640, accuracy test 29.81 %, loss test, 2.15994\n",
            "epoch 4/100, accuracy train 26.40 %, loss train, 2.11028, accuracy test 28.85 %, loss test, 2.09959\n",
            "epoch 5/100, accuracy train 31.20 %, loss train, 2.04803, accuracy test 35.58 %, loss test, 2.03633\n",
            "epoch 6/100, accuracy train 35.20 %, loss train, 1.98126, accuracy test 37.50 %, loss test, 1.97373\n",
            "epoch 7/100, accuracy train 33.60 %, loss train, 1.91527, accuracy test 42.31 %, loss test, 1.90679\n",
            "epoch 8/100, accuracy train 35.20 %, loss train, 1.84545, accuracy test 44.23 %, loss test, 1.83510\n",
            "epoch 9/100, accuracy train 41.60 %, loss train, 1.77001, accuracy test 51.92 %, loss test, 1.75612\n",
            "epoch 10/100, accuracy train 46.40 %, loss train, 1.69466, accuracy test 53.85 %, loss test, 1.66555\n",
            "epoch 11/100, accuracy train 44.00 %, loss train, 1.61598, accuracy test 54.81 %, loss test, 1.56781\n",
            "epoch 12/100, accuracy train 46.40 %, loss train, 1.53738, accuracy test 56.73 %, loss test, 1.47498\n",
            "epoch 13/100, accuracy train 48.00 %, loss train, 1.45886, accuracy test 55.77 %, loss test, 1.39708\n",
            "epoch 14/100, accuracy train 49.60 %, loss train, 1.38460, accuracy test 51.92 %, loss test, 1.33155\n",
            "epoch 15/100, accuracy train 53.60 %, loss train, 1.31609, accuracy test 55.77 %, loss test, 1.25247\n",
            "epoch 16/100, accuracy train 56.00 %, loss train, 1.24207, accuracy test 58.65 %, loss test, 1.16481\n",
            "epoch 17/100, accuracy train 60.00 %, loss train, 1.16702, accuracy test 58.65 %, loss test, 1.08295\n",
            "epoch 18/100, accuracy train 65.60 %, loss train, 1.09289, accuracy test 60.58 %, loss test, 1.00893\n",
            "epoch 19/100, accuracy train 67.20 %, loss train, 1.00792, accuracy test 69.23 %, loss test, 0.94299\n",
            "epoch 20/100, accuracy train 69.60 %, loss train, 0.92573, accuracy test 77.88 %, loss test, 0.87692\n",
            "epoch 21/100, accuracy train 75.20 %, loss train, 0.84970, accuracy test 79.81 %, loss test, 0.80967\n",
            "epoch 22/100, accuracy train 78.40 %, loss train, 0.77293, accuracy test 80.77 %, loss test, 0.75528\n",
            "epoch 23/100, accuracy train 85.60 %, loss train, 0.70513, accuracy test 84.62 %, loss test, 0.71093\n",
            "epoch 24/100, accuracy train 87.20 %, loss train, 0.63997, accuracy test 83.65 %, loss test, 0.66205\n",
            "epoch 25/100, accuracy train 87.20 %, loss train, 0.57183, accuracy test 82.69 %, loss test, 0.60814\n",
            "epoch 26/100, accuracy train 88.80 %, loss train, 0.50600, accuracy test 81.73 %, loss test, 0.56540\n",
            "epoch 27/100, accuracy train 88.80 %, loss train, 0.45046, accuracy test 82.69 %, loss test, 0.53732\n",
            "epoch 28/100, accuracy train 89.60 %, loss train, 0.40151, accuracy test 85.58 %, loss test, 0.51212\n",
            "epoch 29/100, accuracy train 90.40 %, loss train, 0.35614, accuracy test 84.62 %, loss test, 0.48686\n",
            "epoch 30/100, accuracy train 91.20 %, loss train, 0.31418, accuracy test 85.58 %, loss test, 0.46197\n",
            "epoch 31/100, accuracy train 92.80 %, loss train, 0.27730, accuracy test 84.62 %, loss test, 0.43595\n",
            "epoch 32/100, accuracy train 95.20 %, loss train, 0.24186, accuracy test 85.58 %, loss test, 0.41942\n",
            "epoch 33/100, accuracy train 96.80 %, loss train, 0.20896, accuracy test 85.58 %, loss test, 0.40002\n",
            "epoch 34/100, accuracy train 97.60 %, loss train, 0.18006, accuracy test 86.54 %, loss test, 0.37423\n",
            "epoch 35/100, accuracy train 98.40 %, loss train, 0.15508, accuracy test 86.54 %, loss test, 0.35686\n",
            "epoch 36/100, accuracy train 98.40 %, loss train, 0.13194, accuracy test 85.58 %, loss test, 0.35481\n",
            "epoch 37/100, accuracy train 98.40 %, loss train, 0.10980, accuracy test 84.62 %, loss test, 0.36758\n",
            "epoch 38/100, accuracy train 99.20 %, loss train, 0.09278, accuracy test 84.62 %, loss test, 0.38187\n",
            "epoch 39/100, accuracy train 99.20 %, loss train, 0.07976, accuracy test 85.58 %, loss test, 0.38640\n",
            "epoch 40/100, accuracy train 99.20 %, loss train, 0.06827, accuracy test 87.50 %, loss test, 0.37682\n",
            "epoch 41/100, accuracy train 99.20 %, loss train, 0.05799, accuracy test 87.50 %, loss test, 0.36309\n",
            "epoch 42/100, accuracy train 100.00 %, loss train, 0.04896, accuracy test 87.50 %, loss test, 0.36376\n",
            "epoch 43/100, accuracy train 100.00 %, loss train, 0.04164, accuracy test 84.62 %, loss test, 0.37646\n",
            "epoch 44/100, accuracy train 100.00 %, loss train, 0.03594, accuracy test 85.58 %, loss test, 0.39203\n",
            "epoch 45/100, accuracy train 100.00 %, loss train, 0.03066, accuracy test 86.54 %, loss test, 0.40312\n",
            "epoch 46/100, accuracy train 100.00 %, loss train, 0.02570, accuracy test 85.58 %, loss test, 0.41505\n",
            "epoch 47/100, accuracy train 100.00 %, loss train, 0.02157, accuracy test 83.65 %, loss test, 0.43163\n",
            "epoch 48/100, accuracy train 100.00 %, loss train, 0.01835, accuracy test 83.65 %, loss test, 0.45757\n",
            "epoch 49/100, accuracy train 100.00 %, loss train, 0.01576, accuracy test 81.73 %, loss test, 0.48827\n",
            "epoch 50/100, accuracy train 100.00 %, loss train, 0.01365, accuracy test 82.69 %, loss test, 0.51649\n",
            "epoch 51/100, accuracy train 100.00 %, loss train, 0.01189, accuracy test 82.69 %, loss test, 0.53837\n",
            "epoch 52/100, accuracy train 100.00 %, loss train, 0.01039, accuracy test 82.69 %, loss test, 0.55457\n",
            "epoch 53/100, accuracy train 100.00 %, loss train, 0.00905, accuracy test 83.65 %, loss test, 0.56771\n",
            "epoch 54/100, accuracy train 100.00 %, loss train, 0.00791, accuracy test 83.65 %, loss test, 0.57955\n",
            "epoch 55/100, accuracy train 100.00 %, loss train, 0.00698, accuracy test 82.69 %, loss test, 0.59401\n",
            "epoch 56/100, accuracy train 100.00 %, loss train, 0.00624, accuracy test 83.65 %, loss test, 0.61189\n",
            "epoch 57/100, accuracy train 100.00 %, loss train, 0.00562, accuracy test 83.65 %, loss test, 0.63198\n",
            "epoch 58/100, accuracy train 100.00 %, loss train, 0.00508, accuracy test 83.65 %, loss test, 0.65205\n",
            "epoch 59/100, accuracy train 100.00 %, loss train, 0.00459, accuracy test 82.69 %, loss test, 0.66910\n",
            "epoch 60/100, accuracy train 100.00 %, loss train, 0.00416, accuracy test 82.69 %, loss test, 0.68200\n",
            "epoch 61/100, accuracy train 100.00 %, loss train, 0.00378, accuracy test 82.69 %, loss test, 0.69027\n",
            "epoch 62/100, accuracy train 100.00 %, loss train, 0.00345, accuracy test 82.69 %, loss test, 0.69424\n",
            "epoch 63/100, accuracy train 100.00 %, loss train, 0.00317, accuracy test 82.69 %, loss test, 0.69491\n",
            "epoch 64/100, accuracy train 100.00 %, loss train, 0.00293, accuracy test 82.69 %, loss test, 0.69376\n",
            "epoch 65/100, accuracy train 100.00 %, loss train, 0.00272, accuracy test 82.69 %, loss test, 0.69269\n",
            "epoch 66/100, accuracy train 100.00 %, loss train, 0.00254, accuracy test 82.69 %, loss test, 0.69298\n",
            "epoch 67/100, accuracy train 100.00 %, loss train, 0.00238, accuracy test 82.69 %, loss test, 0.69535\n",
            "epoch 68/100, accuracy train 100.00 %, loss train, 0.00224, accuracy test 82.69 %, loss test, 0.69992\n",
            "epoch 69/100, accuracy train 100.00 %, loss train, 0.00211, accuracy test 82.69 %, loss test, 0.70655\n",
            "epoch 70/100, accuracy train 100.00 %, loss train, 0.00199, accuracy test 82.69 %, loss test, 0.71450\n",
            "epoch 71/100, accuracy train 100.00 %, loss train, 0.00188, accuracy test 82.69 %, loss test, 0.72270\n",
            "epoch 72/100, accuracy train 100.00 %, loss train, 0.00179, accuracy test 82.69 %, loss test, 0.73016\n",
            "epoch 73/100, accuracy train 100.00 %, loss train, 0.00170, accuracy test 82.69 %, loss test, 0.73630\n",
            "epoch 74/100, accuracy train 100.00 %, loss train, 0.00163, accuracy test 82.69 %, loss test, 0.74046\n",
            "epoch 75/100, accuracy train 100.00 %, loss train, 0.00156, accuracy test 82.69 %, loss test, 0.74215\n",
            "epoch 76/100, accuracy train 100.00 %, loss train, 0.00150, accuracy test 82.69 %, loss test, 0.74154\n",
            "epoch 77/100, accuracy train 100.00 %, loss train, 0.00144, accuracy test 82.69 %, loss test, 0.73888\n",
            "epoch 78/100, accuracy train 100.00 %, loss train, 0.00139, accuracy test 82.69 %, loss test, 0.73472\n",
            "epoch 79/100, accuracy train 100.00 %, loss train, 0.00134, accuracy test 82.69 %, loss test, 0.72976\n",
            "epoch 80/100, accuracy train 100.00 %, loss train, 0.00129, accuracy test 82.69 %, loss test, 0.72467\n",
            "epoch 81/100, accuracy train 100.00 %, loss train, 0.00125, accuracy test 82.69 %, loss test, 0.71997\n",
            "epoch 82/100, accuracy train 100.00 %, loss train, 0.00121, accuracy test 82.69 %, loss test, 0.71609\n",
            "epoch 83/100, accuracy train 100.00 %, loss train, 0.00117, accuracy test 82.69 %, loss test, 0.71331\n",
            "epoch 84/100, accuracy train 100.00 %, loss train, 0.00114, accuracy test 82.69 %, loss test, 0.71171\n",
            "epoch 85/100, accuracy train 100.00 %, loss train, 0.00111, accuracy test 84.62 %, loss test, 0.71124\n",
            "epoch 86/100, accuracy train 100.00 %, loss train, 0.00108, accuracy test 84.62 %, loss test, 0.71191\n",
            "epoch 87/100, accuracy train 100.00 %, loss train, 0.00105, accuracy test 84.62 %, loss test, 0.71349\n",
            "epoch 88/100, accuracy train 100.00 %, loss train, 0.00103, accuracy test 84.62 %, loss test, 0.71576\n",
            "epoch 89/100, accuracy train 100.00 %, loss train, 0.00100, accuracy test 84.62 %, loss test, 0.71840\n",
            "epoch 90/100, accuracy train 100.00 %, loss train, 0.00098, accuracy test 84.62 %, loss test, 0.72114\n",
            "epoch 91/100, accuracy train 100.00 %, loss train, 0.00096, accuracy test 84.62 %, loss test, 0.72379\n",
            "epoch 92/100, accuracy train 100.00 %, loss train, 0.00094, accuracy test 84.62 %, loss test, 0.72622\n",
            "epoch 93/100, accuracy train 100.00 %, loss train, 0.00092, accuracy test 84.62 %, loss test, 0.72833\n",
            "epoch 94/100, accuracy train 100.00 %, loss train, 0.00090, accuracy test 83.65 %, loss test, 0.73008\n",
            "epoch 95/100, accuracy train 100.00 %, loss train, 0.00088, accuracy test 83.65 %, loss test, 0.73146\n",
            "epoch 96/100, accuracy train 100.00 %, loss train, 0.00087, accuracy test 83.65 %, loss test, 0.73240\n",
            "epoch 97/100, accuracy train 100.00 %, loss train, 0.00085, accuracy test 83.65 %, loss test, 0.73296\n",
            "epoch 98/100, accuracy train 100.00 %, loss train, 0.00084, accuracy test 84.62 %, loss test, 0.73328\n",
            "epoch 99/100, accuracy train 100.00 %, loss train, 0.00082, accuracy test 84.62 %, loss test, 0.73343\n"
          ]
        }
      ],
      "source": [
        "num_epochs = 100\n",
        "\n",
        "# The criterion we want to optimse\n",
        "criterion = nn.CrossEntropyLoss()\n",
        "\n",
        "# Defining the optimiser\n",
        "# lr is the learnig rate\n",
        "optimizer = optim.Adam(net.parameters(), lr=5*10**-3)\n",
        "\n",
        "for epoch in range(num_epochs):\n",
        "    for i,data in enumerate(flat_dataloader_train):\n",
        "        # Load in the training datapoints\n",
        "        x=data[0]\n",
        "        y=data[1]\n",
        "        optimizer.zero_grad()\n",
        "        # The output of the current net\n",
        "        output = net(x)\n",
        "        loss = criterion(output,y)\n",
        "        loss.backward()\n",
        "        # Optimising one more step\n",
        "        optimizer.step()\n",
        "\n",
        "        if epoch % 1 == 0 and i==0:\n",
        "            # test the accuracy\n",
        "            acc        = class_accuracy(output,y)\n",
        "            outputtest = net(xtest)\n",
        "            loss_test  = criterion(outputtest,ytest)\n",
        "            acc_test   = class_accuracy(outputtest,ytest)\n",
        "            print(f'epoch {epoch}/{num_epochs}, accuracy train {acc:.2f} %, loss train, {loss.item():.5f}, accuracy test {acc_test:.2f} %, loss test, {loss_test.item():.5f}')"
      ]
    },
    {
      "cell_type": "markdown",
      "id": "6de2bc56",
      "metadata": {
        "id": "6de2bc56"
      },
      "source": [
        "<div class=\"alert alert-success\">\n",
        "<b>Task:</b> Train the neural network using 100 epochs and plot the quantities printed to screen.  </div>"
      ]
    },
    {
      "cell_type": "code",
      "execution_count": 35,
      "id": "116f7483",
      "metadata": {
        "id": "116f7483",
        "outputId": "74b01684-8263-4124-f1fb-aa39d788d157",
        "colab": {
          "base_uri": "https://localhost:8080/",
          "height": 1000
        }
      },
      "outputs": [
        {
          "output_type": "stream",
          "name": "stdout",
          "text": [
            "2.274426731350692\n",
            "epoch 0/100, accuracy train 11.20 %, loss train, 2.32492, accuracy test 19.23 %, loss test, 2.27443\n",
            "2.2238219707642313\n",
            "epoch 1/100, accuracy train 16.80 %, loss train, 2.26568, accuracy test 27.88 %, loss test, 2.22382\n",
            "2.1710896959188983\n",
            "epoch 2/100, accuracy train 21.60 %, loss train, 2.22211, accuracy test 29.81 %, loss test, 2.17109\n",
            "2.1138750963748407\n",
            "epoch 3/100, accuracy train 24.00 %, loss train, 2.17862, accuracy test 28.85 %, loss test, 2.11388\n",
            "2.0485490058055587\n",
            "epoch 4/100, accuracy train 23.20 %, loss train, 2.12721, accuracy test 29.81 %, loss test, 2.04855\n",
            "1.9756477731361703\n",
            "epoch 5/100, accuracy train 24.80 %, loss train, 2.06885, accuracy test 33.65 %, loss test, 1.97565\n",
            "1.895641984193232\n",
            "epoch 6/100, accuracy train 25.60 %, loss train, 2.00273, accuracy test 35.58 %, loss test, 1.89564\n",
            "1.8102789723026371\n",
            "epoch 7/100, accuracy train 27.20 %, loss train, 1.93173, accuracy test 37.50 %, loss test, 1.81028\n",
            "1.7214980465998908\n",
            "epoch 8/100, accuracy train 28.80 %, loss train, 1.85476, accuracy test 38.46 %, loss test, 1.72150\n",
            "1.633402092198963\n",
            "epoch 9/100, accuracy train 34.40 %, loss train, 1.77708, accuracy test 43.27 %, loss test, 1.63340\n",
            "1.5452550635823963\n",
            "epoch 10/100, accuracy train 40.80 %, loss train, 1.69543, accuracy test 50.96 %, loss test, 1.54526\n",
            "1.4613817245764573\n",
            "epoch 11/100, accuracy train 48.00 %, loss train, 1.60876, accuracy test 58.65 %, loss test, 1.46138\n",
            "1.3863646000379137\n",
            "epoch 12/100, accuracy train 51.20 %, loss train, 1.52213, accuracy test 61.54 %, loss test, 1.38636\n",
            "1.317239617813007\n",
            "epoch 13/100, accuracy train 56.80 %, loss train, 1.43253, accuracy test 65.38 %, loss test, 1.31724\n",
            "1.2370208325509515\n",
            "epoch 14/100, accuracy train 63.20 %, loss train, 1.33799, accuracy test 68.27 %, loss test, 1.23702\n",
            "1.1446363558850579\n",
            "epoch 15/100, accuracy train 66.40 %, loss train, 1.23608, accuracy test 72.12 %, loss test, 1.14464\n",
            "1.0480022583331312\n",
            "epoch 16/100, accuracy train 74.40 %, loss train, 1.12829, accuracy test 73.08 %, loss test, 1.04800\n",
            "0.9559273661804629\n",
            "epoch 17/100, accuracy train 77.60 %, loss train, 1.01825, accuracy test 76.92 %, loss test, 0.95593\n",
            "0.867943569995519\n",
            "epoch 18/100, accuracy train 80.00 %, loss train, 0.90736, accuracy test 78.85 %, loss test, 0.86794\n",
            "0.7809534213997777\n",
            "epoch 19/100, accuracy train 80.00 %, loss train, 0.79981, accuracy test 81.73 %, loss test, 0.78095\n",
            "0.7010121226195845\n",
            "epoch 20/100, accuracy train 83.20 %, loss train, 0.69859, accuracy test 83.65 %, loss test, 0.70101\n",
            "0.6412771394372359\n",
            "epoch 21/100, accuracy train 85.60 %, loss train, 0.60405, accuracy test 84.62 %, loss test, 0.64128\n",
            "0.6043770199072174\n",
            "epoch 22/100, accuracy train 88.80 %, loss train, 0.51334, accuracy test 83.65 %, loss test, 0.60438\n",
            "0.5550930312780687\n",
            "epoch 23/100, accuracy train 92.00 %, loss train, 0.42954, accuracy test 84.62 %, loss test, 0.55509\n",
            "0.5042899777566655\n",
            "epoch 24/100, accuracy train 92.80 %, loss train, 0.35532, accuracy test 84.62 %, loss test, 0.50429\n",
            "0.48333127134326415\n",
            "epoch 25/100, accuracy train 95.20 %, loss train, 0.29090, accuracy test 84.62 %, loss test, 0.48333\n",
            "0.45951516262413367\n",
            "epoch 26/100, accuracy train 96.00 %, loss train, 0.23948, accuracy test 84.62 %, loss test, 0.45952\n",
            "0.44317887874690687\n",
            "epoch 27/100, accuracy train 96.80 %, loss train, 0.19722, accuracy test 84.62 %, loss test, 0.44318\n",
            "0.4513483884996781\n",
            "epoch 28/100, accuracy train 96.80 %, loss train, 0.16123, accuracy test 84.62 %, loss test, 0.45135\n",
            "0.44573601965803056\n",
            "epoch 29/100, accuracy train 98.40 %, loss train, 0.12981, accuracy test 85.58 %, loss test, 0.44574\n",
            "0.4386246801385142\n",
            "epoch 30/100, accuracy train 100.00 %, loss train, 0.10295, accuracy test 86.54 %, loss test, 0.43862\n",
            "0.4373297877794222\n",
            "epoch 31/100, accuracy train 100.00 %, loss train, 0.08054, accuracy test 86.54 %, loss test, 0.43733\n",
            "0.4383397498794548\n",
            "epoch 32/100, accuracy train 100.00 %, loss train, 0.06250, accuracy test 86.54 %, loss test, 0.43834\n",
            "0.43964463184057906\n",
            "epoch 33/100, accuracy train 100.00 %, loss train, 0.04846, accuracy test 88.46 %, loss test, 0.43964\n",
            "0.44928244952822183\n",
            "epoch 34/100, accuracy train 100.00 %, loss train, 0.03741, accuracy test 88.46 %, loss test, 0.44928\n",
            "0.46782504169932193\n",
            "epoch 35/100, accuracy train 100.00 %, loss train, 0.02872, accuracy test 88.46 %, loss test, 0.46783\n",
            "0.4860157691307249\n",
            "epoch 36/100, accuracy train 100.00 %, loss train, 0.02209, accuracy test 88.46 %, loss test, 0.48602\n",
            "0.4928206985148715\n",
            "epoch 37/100, accuracy train 100.00 %, loss train, 0.01713, accuracy test 88.46 %, loss test, 0.49282\n",
            "0.49351394101424717\n",
            "epoch 38/100, accuracy train 100.00 %, loss train, 0.01324, accuracy test 89.42 %, loss test, 0.49351\n",
            "0.496128740484683\n",
            "epoch 39/100, accuracy train 100.00 %, loss train, 0.01030, accuracy test 89.42 %, loss test, 0.49613\n",
            "0.5026093804463732\n",
            "epoch 40/100, accuracy train 100.00 %, loss train, 0.00810, accuracy test 90.38 %, loss test, 0.50261\n",
            "0.5115137218891881\n",
            "epoch 41/100, accuracy train 100.00 %, loss train, 0.00647, accuracy test 91.35 %, loss test, 0.51151\n",
            "0.521124243413583\n",
            "epoch 42/100, accuracy train 100.00 %, loss train, 0.00524, accuracy test 91.35 %, loss test, 0.52112\n",
            "0.5294043688443849\n",
            "epoch 43/100, accuracy train 100.00 %, loss train, 0.00429, accuracy test 91.35 %, loss test, 0.52940\n",
            "0.5372301961337718\n",
            "epoch 44/100, accuracy train 100.00 %, loss train, 0.00355, accuracy test 91.35 %, loss test, 0.53723\n",
            "0.5451393549362419\n",
            "epoch 45/100, accuracy train 100.00 %, loss train, 0.00298, accuracy test 91.35 %, loss test, 0.54514\n",
            "0.5537591122521291\n",
            "epoch 46/100, accuracy train 100.00 %, loss train, 0.00252, accuracy test 91.35 %, loss test, 0.55376\n",
            "0.5634222660978744\n",
            "epoch 47/100, accuracy train 100.00 %, loss train, 0.00216, accuracy test 91.35 %, loss test, 0.56342\n",
            "0.5738097213244766\n",
            "epoch 48/100, accuracy train 100.00 %, loss train, 0.00186, accuracy test 91.35 %, loss test, 0.57381\n",
            "0.584425457792304\n",
            "epoch 49/100, accuracy train 100.00 %, loss train, 0.00162, accuracy test 91.35 %, loss test, 0.58443\n",
            "0.5947446631033728\n",
            "epoch 50/100, accuracy train 100.00 %, loss train, 0.00143, accuracy test 91.35 %, loss test, 0.59474\n",
            "0.6043097113134617\n",
            "epoch 51/100, accuracy train 100.00 %, loss train, 0.00128, accuracy test 91.35 %, loss test, 0.60431\n",
            "0.6128211699639868\n",
            "epoch 52/100, accuracy train 100.00 %, loss train, 0.00115, accuracy test 90.38 %, loss test, 0.61282\n",
            "0.6201858447472056\n",
            "epoch 53/100, accuracy train 100.00 %, loss train, 0.00104, accuracy test 90.38 %, loss test, 0.62019\n",
            "0.6264345958266611\n",
            "epoch 54/100, accuracy train 100.00 %, loss train, 0.00095, accuracy test 90.38 %, loss test, 0.62643\n",
            "0.6317070313043976\n",
            "epoch 55/100, accuracy train 100.00 %, loss train, 0.00087, accuracy test 90.38 %, loss test, 0.63171\n",
            "0.6361413864899517\n",
            "epoch 56/100, accuracy train 100.00 %, loss train, 0.00081, accuracy test 90.38 %, loss test, 0.63614\n",
            "0.6398984823408935\n",
            "epoch 57/100, accuracy train 100.00 %, loss train, 0.00076, accuracy test 90.38 %, loss test, 0.63990\n",
            "0.643119252048235\n",
            "epoch 58/100, accuracy train 100.00 %, loss train, 0.00071, accuracy test 90.38 %, loss test, 0.64312\n",
            "0.6459533939594357\n",
            "epoch 59/100, accuracy train 100.00 %, loss train, 0.00067, accuracy test 90.38 %, loss test, 0.64595\n",
            "0.6485272163513123\n",
            "epoch 60/100, accuracy train 100.00 %, loss train, 0.00063, accuracy test 90.38 %, loss test, 0.64853\n",
            "0.6509350336975525\n",
            "epoch 61/100, accuracy train 100.00 %, loss train, 0.00059, accuracy test 90.38 %, loss test, 0.65094\n",
            "0.653235966228957\n",
            "epoch 62/100, accuracy train 100.00 %, loss train, 0.00056, accuracy test 90.38 %, loss test, 0.65324\n",
            "0.6554377452642333\n",
            "epoch 63/100, accuracy train 100.00 %, loss train, 0.00054, accuracy test 90.38 %, loss test, 0.65544\n",
            "0.657557777213815\n",
            "epoch 64/100, accuracy train 100.00 %, loss train, 0.00051, accuracy test 90.38 %, loss test, 0.65756\n",
            "0.6595925609986696\n",
            "epoch 65/100, accuracy train 100.00 %, loss train, 0.00049, accuracy test 90.38 %, loss test, 0.65959\n",
            "0.6614966726885007\n",
            "epoch 66/100, accuracy train 100.00 %, loss train, 0.00047, accuracy test 90.38 %, loss test, 0.66150\n",
            "0.6633025503138761\n",
            "epoch 67/100, accuracy train 100.00 %, loss train, 0.00045, accuracy test 90.38 %, loss test, 0.66330\n",
            "0.6650092145177412\n",
            "epoch 68/100, accuracy train 100.00 %, loss train, 0.00044, accuracy test 90.38 %, loss test, 0.66501\n",
            "0.6665971493095817\n",
            "epoch 69/100, accuracy train 100.00 %, loss train, 0.00042, accuracy test 90.38 %, loss test, 0.66660\n",
            "0.6680279080763044\n",
            "epoch 70/100, accuracy train 100.00 %, loss train, 0.00041, accuracy test 90.38 %, loss test, 0.66803\n",
            "0.6693283722798314\n",
            "epoch 71/100, accuracy train 100.00 %, loss train, 0.00039, accuracy test 90.38 %, loss test, 0.66933\n",
            "0.6704992579124406\n",
            "epoch 72/100, accuracy train 100.00 %, loss train, 0.00038, accuracy test 90.38 %, loss test, 0.67050\n",
            "0.6715422828402914\n",
            "epoch 73/100, accuracy train 100.00 %, loss train, 0.00037, accuracy test 90.38 %, loss test, 0.67154\n",
            "0.6724615865832834\n",
            "epoch 74/100, accuracy train 100.00 %, loss train, 0.00036, accuracy test 90.38 %, loss test, 0.67246\n",
            "0.6732714200578928\n",
            "epoch 75/100, accuracy train 100.00 %, loss train, 0.00035, accuracy test 90.38 %, loss test, 0.67327\n",
            "0.6739826821294147\n",
            "epoch 76/100, accuracy train 100.00 %, loss train, 0.00035, accuracy test 90.38 %, loss test, 0.67398\n",
            "0.6746095845873619\n",
            "epoch 77/100, accuracy train 100.00 %, loss train, 0.00034, accuracy test 90.38 %, loss test, 0.67461\n",
            "0.6751688332306449\n",
            "epoch 78/100, accuracy train 100.00 %, loss train, 0.00033, accuracy test 90.38 %, loss test, 0.67517\n",
            "0.6756780450655786\n",
            "epoch 79/100, accuracy train 100.00 %, loss train, 0.00032, accuracy test 90.38 %, loss test, 0.67568\n",
            "0.6761532643010587\n",
            "epoch 80/100, accuracy train 100.00 %, loss train, 0.00032, accuracy test 90.38 %, loss test, 0.67615\n",
            "0.6766097276383432\n",
            "epoch 81/100, accuracy train 100.00 %, loss train, 0.00031, accuracy test 90.38 %, loss test, 0.67661\n",
            "0.6770811756445446\n",
            "epoch 82/100, accuracy train 100.00 %, loss train, 0.00030, accuracy test 90.38 %, loss test, 0.67708\n",
            "0.6775731197206067\n",
            "epoch 83/100, accuracy train 100.00 %, loss train, 0.00030, accuracy test 90.38 %, loss test, 0.67757\n",
            "0.6780792276058455\n",
            "epoch 84/100, accuracy train 100.00 %, loss train, 0.00029, accuracy test 90.38 %, loss test, 0.67808\n",
            "0.6785962594002571\n",
            "epoch 85/100, accuracy train 100.00 %, loss train, 0.00029, accuracy test 90.38 %, loss test, 0.67860\n",
            "0.6791198093320683\n",
            "epoch 86/100, accuracy train 100.00 %, loss train, 0.00029, accuracy test 90.38 %, loss test, 0.67912\n",
            "0.6796438695885534\n",
            "epoch 87/100, accuracy train 100.00 %, loss train, 0.00028, accuracy test 90.38 %, loss test, 0.67964\n",
            "0.6801617347127842\n",
            "epoch 88/100, accuracy train 100.00 %, loss train, 0.00028, accuracy test 90.38 %, loss test, 0.68016\n",
            "0.6806496946696465\n",
            "epoch 89/100, accuracy train 100.00 %, loss train, 0.00027, accuracy test 90.38 %, loss test, 0.68065\n",
            "0.6811340532414379\n",
            "epoch 90/100, accuracy train 100.00 %, loss train, 0.00027, accuracy test 90.38 %, loss test, 0.68113\n",
            "0.6816075354291736\n",
            "epoch 91/100, accuracy train 100.00 %, loss train, 0.00027, accuracy test 90.38 %, loss test, 0.68161\n",
            "0.6820622554805869\n",
            "epoch 92/100, accuracy train 100.00 %, loss train, 0.00026, accuracy test 90.38 %, loss test, 0.68206\n",
            "0.6824903148752681\n",
            "epoch 93/100, accuracy train 100.00 %, loss train, 0.00026, accuracy test 90.38 %, loss test, 0.68249\n",
            "0.6828393564133338\n",
            "epoch 94/100, accuracy train 100.00 %, loss train, 0.00026, accuracy test 90.38 %, loss test, 0.68284\n",
            "0.6831058124727988\n",
            "epoch 95/100, accuracy train 100.00 %, loss train, 0.00025, accuracy test 90.38 %, loss test, 0.68311\n",
            "0.6832986653277234\n",
            "epoch 96/100, accuracy train 100.00 %, loss train, 0.00025, accuracy test 90.38 %, loss test, 0.68330\n",
            "0.6834276429501998\n",
            "epoch 97/100, accuracy train 100.00 %, loss train, 0.00025, accuracy test 90.38 %, loss test, 0.68343\n",
            "0.683504217107662\n",
            "epoch 98/100, accuracy train 100.00 %, loss train, 0.00024, accuracy test 90.38 %, loss test, 0.68350\n",
            "0.6835409107126705\n",
            "epoch 99/100, accuracy train 100.00 %, loss train, 0.00024, accuracy test 90.38 %, loss test, 0.68354\n"
          ]
        },
        {
          "output_type": "display_data",
          "data": {
            "text/plain": [
              "<Figure size 640x480 with 1 Axes>"
            ],
            "image/png": "[encoded data removed]"
          },
          "metadata": {}
        }
      ],
      "source": [
        "# Your solution here:\n",
        "\n",
        "net = Neural_net()\n",
        "\n",
        "num_epochs = 100\n",
        "\n",
        "# The criterion we want to optimse\n",
        "criterion = nn.CrossEntropyLoss()\n",
        "\n",
        "optimizer = optim.Adam(net.parameters(), lr=5*10**-3)\n",
        "\n",
        "# List to collect training accuracy, test loss, and test accuracy at each epoch values\n",
        "info = []\n",
        "\n",
        "for epoch in range(num_epochs):\n",
        "    for i,data in enumerate(flat_dataloader_train):\n",
        "        # Load in the training datapoints\n",
        "        x=data[0]\n",
        "        y=data[1]\n",
        "        optimizer.zero_grad()\n",
        "        # The output of the current net\n",
        "        output = net(x)\n",
        "        loss = criterion(output,y)\n",
        "        loss.backward()\n",
        "        # Optimising one more step\n",
        "        optimizer.step()\n",
        "\n",
        "        # i==0 -> ensures following are reported only once per epoch\n",
        "        # acc -> computest training accuracy\n",
        "        # loss_test converted to numpy float so easier to store -> computes test loss\n",
        "        # acc_test -> comp. test accuracy\n",
        "        if epoch % 1 == 0 and i==0:\n",
        "            # test the accuracy\n",
        "            acc        = class_accuracy(output,y)\n",
        "            outputtest = net(xtest)\n",
        "            loss_test  = criterion(outputtest,ytest)\n",
        "            acc_test   = class_accuracy(outputtest,ytest)\n",
        "            print(float(loss_test))\n",
        "\n",
        "            # Store the values -> all added to info list using append\n",
        "            info.append([acc, float(loss_test), acc_test])\n",
        "            print(f'epoch {epoch}/{num_epochs}, accuracy train {acc:.2f} %, loss train, {loss.item():.5f}, accuracy test {acc_test:.2f} %, loss test, {loss_test.item():.5f}')\n",
        "\n",
        "# convert list to numpy array for easier slicing & plotting\n",
        "info = np.array(info)\n",
        "\n",
        "# create linearly spaced array from 0 to num_epochs w/ same length as info -> one value per epoch stored ensures x-axis aligns w/ epoch n°\n",
        "epochs = np.linspace(0, num_epochs, len(info))\n",
        "\n",
        "plt.plot(epochs, info[:, 0], label='Training Accuracy')\n",
        "plt.plot(epochs, info[:, 1], label='Test Loss')\n",
        "plt.plot(epochs, info[:, 2], label='Test Accuracy')\n",
        "plt.legend()\n",
        "plt.show()\n",
        "\n",
        "#plt.tight_layout()"
      ]
    },
    {
      "cell_type": "markdown",
      "id": "9e23925b",
      "metadata": {
        "id": "9e23925b"
      },
      "source": [
        "<details>\n",
        "    <summary> <mark> Solution: </mark> </summary>\n",
        "\n",
        "```Python\n",
        "# Let's reinisalise the network\n",
        "net = Neural_net()\n",
        "\n",
        "num_epochs = 100\n",
        "\n",
        "# The criterion we want to optimse\n",
        "criterion = nn.CrossEntropyLoss()\n",
        "\n",
        "# Defining the optimiser\n",
        "# lr is the learnig rate\n",
        "optimizer = optim.Adam(net.parameters(), lr=5*10**-3)\n",
        "\n",
        "# list where we want to store the training information\n",
        "info = []\n",
        "for epoch in range(num_epochs):\n",
        "    for i,data in enumerate(flat_dataloader_train):\n",
        "        # Load in the training datapoints\n",
        "        x=data[0]                 \n",
        "        y=data[1]   \n",
        "        optimizer.zero_grad()\n",
        "        # The output of the current net\n",
        "        output = net(x)\n",
        "        loss = criterion(output,y)\n",
        "        loss.backward()\n",
        "        # Optimising one more step\n",
        "        optimizer.step()\n",
        "                   \n",
        "        if epoch % 1 == 0 and i==0:\n",
        "            # test the accuracy\n",
        "            acc        = class_accuracy(output,y)\n",
        "            outputtest = net(xtest)\n",
        "            loss_test  = criterion(outputtest,ytest).detach().cpu().numpy()\n",
        "            acc_test   = class_accuracy(outputtest,ytest)\n",
        "            print(float(loss_test))\n",
        "            info.append([acc, float(loss_test),acc_test])\n",
        "            print(f'epoch {epoch}/{num_epochs}, accuracy train {acc:.2f} %, loss train, {loss.item():.5f}, accuracy test {acc_test:.2f} %, loss test, {loss_test.item():.5f}')\n",
        "info = np.array(info)\n",
        "epochs = np.linspace(0,num_epochs,len(info))\n",
        "plt.plot(epochs, info[:,0], label='accuracy')\n",
        "plt.plot(epochs, info[:,1], label='loss_test')\n",
        "plt.plot(epochs, info[:,2], label='accuracy test')\n",
        "plt.legend()\n",
        "```\n",
        "\n",
        "\n",
        "</details>"
      ]
    },
    {
      "cell_type": "markdown",
      "id": "c9549c91",
      "metadata": {
        "id": "c9549c91"
      },
      "source": [
        "## END\n",
        "------"
      ]
    }
  ],
  "metadata": {
    "kernelspec": {
      "display_name": "Python 3 (ipykernel)",
      "language": "python",
      "name": "python3"
    },
    "language_info": {
      "codemirror_mode": {
        "name": "ipython",
        "version": 3
      },
      "file_extension": ".py",
      "mimetype": "text/x-python",
      "name": "python",
      "nbconvert_exporter": "python",
      "pygments_lexer": "ipython3",
      "version": "3.12.5"
    },
    "colab": {
      "provenance": []
    }
  },
  "nbformat": 4,
  "nbformat_minor": 5
}